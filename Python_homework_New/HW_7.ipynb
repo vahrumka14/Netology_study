{
 "cells": [
  {
   "cell_type": "markdown",
   "metadata": {},
   "source": [
    "# Исключения и обработка ошибок"
   ]
  },
  {
   "cell_type": "markdown",
   "metadata": {},
   "source": [
    "Имеется список отсортированных по возрастанию целых чисел data. А также целое число n, которое лежит между минимальным и максимальным значениями из списка data. Вам необходимо определить минимальное ближайшее число к n из списка data.\n",
    "\n",
    "Пример:\n",
    "\n",
    "data = [1, 7, 17, 23, 27, 35, 65]\n",
    "n = 20\n",
    "Ответ: 17\n",
    "\n",
    "Подобные алгоритмы используются для классификации объекта по значению одной метрики. Например, это может пригодиться для классификации учащегося по его возрасту:\n",
    "\n",
    "ages = {\n",
    "    1: 'дети',\n",
    "    7: 'школьники',\n",
    "    17: 'студенты',\n",
    "    23: 'аспиранты',\n",
    "    27: 'молодые ученые',\n",
    "    35: 'преподаватели',\n",
    "    65: 'пенсионеры',\n",
    "}\n",
    "Итого напишите функцию, которая по списку data и числу n возвращает минимальное ближайшее к n число. Список может быть любым, поэтому не рассчитывайте на написание цепочки условий через if.\n",
    "\n",
    "Бонусные варианты:\n",
    "\n",
    "Рассмотрите ситуацию, в которой при фиксированном списке data вам необходимо классифицировать большое количество пользователей с разными значениями n. Например, вам необходимо классифицировать базу из 100 миллионов человек по возрастам по словарю ages из примера выше. Можно ли в таком случае ускорить проход по такому числу пользователей?\n",
    "\n",
    "Если вы решали основное задание перебором элементов списка data и сравнением с n, то сложность такого алгоритма O(N). Т. е. при увеличении числа элементов списка data в N раз время работы алгоритма тоже вырастет в N раз. Попробуйте ускорить этот алгоритм. Например, с помощью аналога бинарного поиска."
   ]
  },
  {
   "cell_type": "code",
   "execution_count": 1,
   "metadata": {},
   "outputs": [],
   "source": [
    "data = [1, 7, 17, 23, 27, 35, 65]\n",
    "n = 20"
   ]
  },
  {
   "cell_type": "markdown",
   "metadata": {},
   "source": [
    "Немного запуталась, что надо конкретно найти, поэтому есть 2 варианта. \n",
    "1-ый вариант: выводит ближайшее число по дельте, оно может быть больше нашего n, выводит минимальное только при равной дельте;\n",
    "2-ой: выводит минимальное число, при этом дельта может быть и не минимальна"
   ]
  },
  {
   "cell_type": "code",
   "execution_count": 2,
   "metadata": {},
   "outputs": [],
   "source": [
    "def numbers(number):\n",
    "    l = []\n",
    "    for i in data:\n",
    "        l.append((abs(number-i),i))\n",
    "    print(f\"Минимальное ближайшее число = {min(l)[1]}\")"
   ]
  },
  {
   "cell_type": "code",
   "execution_count": 3,
   "metadata": {},
   "outputs": [
    {
     "name": "stdout",
     "output_type": "stream",
     "text": [
      "Минимальное ближайшее число = 17\n"
     ]
    }
   ],
   "source": [
    "numbers(n)"
   ]
  },
  {
   "cell_type": "code",
   "execution_count": 4,
   "metadata": {},
   "outputs": [],
   "source": [
    "def numbers_2(number):\n",
    "    for i in data:\n",
    "        if number==i:\n",
    "            print(f\"Минимальное ближайшее число = {number}\")\n",
    "            break\n",
    "        elif number<i:\n",
    "            print(f\"Минимальное ближайшее число = {data[data.index(i)-1]}\")\n",
    "            break"
   ]
  },
  {
   "cell_type": "code",
   "execution_count": 5,
   "metadata": {},
   "outputs": [
    {
     "name": "stdout",
     "output_type": "stream",
     "text": [
      "Минимальное ближайшее число = 17\n"
     ]
    }
   ],
   "source": [
    "numbers_2(n)"
   ]
  },
  {
   "cell_type": "code",
   "execution_count": 6,
   "metadata": {},
   "outputs": [],
   "source": [
    "data1 = [ 1, 7, 17, 23, 27, 35, 65, 71, 2, 54, 100]"
   ]
  },
  {
   "cell_type": "code",
   "execution_count": 7,
   "metadata": {},
   "outputs": [],
   "source": [
    "ages = {\n",
    "    1: 'дети',\n",
    "    7: 'школьники',\n",
    "    17: 'студенты',\n",
    "    23: 'аспиранты',\n",
    "    27: 'молодые ученые',\n",
    "    35: 'преподаватели',\n",
    "    65: 'пенсионеры',\n",
    "}"
   ]
  },
  {
   "cell_type": "code",
   "execution_count": 8,
   "metadata": {},
   "outputs": [],
   "source": [
    "def classification(spisok):\n",
    "    d = {}\n",
    "    i = 1\n",
    "    while i <= 100:\n",
    "        if i < 7:\n",
    "            d[i] = ages[1]\n",
    "        elif i < 17:\n",
    "            d[i] = ages[7]\n",
    "        elif i < 23:\n",
    "            d[i] = ages[17]\n",
    "        elif i < 27:\n",
    "            d[i] = ages[23]\n",
    "        elif i < 35:\n",
    "            d[i] = ages[27]\n",
    "        elif i < 65:\n",
    "            d[i] = ages[35]\n",
    "        else:\n",
    "            d[i] = ages[65]\n",
    "        i+=1\n",
    "    l = []\n",
    "    for i in spisok:\n",
    "        if i in d:\n",
    "            l.append(d[i])\n",
    "    print(spisok, l)"
   ]
  },
  {
   "cell_type": "code",
   "execution_count": 9,
   "metadata": {},
   "outputs": [
    {
     "name": "stdout",
     "output_type": "stream",
     "text": [
      "[1, 7, 17, 23, 27, 35, 65, 71, 2, 54, 100] ['дети', 'школьники', 'студенты', 'аспиранты', 'молодые ученые', 'преподаватели', 'пенсионеры', 'пенсионеры', 'дети', 'преподаватели', 'пенсионеры']\n"
     ]
    }
   ],
   "source": [
    "classification(data1)"
   ]
  },
  {
   "cell_type": "code",
   "execution_count": null,
   "metadata": {},
   "outputs": [],
   "source": []
  }
 ],
 "metadata": {
  "kernelspec": {
   "display_name": "Python 3",
   "language": "python",
   "name": "python3"
  },
  "language_info": {
   "codemirror_mode": {
    "name": "ipython",
    "version": 3
   },
   "file_extension": ".py",
   "mimetype": "text/x-python",
   "name": "python",
   "nbconvert_exporter": "python",
   "pygments_lexer": "ipython3",
   "version": "3.7.3"
  }
 },
 "nbformat": 4,
 "nbformat_minor": 2
}
