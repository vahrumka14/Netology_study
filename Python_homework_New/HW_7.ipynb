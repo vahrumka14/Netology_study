{
 "cells": [
  {
   "cell_type": "markdown",
   "metadata": {},
   "source": [
    "# Исключения и обработка ошибок"
   ]
  },
  {
   "cell_type": "markdown",
   "metadata": {},
   "source": [
    "Задание 1\n",
    "Напишите функцию date_range, которая возвращает список дней между датами start_date и end_date. Даты должны вводиться в формате YYYY-MM-DD."
   ]
  },
  {
   "cell_type": "code",
   "execution_count": 1,
   "metadata": {},
   "outputs": [],
   "source": [
    "from datetime import datetime\n",
    "from datetime import timedelta"
   ]
  },
  {
   "cell_type": "code",
   "execution_count": 2,
   "metadata": {},
   "outputs": [],
   "source": [
    "def date_range(start_date, end_date):\n",
    "    l = []\n",
    "    start_date_datetime = datetime.strptime(start_date, '%Y-%m-%d')\n",
    "    end_date_datetime = datetime.strptime(end_date, '%Y-%m-%d')\n",
    "    while start_date_datetime < end_date_datetime:\n",
    "        l.append(start_date_datetime.strftime('%Y-%m-%d'))\n",
    "        start_date_datetime += timedelta(days=1)\n",
    "    return(l)"
   ]
  },
  {
   "cell_type": "code",
   "execution_count": 3,
   "metadata": {},
   "outputs": [
    {
     "data": {
      "text/plain": [
       "['2020-05-05', '2020-05-06', '2020-05-07']"
      ]
     },
     "execution_count": 3,
     "metadata": {},
     "output_type": "execute_result"
    }
   ],
   "source": [
    "date_range('2020-05-05', '2020-05-08')"
   ]
  },
  {
   "cell_type": "markdown",
   "metadata": {},
   "source": [
    "Задание 2\n",
    "Дополните функцию из первого задания проверкой на корректность дат. В случае неверного формата или если start_date > end_date должен возвращаться пустой список."
   ]
  },
  {
   "cell_type": "code",
   "execution_count": 4,
   "metadata": {},
   "outputs": [],
   "source": [
    "def date_range_new(start_date, end_date):\n",
    "    l = []\n",
    "    try:\n",
    "        if start_date < end_date:\n",
    "            start_date_datetime = datetime.strptime(start_date, '%Y-%m-%d')\n",
    "            end_date_datetime = datetime.strptime(end_date, '%Y-%m-%d')\n",
    "            while start_date_datetime < end_date_datetime:\n",
    "                l.append(start_date_datetime.strftime('%Y-%m-%d'))\n",
    "                start_date_datetime += timedelta(days=1)\n",
    "            return(l)\n",
    "        else:\n",
    "            return(l)  \n",
    "    except ValueError:\n",
    "        return(l)"
   ]
  },
  {
   "cell_type": "code",
   "execution_count": 5,
   "metadata": {},
   "outputs": [
    {
     "data": {
      "text/plain": [
       "['2020-05-05']"
      ]
     },
     "execution_count": 5,
     "metadata": {},
     "output_type": "execute_result"
    }
   ],
   "source": [
    "date_range_new('2020-05-05', '2020-05-06')"
   ]
  },
  {
   "cell_type": "code",
   "execution_count": 6,
   "metadata": {},
   "outputs": [
    {
     "data": {
      "text/plain": [
       "[]"
      ]
     },
     "execution_count": 6,
     "metadata": {},
     "output_type": "execute_result"
    }
   ],
   "source": [
    "date_range_new('2020-15-05', '2020-05-06')"
   ]
  },
  {
   "cell_type": "code",
   "execution_count": 7,
   "metadata": {},
   "outputs": [
    {
     "data": {
      "text/plain": [
       "[]"
      ]
     },
     "execution_count": 7,
     "metadata": {},
     "output_type": "execute_result"
    }
   ],
   "source": [
    "date_range_new('2020-05-35', '2020-05-06')"
   ]
  },
  {
   "cell_type": "markdown",
   "metadata": {},
   "source": [
    "Задание 3\n",
    "Дан поток дат в формате YYYY-MM-DD, в которых встречаются некорректные значения:\n",
    "stream = ['2018-04-02', '2018-02-29', '2018-19-02']\n",
    "\n",
    "Напишите функцию, которая проверяет эти даты на корректность. Т. е. для каждой даты возвращает True (дата корректна) или False (некорректная дата)."
   ]
  },
  {
   "cell_type": "code",
   "execution_count": 8,
   "metadata": {},
   "outputs": [],
   "source": [
    "def correct_date(stream):\n",
    "    for i in stream:\n",
    "        try:\n",
    "            i_new = datetime.strptime(i, '%Y-%m-%d')\n",
    "            print(i, \"True\")\n",
    "        except ValueError:\n",
    "            print(i, \"False\")"
   ]
  },
  {
   "cell_type": "code",
   "execution_count": 9,
   "metadata": {},
   "outputs": [
    {
     "name": "stdout",
     "output_type": "stream",
     "text": [
      "2018-04-02 True\n",
      "2018-02-29 False\n",
      "2018-19-02 False\n",
      "2018-10-02 True\n"
     ]
    }
   ],
   "source": [
    "correct_date(['2018-04-02', '2018-02-29', '2018-19-02', '2018-10-02'])"
   ]
  },
  {
   "cell_type": "markdown",
   "metadata": {},
   "source": [
    "Задание 4 (бонусное)\n",
    "Ваш коллега прислал код функции\n",
    "При однократном вызове этой функции все работает корректно:\n",
    "delete_and_return_last_user(1)\n",
    "‘A101’\n",
    "Однако, при повторном вызове получается ошибка IndexError: list index out of range.\n",
    "Задание:\n",
    "Что значит ошибка list index out of range?\n",
    "Почему при первом запуске функция работает корректно, а при втором - нет?"
   ]
  },
  {
   "cell_type": "code",
   "execution_count": 10,
   "metadata": {},
   "outputs": [],
   "source": [
    "DEFAULT_USER_COUNT = 3\n",
    "\n",
    "def delete_and_return_last_user(region, default_list=['A100', 'A101', 'A102']):\n",
    "    \"\"\"\n",
    "    Удаляет из списка default_list последнего пользователя\n",
    "    и возвращает ID нового последнего пользователя.\n",
    "    \"\"\"\n",
    "    element_to_delete = default_list[-1]\n",
    "    default_list.remove(element_to_delete)\n",
    "    print(default_list)\n",
    "    return default_list[DEFAULT_USER_COUNT-2]"
   ]
  },
  {
   "cell_type": "code",
   "execution_count": 12,
   "metadata": {},
   "outputs": [
    {
     "name": "stdout",
     "output_type": "stream",
     "text": [
      "['A100']\n"
     ]
    },
    {
     "ename": "IndexError",
     "evalue": "list index out of range",
     "output_type": "error",
     "traceback": [
      "\u001b[0;31m---------------------------------------------------------------------------\u001b[0m",
      "\u001b[0;31mIndexError\u001b[0m                                Traceback (most recent call last)",
      "\u001b[0;32m<ipython-input-12-bfb6c4f8c48e>\u001b[0m in \u001b[0;36m<module>\u001b[0;34m\u001b[0m\n\u001b[0;32m----> 1\u001b[0;31m \u001b[0mdelete_and_return_last_user\u001b[0m\u001b[0;34m(\u001b[0m\u001b[0;36m1\u001b[0m\u001b[0;34m)\u001b[0m\u001b[0;34m\u001b[0m\u001b[0;34m\u001b[0m\u001b[0m\n\u001b[0m",
      "\u001b[0;32m<ipython-input-10-fddc7cafb67c>\u001b[0m in \u001b[0;36mdelete_and_return_last_user\u001b[0;34m(region, default_list)\u001b[0m\n\u001b[1;32m      9\u001b[0m     \u001b[0mdefault_list\u001b[0m\u001b[0;34m.\u001b[0m\u001b[0mremove\u001b[0m\u001b[0;34m(\u001b[0m\u001b[0melement_to_delete\u001b[0m\u001b[0;34m)\u001b[0m\u001b[0;34m\u001b[0m\u001b[0;34m\u001b[0m\u001b[0m\n\u001b[1;32m     10\u001b[0m     \u001b[0mprint\u001b[0m\u001b[0;34m(\u001b[0m\u001b[0mdefault_list\u001b[0m\u001b[0;34m)\u001b[0m\u001b[0;34m\u001b[0m\u001b[0;34m\u001b[0m\u001b[0m\n\u001b[0;32m---> 11\u001b[0;31m     \u001b[0;32mreturn\u001b[0m \u001b[0mdefault_list\u001b[0m\u001b[0;34m[\u001b[0m\u001b[0mDEFAULT_USER_COUNT\u001b[0m\u001b[0;34m-\u001b[0m\u001b[0;36m2\u001b[0m\u001b[0;34m]\u001b[0m\u001b[0;34m\u001b[0m\u001b[0;34m\u001b[0m\u001b[0m\n\u001b[0m",
      "\u001b[0;31mIndexError\u001b[0m: list index out of range"
     ]
    }
   ],
   "source": [
    "delete_and_return_last_user(1)"
   ]
  },
  {
   "cell_type": "code",
   "execution_count": 13,
   "metadata": {},
   "outputs": [],
   "source": [
    "# 1. Ошибка list index out of range значит, что мы пытаемся обратиться к элементу по индексу, \n",
    "# но наш индекс выходит за пределы списка"
   ]
  },
  {
   "cell_type": "code",
   "execution_count": 14,
   "metadata": {},
   "outputs": [],
   "source": [
    "# 2. Наш список default_list на второй итерации после remove состоит только из одного элемента 'A100' (0 элемент), \n",
    "# а мы пытаемся в return вернуть элемент под номером 1 из списка, хотя его у нас в списке нет. "
   ]
  },
  {
   "cell_type": "markdown",
   "metadata": {},
   "source": [
    "Задание. Имеется список отсортированных по возрастанию целых чисел data. А также целое число n, которое лежит между минимальным и максимальным значениями из списка data. Вам необходимо определить минимальное ближайшее число к n из списка data.\n",
    "\n",
    "Пример:\n",
    "\n",
    "data = [1, 7, 17, 23, 27, 35, 65]\n",
    "n = 20\n",
    "Ответ: 17\n",
    "\n",
    "Подобные алгоритмы используются для классификации объекта по значению одной метрики. Например, это может пригодиться для классификации учащегося по его возрасту:\n",
    "\n",
    "ages = {\n",
    "    1: 'дети',\n",
    "    7: 'школьники',\n",
    "    17: 'студенты',\n",
    "    23: 'аспиранты',\n",
    "    27: 'молодые ученые',\n",
    "    35: 'преподаватели',\n",
    "    65: 'пенсионеры',\n",
    "}\n",
    "Итого напишите функцию, которая по списку data и числу n возвращает минимальное ближайшее к n число. Список может быть любым, поэтому не рассчитывайте на написание цепочки условий через if.\n",
    "\n",
    "Бонусные варианты:\n",
    "\n",
    "Рассмотрите ситуацию, в которой при фиксированном списке data вам необходимо классифицировать большое количество пользователей с разными значениями n. Например, вам необходимо классифицировать базу из 100 миллионов человек по возрастам по словарю ages из примера выше. Можно ли в таком случае ускорить проход по такому числу пользователей?\n",
    "\n",
    "Если вы решали основное задание перебором элементов списка data и сравнением с n, то сложность такого алгоритма O(N). Т. е. при увеличении числа элементов списка data в N раз время работы алгоритма тоже вырастет в N раз. Попробуйте ускорить этот алгоритм. Например, с помощью аналога бинарного поиска."
   ]
  },
  {
   "cell_type": "code",
   "execution_count": 15,
   "metadata": {},
   "outputs": [],
   "source": [
    "data = [1, 7, 17, 23, 27, 35, 65]\n",
    "n = 20"
   ]
  },
  {
   "cell_type": "markdown",
   "metadata": {},
   "source": [
    "Немного запуталась, что надо конкретно найти, поэтому есть 2 варианта. \n",
    "1-ый вариант: выводит ближайшее число по дельте, оно может быть больше нашего n, выводит минимальное только при равной дельте;\n",
    "2-ой: выводит минимальное число, при этом дельта может быть и не минимальна"
   ]
  },
  {
   "cell_type": "code",
   "execution_count": 16,
   "metadata": {},
   "outputs": [],
   "source": [
    "def numbers(number, list_):\n",
    "    l = []\n",
    "    for i in list_:\n",
    "        l.append((abs(number-i),i))\n",
    "    print(f\"Минимальное ближайшее число = {min(l)[1]}\")"
   ]
  },
  {
   "cell_type": "code",
   "execution_count": 17,
   "metadata": {},
   "outputs": [
    {
     "name": "stdout",
     "output_type": "stream",
     "text": [
      "Минимальное ближайшее число = 17\n"
     ]
    }
   ],
   "source": [
    "numbers(n, data)"
   ]
  },
  {
   "cell_type": "code",
   "execution_count": 18,
   "metadata": {},
   "outputs": [],
   "source": [
    "def numbers_2(number, list_):\n",
    "    for i in list_:\n",
    "        if number==i:\n",
    "            print(f\"Минимальное ближайшее число = {number}\")\n",
    "            break\n",
    "        elif number<i:\n",
    "            print(f\"Минимальное ближайшее число = {list_[list_.index(i)-1]}\")\n",
    "            break"
   ]
  },
  {
   "cell_type": "code",
   "execution_count": 19,
   "metadata": {},
   "outputs": [
    {
     "name": "stdout",
     "output_type": "stream",
     "text": [
      "Минимальное ближайшее число = 17\n"
     ]
    }
   ],
   "source": [
    "numbers_2(n, data)"
   ]
  },
  {
   "cell_type": "code",
   "execution_count": 20,
   "metadata": {},
   "outputs": [],
   "source": [
    "data1 = [ 1, 7, 17, 23, 27, 35, 65, 71, 2, 54, 100]"
   ]
  },
  {
   "cell_type": "code",
   "execution_count": 21,
   "metadata": {},
   "outputs": [],
   "source": [
    "ages = {\n",
    "    1: 'дети',\n",
    "    7: 'школьники',\n",
    "    17: 'студенты',\n",
    "    23: 'аспиранты',\n",
    "    27: 'молодые ученые',\n",
    "    35: 'преподаватели',\n",
    "    65: 'пенсионеры',\n",
    "}"
   ]
  },
  {
   "cell_type": "code",
   "execution_count": 22,
   "metadata": {},
   "outputs": [],
   "source": [
    "def classification(spisok):\n",
    "    d = {}\n",
    "    i = 1\n",
    "    while i <= 100:\n",
    "        if i < 7:\n",
    "            d[i] = ages[1]\n",
    "        elif i < 17:\n",
    "            d[i] = ages[7]\n",
    "        elif i < 23:\n",
    "            d[i] = ages[17]\n",
    "        elif i < 27:\n",
    "            d[i] = ages[23]\n",
    "        elif i < 35:\n",
    "            d[i] = ages[27]\n",
    "        elif i < 65:\n",
    "            d[i] = ages[35]\n",
    "        else:\n",
    "            d[i] = ages[65]\n",
    "        i+=1\n",
    "    l = []\n",
    "    for i in spisok:\n",
    "        if i in d:\n",
    "            l.append(d[i])\n",
    "    print(spisok, l)"
   ]
  },
  {
   "cell_type": "code",
   "execution_count": 23,
   "metadata": {},
   "outputs": [
    {
     "name": "stdout",
     "output_type": "stream",
     "text": [
      "[1, 7, 17, 23, 27, 35, 65, 71, 2, 54, 100] ['дети', 'школьники', 'студенты', 'аспиранты', 'молодые ученые', 'преподаватели', 'пенсионеры', 'пенсионеры', 'дети', 'преподаватели', 'пенсионеры']\n"
     ]
    }
   ],
   "source": [
    "classification(data1)"
   ]
  },
  {
   "cell_type": "code",
   "execution_count": null,
   "metadata": {},
   "outputs": [],
   "source": []
  }
 ],
 "metadata": {
  "kernelspec": {
   "display_name": "Python 3",
   "language": "python",
   "name": "python3"
  },
  "language_info": {
   "codemirror_mode": {
    "name": "ipython",
    "version": 3
   },
   "file_extension": ".py",
   "mimetype": "text/x-python",
   "name": "python",
   "nbconvert_exporter": "python",
   "pygments_lexer": "ipython3",
   "version": "3.7.3"
  }
 },
 "nbformat": 4,
 "nbformat_minor": 2
}
