{
 "cells": [
  {
   "cell_type": "markdown",
   "metadata": {},
   "source": [
    "# Регулярные выражения"
   ]
  },
  {
   "cell_type": "markdown",
   "metadata": {},
   "source": [
    "Задание 1. Напишите функцию, которая принимает на вход строку и проверяет является ли она валидным транспортным номером. Если да, то функция должна возвращать отдельно номер и регион."
   ]
  },
  {
   "cell_type": "code",
   "execution_count": 2,
   "metadata": {},
   "outputs": [],
   "source": [
    "import re"
   ]
  },
  {
   "cell_type": "code",
   "execution_count": 3,
   "metadata": {},
   "outputs": [],
   "source": [
    "def check_transport_number(stroka):\n",
    "    res = re.match(r'(?i)[А,В,Е,К,М,Н,О,Р,С,Т,У,Х]{1}\\d{3}[А,В,Е,К,М,Н,О,Р,С,Т,У,Х]{2}\\d{2,3}$', stroka)\n",
    "    if res != None:\n",
    "        print(f'Транспортный номер: {res.group()[:6]} \\nРегион: {res.group()[6:]}')\n",
    "    else:\n",
    "        print('Это не транспортный номер!')"
   ]
  },
  {
   "cell_type": "code",
   "execution_count": 4,
   "metadata": {},
   "outputs": [
    {
     "name": "stdout",
     "output_type": "stream",
     "text": [
      "Транспортный номер: с065МК \n",
      "Регион: 051\n"
     ]
    }
   ],
   "source": [
    "check_transport_number('с065МК051')"
   ]
  },
  {
   "cell_type": "code",
   "execution_count": 5,
   "metadata": {},
   "outputs": [
    {
     "name": "stdout",
     "output_type": "stream",
     "text": [
      "Это не транспортный номер!\n"
     ]
    }
   ],
   "source": [
    "check_transport_number('С065МК051cgchg')"
   ]
  },
  {
   "cell_type": "code",
   "execution_count": 6,
   "metadata": {},
   "outputs": [
    {
     "name": "stdout",
     "output_type": "stream",
     "text": [
      "Транспортный номер: С065МК \n",
      "Регион: 05\n"
     ]
    }
   ],
   "source": [
    "check_transport_number('С065МК05')"
   ]
  },
  {
   "cell_type": "markdown",
   "metadata": {},
   "source": [
    "Задание 2. Постарайтесь написать (в крайнем случае найти) самый полный шаблон для проверки e-mail адресов через регулярное выражение, которая проверяет e-mail адрес на валидность. Можно руководствоваться следующими минимальными требованиями:\n",
    "\n",
    "адрес должен содержать специальный символ \"@\", который отделяет имя пользователя почтовой системы от доменного имени;\n",
    "адрес не должен содержать следующие символы: \"пробел\", \",\", \":\", \";\", \"!\", \"#\", \"%\", \"*\", \"(\", \")\", \"=\", \"+\", \"{\", \"}\", \" \" \", \" ' \", \" / \", \" \\ \" и \"|\";\n",
    "адрес должен состоять только из латинских символов;\n",
    "после символа \"@\" должна быть как минимум одна \".\";\n",
    "после последней точки должно быть не менее 2-х и не более 4-х символов, причем наличие цифр не допускается;\n",
    "между последней точкой и символом \"@\" должно быть не менее 2-х символов\n",
    "слева от \"@\" должно быть не менее четырех символов"
   ]
  },
  {
   "cell_type": "code",
   "execution_count": 7,
   "metadata": {},
   "outputs": [],
   "source": [
    "def check_email(mail):\n",
    "    res = re.match(r'(?i)[A-Z0-9.-?_]+@[A-Z0-9]+.[A-Z]{2,3}$', mail)\n",
    "    if res != None:\n",
    "        print(f'{res.group()} - данный email корректен')\n",
    "    else:\n",
    "        print('Это не email!')"
   ]
  },
  {
   "cell_type": "code",
   "execution_count": 8,
   "metadata": {},
   "outputs": [
    {
     "name": "stdout",
     "output_type": "stream",
     "text": [
      "elena_mi.14@mail.ru - данный email корректен\n"
     ]
    }
   ],
   "source": [
    "check_email('elena_mi.14@mail.ru')"
   ]
  },
  {
   "cell_type": "code",
   "execution_count": 9,
   "metadata": {},
   "outputs": [
    {
     "name": "stdout",
     "output_type": "stream",
     "text": [
      "god6dog@google.com - данный email корректен\n"
     ]
    }
   ],
   "source": [
    "check_email('god6dog@google.com')"
   ]
  },
  {
   "cell_type": "code",
   "execution_count": 10,
   "metadata": {},
   "outputs": [
    {
     "name": "stdout",
     "output_type": "stream",
     "text": [
      "Это не email!\n"
     ]
    }
   ],
   "source": [
    "check_email('₽&@/):(;(-@/)7:₽3?.&/8/82')"
   ]
  },
  {
   "cell_type": "code",
   "execution_count": 11,
   "metadata": {},
   "outputs": [],
   "source": [
    "# http://www.ex-parrot.com/~pdw/Mail-RFC822-Address.html"
   ]
  },
  {
   "cell_type": "markdown",
   "metadata": {},
   "source": [
    "Задание 3. Напишите функцию, которая будет удалять все последовательные повторы слов из заданной строки при помощи регулярных выражений."
   ]
  },
  {
   "cell_type": "code",
   "execution_count": 12,
   "metadata": {},
   "outputs": [],
   "source": [
    "text = \"\"\"Что такое регулярные регулярные регулярные выражения выражения и как их использовать? \n",
    "Говоря простым языком, регулярное выражение — это последовательность символов, используемая для поиска и замены текста в строке или файле. Как уже было упомянуто,\\\n",
    "их поддерживает множество языков общего назначения: Python, Perl, R.\n",
    "Так что изучение регулярных выражений рано или поздно пригодится пригодится пригодится b b b b b.\"\"\""
   ]
  },
  {
   "cell_type": "code",
   "execution_count": 13,
   "metadata": {},
   "outputs": [],
   "source": [
    "def delete_words(text):\n",
    "    res = re.sub(r'(?i)\\b(\\w+)(?:\\s+\\1\\b)+', r'\\1' ,text)\n",
    "    print(res)"
   ]
  },
  {
   "cell_type": "code",
   "execution_count": 14,
   "metadata": {},
   "outputs": [
    {
     "name": "stdout",
     "output_type": "stream",
     "text": [
      "Что такое регулярные выражения и как их использовать? \n",
      "Говоря простым языком, регулярное выражение — это последовательность символов, используемая для поиска и замены текста в строке или файле. Как уже было упомянуто,их поддерживает множество языков общего назначения: Python, Perl, R.\n",
      "Так что изучение регулярных выражений рано или поздно пригодится b.\n"
     ]
    }
   ],
   "source": [
    "delete_words(text)"
   ]
  },
  {
   "cell_type": "markdown",
   "metadata": {},
   "source": [
    "Задание 4. Напишите функцию, которая будет проверять номер сотового телефона на валидность, если он валиден, то переводить его в формат:\n",
    "+7(xxx)-xxx-xx-xx\n",
    "Постарайтесь предусмотреть как можно больше адекватных форматов изначального ввода номера. Примеры валидных форматов:\n",
    "\n",
    "+7 955 555-55-55;\n",
    "9555555555;\n",
    "8(955)555-55-55;\n",
    "+7 955 555 55 55;\n",
    "7(955) 555-55-55;\n",
    "+7 955+555+55+55."
   ]
  },
  {
   "cell_type": "code",
   "execution_count": 15,
   "metadata": {},
   "outputs": [],
   "source": [
    "def check_telephone_number(nomer):\n",
    "    res = re.findall(r'([+|7,8])?\\s*[(]?(\\d{3})[)+]?\\s*(\\d{3})[-+]?\\s*(\\d{2})[-+]?\\s*(\\d{2})', nomer)\n",
    "    if res != []:\n",
    "        print(f'+7({int(res[0][1])})-{int(res[0][2])}-{int(res[0][3])}-{int(res[0][4])}')\n",
    "    else:\n",
    "        print('Строка не является номером!')"
   ]
  },
  {
   "cell_type": "code",
   "execution_count": 16,
   "metadata": {},
   "outputs": [
    {
     "name": "stdout",
     "output_type": "stream",
     "text": [
      "+7(955)-555-55-55\n"
     ]
    }
   ],
   "source": [
    "check_telephone_number('+7 955 555-55-55')"
   ]
  },
  {
   "cell_type": "code",
   "execution_count": 17,
   "metadata": {},
   "outputs": [
    {
     "name": "stdout",
     "output_type": "stream",
     "text": [
      "+7(955)-555-55-55\n"
     ]
    }
   ],
   "source": [
    "check_telephone_number('9555555555')"
   ]
  },
  {
   "cell_type": "code",
   "execution_count": 18,
   "metadata": {},
   "outputs": [
    {
     "name": "stdout",
     "output_type": "stream",
     "text": [
      "+7(955)-555-55-55\n"
     ]
    }
   ],
   "source": [
    "check_telephone_number('8(955)555-55-55')"
   ]
  },
  {
   "cell_type": "code",
   "execution_count": 19,
   "metadata": {},
   "outputs": [
    {
     "name": "stdout",
     "output_type": "stream",
     "text": [
      "+7(955)-555-55-55\n"
     ]
    }
   ],
   "source": [
    "check_telephone_number('+7 955 555 55 55')"
   ]
  },
  {
   "cell_type": "code",
   "execution_count": 20,
   "metadata": {},
   "outputs": [
    {
     "name": "stdout",
     "output_type": "stream",
     "text": [
      "+7(955)-555-55-55\n"
     ]
    }
   ],
   "source": [
    "check_telephone_number('7(955) 555-55-55')"
   ]
  },
  {
   "cell_type": "code",
   "execution_count": 21,
   "metadata": {},
   "outputs": [
    {
     "name": "stdout",
     "output_type": "stream",
     "text": [
      "+7(955)-555-55-55\n"
     ]
    }
   ],
   "source": [
    "check_telephone_number('+7 955+555+55+55')"
   ]
  },
  {
   "cell_type": "code",
   "execution_count": 22,
   "metadata": {},
   "outputs": [
    {
     "name": "stdout",
     "output_type": "stream",
     "text": [
      "Строка не является номером!\n"
     ]
    }
   ],
   "source": [
    "check_telephone_number('+7 955+555+55+5')"
   ]
  },
  {
   "cell_type": "code",
   "execution_count": null,
   "metadata": {},
   "outputs": [],
   "source": []
  }
 ],
 "metadata": {
  "kernelspec": {
   "display_name": "Python 3",
   "language": "python",
   "name": "python3"
  },
  "language_info": {
   "codemirror_mode": {
    "name": "ipython",
    "version": 3
   },
   "file_extension": ".py",
   "mimetype": "text/x-python",
   "name": "python",
   "nbconvert_exporter": "python",
   "pygments_lexer": "ipython3",
   "version": "3.7.3"
  }
 },
 "nbformat": 4,
 "nbformat_minor": 2
}
