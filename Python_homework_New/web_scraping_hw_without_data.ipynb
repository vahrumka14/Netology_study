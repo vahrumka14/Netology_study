{
 "cells": [
  {
   "cell_type": "markdown",
   "metadata": {},
   "source": [
    "# Домашнее задание к лекции \"Основы веб-скрапинга и работы с API\""
   ]
  },
  {
   "cell_type": "markdown",
   "metadata": {},
   "source": [
    "## Задание 1. \n",
    "\n",
    "### Обязательная часть"
   ]
  },
  {
   "cell_type": "markdown",
   "metadata": {},
   "source": [
    "Будем парсить страницу со свежеми новостям на [habr.com](https://habr.com/ru/all/).\n",
    "\n",
    "Вам необходимо собирать только те статьи, в которых встречается хотя бы одно требуемое ключевое слово. Эти слова определяем в начале кода в переменной, например:\n",
    "\n",
    "`KEYWORDS = ['python', 'парсинг']`\n",
    "\n",
    " Поиск вести по всей доступной preview-информации (это информация, доступная непосредственно с текущей страницы). \n",
    " \n",
    "В итоге должен формироваться датафрейм со столбцами: <дата> - <заголовок> - <ссылка>."
   ]
  },
  {
   "cell_type": "code",
   "execution_count": 1,
   "metadata": {},
   "outputs": [],
   "source": [
    "import pandas as pd\n",
    "import requests\n",
    "import time\n",
    "from bs4 import BeautifulSoup\n",
    "import re\n",
    "import vk_api\n",
    "from datetime import datetime, timedelta"
   ]
  },
  {
   "cell_type": "code",
   "execution_count": 2,
   "metadata": {},
   "outputs": [],
   "source": [
    "KEYWORDS = ['python', 'парсинг', 'nlp']"
   ]
  },
  {
   "cell_type": "code",
   "execution_count": 3,
   "metadata": {},
   "outputs": [],
   "source": [
    "# получаем страницу с самыми свежими постами\n",
    "req = requests.get('https://habr.com/ru/all/')\n",
    "soup = BeautifulSoup(req.text, 'html.parser')\n",
    "#soup"
   ]
  },
  {
   "cell_type": "code",
   "execution_count": 4,
   "metadata": {},
   "outputs": [],
   "source": [
    "# извлекаем посты\n",
    "posts = soup.find_all('article', class_='post')\n",
    "#posts"
   ]
  },
  {
   "cell_type": "code",
   "execution_count": 5,
   "metadata": {},
   "outputs": [
    {
     "name": "stdout",
     "output_type": "stream",
     "text": [
      "post 521134\n",
      "post 328784\n",
      "post 521244\n",
      "post 521174\n",
      "post 521010\n",
      "post 521178\n",
      "post 521234\n",
      "post 521038\n",
      "post 520864\n",
      "post 520632\n",
      "post 521166\n",
      "post 521226\n",
      "post 520972\n",
      "post 521222\n",
      "post 521206\n",
      "post 521144\n",
      "post 521204\n",
      "post 520662\n",
      "post 521212\n",
      "post 521202\n"
     ]
    }
   ],
   "source": [
    "for post in posts:\n",
    "    post_id = post.parent.attrs.get('id')\n",
    "   # если идентификатор не найден, это что-то странное, пропускаем\n",
    "    if not post_id:\n",
    "        continue\n",
    "    post_id = int(post_id.split('_')[-1])\n",
    "    print('post', post_id)"
   ]
  },
  {
   "cell_type": "code",
   "execution_count": 6,
   "metadata": {},
   "outputs": [
    {
     "name": "stdout",
     "output_type": "stream",
     "text": [
      "сегодня в 17:00 Самый точный прогноз погоды: бот для Telegram на облачных функциях https://habr.com/ru/company/selectel/blog/521038/ atis, metar, volmet, taf, telegram, bot, python, serverless\n",
      "сегодня в 16:28 Более эффективное предварительное обучение NLP моделей с ELECTRA https://habr.com/ru/post/521166/ NLP, ELECTRA\n"
     ]
    }
   ],
   "source": [
    "for post in posts:\n",
    "    post_id = post.parent.attrs.get('id')\n",
    "    time.sleep(0.2)\n",
    "   # если идентификатор не найден, это что-то странное, пропускаем\n",
    "    if not post_id:\n",
    "        continue\n",
    "    post_id = int(post_id.split('_')[-1])\n",
    "    title_element = post.find('a', class_='post__title_link')\n",
    "    date = post.find('span', class_='post__time')\n",
    "    res = requests.get(title_element.attrs.get('href'))\n",
    "    soup = BeautifulSoup(res.text)\n",
    "    ke = soup.find('meta', attrs={'name':'keywords'})['content']\n",
    "    ke1 = ke.lower()\n",
    "    for j in KEYWORDS:\n",
    "        if j in ke1:\n",
    "            print(date.text, title_element.text, title_element.attrs.get('href'), ke)"
   ]
  },
  {
   "cell_type": "markdown",
   "metadata": {},
   "source": [
    "### Дополнительная часть (необязательная)"
   ]
  },
  {
   "cell_type": "markdown",
   "metadata": {},
   "source": [
    "Улучшить скрипт так, чтобы он анализировал не только preview-информацию статьи, но и весь текст статьи целиком.\n",
    "\n",
    "Для этого потребуется получать страницы статей и искать по тексту внутри этой страницы.\n",
    "\n",
    "Итоговый датафрейм формировать со столбцами: <дата> - <заголовок> - <ссылка> - <текст статьи>"
   ]
  },
  {
   "cell_type": "code",
   "execution_count": 7,
   "metadata": {},
   "outputs": [
    {
     "name": "stdout",
     "output_type": "stream",
     "text": [
      "сегодня в 17:09 Университет или буткемп? Разбираемся, что лучше https://habr.com/ru/company/skillfactory/blog/521178/\n",
      "skillfactory, буткемп, университет, bootcamp\n",
      "\n",
      "\n",
      "Совсем недавно мы запустили буткемпы по Data Science и Data Analytics и хотели бы поделиться с хабражителями материалом, в котором автор сравнивает этот популярный на Западе формат образования с классическим университетским. Приятного чтения.\n",
      "\n",
      "От автора оригинала.\n",
      "\n",
      "Я поступил в Корнельский унив\n",
      "\n",
      "\n",
      "сегодня в 17:00 Самый точный прогноз погоды: бот для Telegram на облачных функциях https://habr.com/ru/company/selectel/blog/521038/\n",
      "atis, metar, volmet, taf, telegram, bot, python, serverless\n",
      "\n",
      "\n",
      "сегодня в 16:28 Более эффективное предварительное обучение NLP моделей с ELECTRA https://habr.com/ru/post/521166/\n",
      "NLP, ELECTRA\n",
      "\n",
      "\n",
      "сегодня в 16:15 PiAlert V1 на страже безопасности серверов https://habr.com/ru/company/ruvds/blog/520972/\n",
      "Raspberry Pi, DIY, системное администрирование\n",
      "Однажды у меня появилась идея. Эта идея воплотилась в проекте PiAlert. Узнать о том, что это такое, вы можете из этого видео. Если рассказать о PiAlert в двух словах, то окажется, что это устройство, на котором, если происходят попытки вторжения на серверы, загораются разноцветные лампочки. Система \n",
      "\n",
      "\n"
     ]
    }
   ],
   "source": [
    "for post in posts:\n",
    "    post_id = post.parent.attrs.get('id')\n",
    "    time.sleep(0.3)\n",
    "    if not post_id:\n",
    "        continue\n",
    "    post_id = int(post_id.split('_')[-1])\n",
    "    title_element = post.find('a', class_='post__title_link')\n",
    "    date = post.find('span', class_='post__time')\n",
    "    res = requests.get(title_element.attrs.get('href'))\n",
    "    soup = BeautifulSoup(res.text)\n",
    "    if soup.find('div', class_='post__text post__text-html post__text_v1'):\n",
    "        text_article = soup.find('div', class_='post__text post__text-html post__text_v1').text\n",
    "    elif soup.find('div', class_='post__text post__text-html post__text_v2'):\n",
    "        text_article = soup.find('div', class_='post__text post__text-html post__text_v2').text\n",
    "    elif soup.find('div', class_='post__text post__text_v2'):\n",
    "        text_article = soup.find('div', class_='post__text post__text_v2').text    \n",
    "    ta = text_article.lower().strip()\n",
    "    ta1 = re.split(r'\\W+', ta)\n",
    "    ke = soup.find('meta', attrs={'name':'keywords'})['content']\n",
    "    ke1 = ke.lower()\n",
    "    for j in KEYWORDS:\n",
    "        if j in ke1:\n",
    "            print(date.text, title_element.text, title_element.attrs.get('href'))\n",
    "            print(ke)\n",
    "            print('\\n')\n",
    "        else:\n",
    "            if j in ta1:\n",
    "                print(date.text, title_element.text, title_element.attrs.get('href'))\n",
    "                print(ke)\n",
    "                print(text_article[:300])\n",
    "                print('\\n')"
   ]
  },
  {
   "cell_type": "markdown",
   "metadata": {},
   "source": [
    "## Задание 2."
   ]
  },
  {
   "cell_type": "markdown",
   "metadata": {},
   "source": [
    "### Обязательная часть"
   ]
  },
  {
   "cell_type": "markdown",
   "metadata": {},
   "source": [
    "Написать скрипт, который будет проверять список e-mail адресов на утечку при помощи сервиса [Avast Hack Ckeck](https://www.avast.com/hackcheck/).\n",
    "Список email-ов задаем переменной в начале кода:  \n",
    "`EMAIL = [xxx@x.ru, yyy@y.com]`\n",
    "\n",
    "В итоге должен формироваться датафрейм со столбцами: <почта> - <дата утечки> - <источник утечки> - <описание утечки>."
   ]
  },
  {
   "cell_type": "code",
   "execution_count": 8,
   "metadata": {},
   "outputs": [],
   "source": [
    "email = ['***', '***']"
   ]
  },
  {
   "cell_type": "code",
   "execution_count": 9,
   "metadata": {},
   "outputs": [],
   "source": [
    "headers = {\n",
    "'Vaar-Version': '0',\n",
    "'Vaar-Header-App-Product': 'hackcheck-web-avast',\n",
    "'Content-Type': 'application/json',\n",
    "}"
   ]
  },
  {
   "cell_type": "code",
   "execution_count": 10,
   "metadata": {},
   "outputs": [],
   "source": [
    "data = '{\"emailAddresses\":[\"***\", \"***\"]}'"
   ]
  },
  {
   "cell_type": "code",
   "execution_count": 11,
   "metadata": {},
   "outputs": [],
   "source": [
    "response = requests.post('https://identityprotection.avast.com/v1/web/query/site-breaches/unauthorized-data', headers=headers, data=data) "
   ]
  },
  {
   "cell_type": "code",
   "execution_count": 12,
   "metadata": {},
   "outputs": [
    {
     "name": "stdout",
     "output_type": "stream",
     "text": [
      "elena-mi.14@mail.ru\n",
      "2020-07-23 00:00\n",
      "1 :  wattpad.com\n",
      "In June 2020, the online writing community Wattpad was allegedly breached. The stolen data contains usernames, IPs, passwords, email addresses and additional personal information. This breach is being privately shared on the internet.\n",
      "2019-05-16 00:00\n",
      "2 :  shein.com\n",
      "In June 2018, fast-fashion retailer Shein's database was allegedly breached. The stolen data contains passwords and email addresses. This breach is being privately shared on the internet.\n",
      "2016-10-29 00:00\n",
      "3 :  vk.com\n",
      "Popular Russian social networking platform VKontakte was breached in late 2012. Over 100 million clear-text passwords were compromised in the breach. Breached credential sets included victims' e-mail addresses, passwords, dates of birth, phone numbers and location details. The credential set was advertised on a dark web marketplace as of June 2016 for a price of one bitcoin. \n",
      "2019-05-23 00:00\n",
      "4 :  livejournal.com\n",
      "In 2017, social network LiveJournal's database was allegedly breached. The stolen data contains passwords, email addresses and additional personal information. This breach is being privately shared in the dark web.\n",
      "\n",
      "\n",
      "god6dog@gmail.com\n",
      "2020-08-27 00:00\n",
      "1 :  plibber.ru\n",
      "At an unconfirmed date, the Russian advertising platform Plibber was allegedly breached. The stolen data contains passwords and email addresses. This breach is being privately shared on the internet.\n",
      "2016-10-26 00:00\n",
      "2 :  twitter.com\n",
      "Login credentials for over 32 Million Twitter users were discovered for sale on a dark web marketplace for a price of 10 bitcoin each. It's widely suspected that these credentials weren't the result of a breach of Twitter itself, but rather of information gleaned directly from botnet infected hosts.\n",
      "2016-10-21 00:00\n",
      "3 :  myspace.com\n",
      "Shortly before the 2016 Memorial Day weekend, MySpace learned that stolen user credentials had been posted to a criminal forum on the dark web. A portion of the stolen data included accounts that were created prior to June 11, 2013 on the old Myspace platform. \n",
      "2016-11-01 00:00\n",
      "4 :  qip.ru\n",
      "In 2011, Russian instant messaging service provider QIP was allegedly breached. The leaked data included over 33 million user records containing login details as well as other personal information and passwords stored in plain text. \n",
      "2016-10-21 00:00\n",
      "5 :  linkedin.com\n",
      "In 2012, online professional networking platform LinkedIn fell victim to a breach of its members' passwords. Four years later, 117 million email and password combinations from that breach appeared for sale on a dark web marketplace. \n",
      "\n",
      "The leaked passwords had only been protected by unsalted SHA-1 cryptographic hashing, which prompted LinkedIn to enforce salted hashing after the breach. Russian national Yevgeniy Nikulin was accused of the breach and was extradited from the Czech Republic to the United States as of March 2018.\n",
      "2017-06-28 00:00\n",
      "6 :  8tracks.com\n",
      "In June 2017, a criminal compromised internet radio site 8tracks. The breach resulting in stolen credentials and account information belonging to over 18 million users.  According to a public statement, 8tracks believed the the criminal was able to access the user database through an employee's compromised Github account, which was not secured using two-factor authentication.\n",
      "2020-09-10 00:00\n",
      "7 :  na\n",
      "This is a compilation of files including breach data of unspecified origin. The data contains email addresses and passwords. \n",
      "2017-01-16 00:00\n",
      "8 :  fl.ru\n",
      "In February 2015, FL.ru's entire site database was breached allegedly by an actor going by the name Unkn0wN. The database was shared publicly shortly after the breach itself, but was removed soon after. In late 2015, the database was made publicly available again.\n",
      "2019-02-28 00:00\n",
      "9 :  500px.com\n",
      "In July 2018, 500px's database was allegedly breached. The stolen data contains usernames, passwords, salts, email addresses and additional personal information. This breach is being privately shared on the internet.\n",
      "\n",
      "\n"
     ]
    }
   ],
   "source": [
    "k=0\n",
    "for j in response.json()['summary']:\n",
    "    print(j)\n",
    "    for i in response.json()['summary'][j]['breaches']:\n",
    "        k+=1\n",
    "        print(datetime.strptime(response.json()['breaches'][str(i)]['publishDate'], '%Y-%m-%dT%H:%M:%SZ').strftime('%Y-%m-%d %H:%M'))\n",
    "        print(k,': ', response.json()['breaches'][str(i)]['site'])\n",
    "        print(response.json()['breaches'][str(i)]['description'])\n",
    "    k=0\n",
    "    print('\\n')"
   ]
  },
  {
   "cell_type": "markdown",
   "metadata": {},
   "source": [
    "### Дополнительная часть (необязательная)"
   ]
  },
  {
   "cell_type": "markdown",
   "metadata": {},
   "source": [
    "Написать скрипт, который будет получать 50 последних постов указанной группы во Вконтакте.  \n",
    "Документация к API VK: https://vk.com/dev/methods\n",
    "```\n",
    "GROUP = 'netology'\n",
    "TOKEN = УДАЛЯЙТЕ В ВЕРСИИ ДЛЯ ПРОВЕРКИ, НА GITHUB НЕ ВЫКЛАДЫВАТЬ\n",
    "```\n",
    "\n",
    "В итоге должен формироваться датафрейм со столбцами: <дата поста> - <текст поста>."
   ]
  },
  {
   "cell_type": "code",
   "execution_count": 13,
   "metadata": {},
   "outputs": [],
   "source": [
    "group = 'netology'\n",
    "token = '***'"
   ]
  },
  {
   "cell_type": "code",
   "execution_count": 14,
   "metadata": {},
   "outputs": [],
   "source": [
    "user_id = ***\n",
    "v=5.124"
   ]
  },
  {
   "cell_type": "markdown",
   "metadata": {},
   "source": [
    "Получение данных по пользователю"
   ]
  },
  {
   "cell_type": "code",
   "execution_count": 15,
   "metadata": {},
   "outputs": [],
   "source": [
    "res_users = requests.get(f'https://api.vk.com/method/users.get?user_ids={user_id}&fields=bdate, city&access_token={token}&v={v}')"
   ]
  },
  {
   "cell_type": "code",
   "execution_count": 16,
   "metadata": {},
   "outputs": [
    {
     "data": {
      "text/plain": [
       "{'response': [{'id': 34389739,\n",
       "   'first_name': 'Elena',\n",
       "   'last_name': 'Mironenko',\n",
       "   'is_closed': True,\n",
       "   'can_access_closed': False,\n",
       "   'bdate': '14.2.1987',\n",
       "   'city': {'id': 1, 'title': 'Moscow'}}]}"
      ]
     },
     "execution_count": 16,
     "metadata": {},
     "output_type": "execute_result"
    }
   ],
   "source": [
    "res_users.json()"
   ]
  },
  {
   "cell_type": "markdown",
   "metadata": {},
   "source": [
    "Получение данных по сообществу"
   ]
  },
  {
   "cell_type": "code",
   "execution_count": 17,
   "metadata": {},
   "outputs": [],
   "source": [
    "res_wall = requests.get(f'https://api.vk.com/method/wall.get?domain={group}&count=20&access_token={token}&v={v}')"
   ]
  },
  {
   "cell_type": "code",
   "execution_count": 18,
   "metadata": {},
   "outputs": [
    {
     "name": "stdout",
     "output_type": "stream",
     "text": [
      "2020-09-28 11:00:10\n",
      "Всё ещё дарим подарки 🎁\n",
      " \n",
      "Каждую неделю разыгрываем небольшие призы от Нетологии, а 5 октября подведём окончательные итоги и самому активному участнику сообщества подарим грант 20 000 рублей, которые можно потратить на любой онлайн-курс Нетологии. \n",
      " \n",
      "🥳На этой неделе мы разыграем 3 подписки на библиотеку видеокурсов Нетологии http://netolo.gy/fRQ, а также подведём итоги за месяц и определим того, кто получит главный приз. \n",
      " \n",
      "Немного о правилах и призах: \n",
      "🔹Каждую неделю несколько самых активных участников получат приз. Нельзя дважды оказаться в числе призёров: если вы заняли 1-е место в рейтинге повторно, приз переходит участнику, который находится строчкой ниже. \n",
      "🔹Самый активный участник месяца выбирается по итогам всех четырёх недель, а значит не стоит останавливаться после того, как выиграли недельный приз. \n",
      " \n",
      "Чтобы заработать баллы, ставьте лайки и пишите комментарии. Рейтинг можно посмотреть в меню сообщества. \n",
      "Подробнее о том, как начисляются баллы → vk.com/@netology-kak-nachislyautsya-bally \n",
      " \n",
      "А победителями прошлой недели стали: \n",
      "— [id21717954|Анастасия Мансюк] \n",
      "— [id427483117|Tatyana Proshina] \n",
      "— [id50394723|Анна Семейкина] \n",
      " \n",
      "Поздравляем! \n",
      "Чтобы получить свой приз — напишите нам в сообщения сообщества.\n",
      "\n",
      "\n",
      "2020-09-29 10:52:00\n",
      "Возьмите дизайнера, программиста и менеджера, добавьте немного кейсов и побольше жизненного опыта. Перемешайте до лёгкого головокружения от количества задач 🤪 Поздравляем, у вас получился fullstack-дизайнер. \n",
      "В блоге разбираемся с что это за специалист и чем занимается → http://netolo.gy/fSg\n",
      "\n",
      "\n",
      "2020-09-28 18:11:00\n",
      "Вы нашли вакансию мечты, прошли собеседование, вам обещали перезвонить, но телефон молчит 🤷‍♀ \n",
      "В блоге рассказали, как как общаться с потенциальным работодателем, чтобы получить хорошее предложение → http://netolo.gy/fRR\n",
      "\n",
      "\n",
      "2020-09-28 11:18:00\n",
      "Даже самый сильный текст не разлетится по интернету сам по себе. Его нужно уметь продвигать, а после — анализировать результат. Для этого и существует контент-маркетинг. \n",
      " \n",
      "🚀 Запустили бесплатный курс «Как создавать контент для бизнеса» \n",
      " \n",
      "Внутри курса: \n",
      " \n",
      "▪Основные инструменты и принципы контент-маркетинга \n",
      " \n",
      "▪Форматы контента и правила, которые помогут заинтересовать СМИ и выделяться на фоне конкурентов \n",
      " \n",
      "▪Практическое занятие по веб-аналитике и ключевым метрикам, чтобы оценивать качество контент-стратегии. \n",
      " \n",
      "Присоединяйтесь и учитесь в удобном темпе — все материалы доступны в личном кабинете → http://netolo.gy/fRP\n",
      "\n",
      "\n",
      "2020-09-27 15:32:00\n",
      "Недавно на Netflix вышел документальный фильм «Social Dilemma» — о том, как социальные сети изменили наш образ жизни, способ общения и восприятие самих себя.\n",
      "⠀\n",
      "Собрали несколько документалок о том, как устроены социальные медиа и почему так сложно отвлечься от бесконечной ленты:\n",
      "⠀\n",
      "🎬 «Социальная дилемма», Netflix, 2020 г.\n",
      "⠀\n",
      "Социальные сети сегодня — удобный способ оставаться на связи с друзьями, узнавать новое и быть в курсе новостей. Но есть и обратная сторона — бесконечные ленты соцсетей не дают отложить гаджет, мы сильнее зависим от социального одобрения и тревожимся, что пропустим что-то важное. В этом фильме сотрудники Facebook, Instagram, Twitter и других компаний рассказывают о темной стороне социальных медиа.\n",
      "⠀\n",
      "🎬 «Как смартфоны и соцсети убивают наше время», BBC, 2020 г.\n",
      "⠀\n",
      "«Их цель — развить у вас зависимость и продать ваше время», — слова бывшего сотрудника компании Facebook. Создатели фильма встретились с экспертами в сфере IT, которые рассказали, как создатели социальных сетей намеренно разрабатывают интерфейс своих продуктов таким образом, чтобы он вызывал у людей привыкание и заставлял тратить на социальные сети больше своего времени.\n",
      "⠀\n",
      "🎬 «Большой хак», Netflix, 2019 г.\n",
      "⠀\n",
      "Документальный фильм о безопасности личных данных в сети и последствиях массовой утечки персональной информации — в частности, уязвимости каждого из пользователей социальных сетей. В центре сюжета — скандал 2018 года, когда выяснилось, что частная консалтинговая компания Cambridge Analytica занималась сбором и анализом данных пользователей Facebook и пыталась через социальные сети повлиять на исход политических событий в США и Великобритании.\n",
      "\n",
      "\n",
      "2020-09-27 10:32:00\n",
      "*партнёрский пост* \n",
      " \n",
      "1 октября в 15.00 пройдёт бесплатный вебинар «Аналитика соцмедиа – эффективный анализ обратной связи с клиентом для принятия верных решений» \n",
      " \n",
      "Социальные медиа помогли нам пережить самоизоляцию. Мы стали общаться больше, чем прежде и активнее обмениваться опытом. Аналитика соцмедиа – единственный быстрый способ анализировать клиентский опыт и действовать с учетом этого важнейшего канала обратной связи. \n",
      " \n",
      "На вебинаре покажем и расскажем, что такое аналитика соцмедиа, как это работает и почему это обязательный инструмент в работе маркетолога, пиарщика и не только. \n",
      " \n",
      "Регистрация обязательна. Для участия необходимо получить подтверждение организатора → http://netolo.gy/fRW\n",
      "\n",
      "\n",
      "2020-09-26 17:14:00\n",
      "Боги и герои Древней Греции не всегда творили чудеса: большую часть времени они занимались обычными делами, как мы с вами. Афродиты и Аполлоны так и живут среди нас, и вычислить их можно по поведению в соцсетях. Может быть, это вы? Проверьте с помощью нашего теста 😉 \n",
      " \n",
      "Каждый участник теста получит шанс: \n",
      "🔹 Обрести новую профессию от Нетологии \n",
      "🔹 выиграть 3 годовых запаса пиццы \n",
      "🔹 10 счастливчиков получат в подарок любую пиццу от «Додо Пиццы». \n",
      " \n",
      "Узнайте, какой вы бог в мире диджитал → http://netolo.gy/fRv\n",
      "\n",
      "\n",
      "2020-09-26 11:32:00\n",
      "Не обязательно быть гуру математики и знать все языки программирования как свои пять пальцев, чтобы работать с данными. Начать карьеру в Data Science можно без специальной подготовки. \n",
      "Собрали статьи для всех, кто хочет стартовать в Data Science: \n",
      "\n",
      "▪ Что почитать и посмотреть для старта в Data Science → http://netolo.gy/fRA \n",
      "▪ Большой гид по Data Science для начинающих → http://netolo.gy/fRB \n",
      "▪ Ответы на частые вопросы о карьере в Data Science → http://netolo.gy/fRC \n",
      "▪ Data Science для начинающих: обзор сферы и профессий → http://netolo.gy/fRD\n",
      "\n",
      "\n",
      "2020-09-25 18:18:00\n",
      "Тёплых дней становится всё меньше, а бесплатных курсов — всё больше: на следующей неделе подтягиваем английский, работаем над личным брендом и оформляем свой профиль в Instagram 👇\n",
      "\n",
      "▫29 сентября в 16.00 — бесплатное занятие «Как правильно вести профиль в Instagram» \n",
      "Разбираемся как оформить профиль, составить контент-план и и работать с рекламой. Поговорим о трендах и перспективах развития соцсети и на примерах рассмотрим интересные кейсы ведения аккаунта → http://netolo.gy/fRh \n",
      " \n",
      "▫29 сентября в 18.00 — бесплатное занятие «Python в веб-разработке: преимущества языка и карьера» \n",
      "Поговорим о том, почему стоит выбрать Python, в каких сферах лучше всего его применять и как быть востребованным специалистом и совершенствовать свои навыки → http://netolo.gy/fRi \n",
      " \n",
      "▫29 сентября в 18.00 — бесплатное занятие «Аналитика данных для новичков: обзор лучших практик» \n",
      "Разбирёмся, как работа с данными помогает бизнесу расти быстрее и увеличивать капитал. Попрактикуемся в решении задач и проанализируем реальные кейсы ведущих компаний → http://netolo.gy/fRj \n",
      " \n",
      "▫30 сентября в 18.00 — бесплатное занятие «Английский для маркетологов: как договориться о партнёрстве с иностранцами» \n",
      "Обсудим основы деловой переписки на английском в маркетинговой сфере, изучим реальный кейс из практики делового общения и по шагам составим шаблон коммерческого предложения → http://netolo.gy/fRk \n",
      " \n",
      "▫30 сентября в 19.00 — бесплатное занятие «Как создать личный бренд с нуля» \n",
      "На занятии узнаем, какие задачи решает личный бренд и почему он нужен всем, рассмотрим, какие инструменты и подходы стоит использовать и проведём короткий разбор профилей в Instagram → http://netolo.gy/fRl\n",
      "\n",
      "\n",
      "2020-09-25 10:32:00\n",
      "Мы вводим новую рубрику #пятничнаябеседка. Здесь мы обсуждаем, рассуждаем, спорим и аргументируем. Тема первой пятницы: Виртуальный путь с работы для удалённых сотрудников. \n",
      "Что думаете? Сможет ли такая разработка спасти удалёнщиков от выгорания или шарм утренней поездки в метро ничем не заменить? \n",
      "Беседуем в комментариях 👇\n",
      "\n",
      "\n",
      "2020-09-24 18:32:00\n",
      "Как найти работу, если на руках только диплом об окончании курсов, опыта почти нет, а в портфолио только учебные проекты?\n",
      "⠀\n",
      "Нашим студентам помогает центр развития карьеры Нетологии. Недавно мы обновили программу трудоустройства выпускников — сейчас она доступна студентам всех онлайн-профессий и части курсов. Рассказываем, как всё устроено 👇🏻\n",
      "\n",
      "\n",
      "2020-09-24 10:48:00\n",
      "Уже прошло время, когда на учёбу мы шли, потому что обязаны. Взрослые учатся по собственному желанию, потому что без саморазвития не представляют свою жизнь. \n",
      " \n",
      "Вы еще успеваете воспользоваться скидками до 50% в Нетологии, чтобы реализовать свои способности и достичь поставленных целей. \n",
      " \n",
      "🗓 Акция действует с 7 по 30 сентября. \n",
      "🍁 Промокод september5 увеличит скидку на любой курс на 5%. Действует до 23.59 среды, 30 сентября. \n",
      " \n",
      "Ловим вдохновение и идём к переменам вместе → http://netolo.gy/fRg\n",
      "\n",
      "\n",
      "2020-09-23 17:48:00\n",
      "Все профессии нужны, все профессии важны ☝ \n",
      "Одну и ту же профессию можно назвать по-разному, и не всегда это звучит хорошо. \n",
      "Делитесь в комментариях, как называют вашу профессию, и оценивайте каждый вариант по шкале от 1 до 10.\n",
      "\n",
      "\n",
      "2020-09-23 10:22:00\n",
      "6 октября стартует бесплатный курс «Data Science: будущее для каждого» \n",
      "\n",
      "Мы верим, что в Data Science может работать каждый. Направлений в этой области много, а значит — много возможностей проявить свои таланты. \n",
      "\n",
      "Если вам интересно, как передвигаются беспилотники, смартфоны узнают людей, а алгоритмы читают тексты и фильтруют письма в вашей почте — возможно, эта сфера именно для вас. \n",
      "\n",
      "Поможем проанализировать свои способности и понять, как именно вы можете развивать карьеру в Data Science → http://netolo.gy/fRd\n",
      "\n",
      "\n",
      "2020-09-22 18:22:00\n",
      "Подборка в закладки: 8 бесплатных сервисов, с помощью которых можно быстро создать картинку для поста, презентацию и собственный мем😁\n",
      "\n",
      " А ещё сделать гифку, инфографику, коллаж и многое другое 👇🏻\n",
      "\n",
      "\n",
      "2020-09-22 11:12:00\n",
      "Рутина может отбить мотивацию даже на самой любимой работе. А что если за каждого приведённого клиента будут начислять баллы, за каждый заключённый договор — отпускать в пятницу пораньше, а самый эффективный сотрудник в конце месяца получит ценный приз 🤩 \n",
      "Как именно геймификация повышает продуктивность и сближает команду → http://netolo.gy/fQ8\n",
      "\n",
      "А вы сталкивались с геймификацией на работе? Расскажите о своём опыте.\n",
      "\n",
      "\n",
      "2020-09-21 18:41:00\n",
      "Твёрдо решили связать свою жизнь с работой в диджитал, но не знаете с чего начать? В блоге рассказали, какие навыки точно пригодятся и как их развить → http://netolo.gy/fQN\n",
      "\n",
      "Как вы считаете, какие навыки нужны диджитал-специалисту, а без чего можно обойтись?\n",
      "\n",
      "\n",
      "2020-09-21 11:00:11\n",
      "Продолжаем дарить подарки 🎁\n",
      " \n",
      "Каждую неделю разыгрываем небольшие призы от Нетологии, а 5 октября подведём окончательные итоги и самому активному участнику сообщества подарим грант 20 000 рублей, которые можно потратить на любой онлайн-курс Нетологии. \n",
      " \n",
      " На этой неделе мы разыграем 3 места на курсы «Старт в аналитике» http://netolo.gy/fQE или «Старт в программировании» http://netolo.gy/fQF (на выбор победителя) \n",
      " \n",
      "Немного о правилах и призах: \n",
      "Каждую неделю несколько самых активных участников получат приз. Нельзя дважды оказаться в числе призёров: если вы заняли 1-е место в рейтинге повторно, приз переходит участнику, который находится строчкой ниже. \n",
      "Самый активный участник месяца выбирается по итогам всех четырёх недель, а значит не стоит останавливаться после того, как выиграли недельный приз. \n",
      " \n",
      "Чтобы заработать баллы, ставьте лайки и пишите комментарии. Рейтинг можно посмотреть в меню сообщества. \n",
      "Подробнее о том, как начисляются баллы → vk.com/@netology-kak-nachislyautsya-bally \n",
      " \n",
      "А победителями прошлой недели стали: \n",
      "— [id192002422|Андрей Егоров] \n",
      "— [id19949545|Ольга Кудинова] \n",
      " \n",
      "Поздравляем! \n",
      "Чтобы получить свой приз — напишите нам в сообщения сообщества.\n",
      "\n",
      "\n",
      "2020-09-21 10:14:00\n",
      "Диджитал давно стал частью нашей жизни: мы общаемся в социальных сетях и мессенджерах, заказываем еду, такси и оплачиваем счета через приложения. \n",
      " \n",
      "Изменился не только наш образ жизни, но и рынок труда. Появились новые профессии — от интернет-маркетологов до разработчиков и аналитиков. \n",
      " \n",
      "Стать частью большой команды, меняющей цифровой мир, может любой. Главное, найти то, что ближе вашим интересам и способностям. \n",
      " \n",
      "🚀 24 сентября стартует новый поток бесплатного курса «Диджитал-старт: первый шаг к востребованной профессии» — за две недели вы попробуете себя в разных профессиях и определите, что подходит именно вам → http://netolo.gy/fQA\n",
      "\n",
      "\n",
      "2020-09-20 10:18:00\n",
      "*партнёрский пост* \n",
      " \n",
      "Сегодня в 15.00 пройдёт бесплатный вебинар «Мозг — суперсила, которую вы не используете» \n",
      "Если вы хотите наладить взаимоотношения с близкими, сделать прорыв в карьере и узнать, как заставить ваш мозг работать на вас — ждём в прямом эфире (записи не будет). \n",
      " \n",
      "Зарегистрироваться на вебинар → http://netolo.gy/fQt\n",
      "\n",
      "\n"
     ]
    }
   ],
   "source": [
    "for i in res_wall.json()['response']['items']:\n",
    "    print(datetime.fromtimestamp(i['date']).strftime('%Y-%m-%d %H:%M:%S'))\n",
    "    print(i['text'])\n",
    "    print('\\n')"
   ]
  },
  {
   "cell_type": "markdown",
   "metadata": {},
   "source": [
    "#### ПРИМЕЧАНИЕ\n",
    "Домашнее задание сдается ссылкой на репозиторий [GitHub](https://github.com/).\n",
    "Не сможем проверить или помочь, если вы пришлете:\n",
    "- файлы;\n",
    "- архивы;\n",
    "- скриншоты кода.\n",
    "\n",
    "Все обсуждения и консультации по выполнению домашнего задания ведутся только на соответствующем канале в slack.\n",
    "\n",
    "##### Как правильно задавать вопросы аспирантам, преподавателям и коллегам?\n",
    "Прежде чем задать вопрос необходимо попробовать найти ответ самому в интернете. Навык самостоятельного поиска информации – один из важнейших, и каждый практикующий специалист любого уровня это делает каждый день.\n",
    "\n",
    "Любой вопрос должен быть сформулирован по алгоритму:  \n",
    "1) Что я делаю?  \n",
    "2) Какого результата я ожидаю?  \n",
    "3) Как фактический результат отличается от ожидаемого?  \n",
    "4) Что я уже попробовал сделать, чтобы исправить проблему?  \n",
    "\n",
    "По возможности, прикрепляйте к вопросу скриншоты, либо ссылки на код. Оставляйте только проблемный и воспроизводимый участок кода, все решение выкладывать не допускается.\n"
   ]
  }
 ],
 "metadata": {
  "kernelspec": {
   "display_name": "Python 3",
   "language": "python",
   "name": "python3"
  },
  "language_info": {
   "codemirror_mode": {
    "name": "ipython",
    "version": 3
   },
   "file_extension": ".py",
   "mimetype": "text/x-python",
   "name": "python",
   "nbconvert_exporter": "python",
   "pygments_lexer": "ipython3",
   "version": "3.7.3"
  }
 },
 "nbformat": 4,
 "nbformat_minor": 2
}
