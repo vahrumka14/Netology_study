{
 "cells": [
  {
   "cell_type": "markdown",
   "metadata": {},
   "source": [
    "# Работа с файлами"
   ]
  },
  {
   "cell_type": "markdown",
   "metadata": {},
   "source": [
    "1. Переведите содержимое файла purchase_log.txt в словарь purchases вида:\n",
    "\n",
    "{'1840e0b9d4': 'Продукты', ...}\n",
    "\n",
    "Учтите условия на данные:\n",
    "содержимое purchase_log.txt помещается в оперативную память компьютера"
   ]
  },
  {
   "cell_type": "code",
   "execution_count": 1,
   "metadata": {},
   "outputs": [
    {
     "name": "stdout",
     "output_type": "stream",
     "text": [
      "{\"user_id\": \"1840e0b9d4\", \"category\": \"Продукты\"}\n",
      "{\"user_id\": \"4e4f90fcfb\", \"category\": \"Электроника\"}\n",
      "{\"user_id\": \"afea8d72fc\", \"category\": \"Электроника\"}\n",
      "{\"user_id\": \"373a6055fe\", \"category\": \"Бытовая техника\"}\n",
      "{\"user_id\": \"9b2ab046f3\", \"category\": \"Электроника\"}\n",
      "{\"user_id\": \"9f39d307c3\", \"category\": \"Электроника\"}\n",
      "{\"user_id\": \"44edeffc91\", \"category\": \"Продукты\"}\n",
      "{\"user_id\": \"704474fa2d\", \"category\": \"Продукты\"}\n",
      "{\"user_id\": \"1de31be403\", \"category\": \"Бытовая техника\"}\n",
      "{\"user_id\": \"b71f36a5e4\", \"category\": \"Продукты\"}\n",
      "{\"user_id\": \"79843a685a\", \"category\": \"Продукты\"}\n",
      "{'1840e0b9d4': 'Продукты', '4e4f90fcfb': 'Электроника', 'afea8d72fc': 'Электроника', '373a6055fe': 'Бытовая техника', '9b2ab046f3': 'Электроника', '9f39d307c3': 'Электроника', '44edeffc91': 'Продукты', '704474fa2d': 'Продукты', '1de31be403': 'Бытовая техника', 'b71f36a5e4': 'Продукты', '79843a685a': 'Продукты'}\n"
     ]
    }
   ],
   "source": [
    "import json\n",
    "purchases = {}\n",
    "i = 0\n",
    "with open('purchase_log.txt', 'r') as f:\n",
    "    content = f.readlines()\n",
    "    for line in content[1:]:\n",
    "        print(line, end='')\n",
    "        dictionary = json.loads(line)\n",
    "        purchases.update(dict([list(dictionary.values())]))\n",
    "        i += 1\n",
    "        if i > 10:\n",
    "            break\n",
    "    print(purchases)"
   ]
  },
  {
   "cell_type": "markdown",
   "metadata": {},
   "source": [
    "2. Для каждого user_id в файле visit_log.csv определите третий столбец с категорией покупки (если покупка была, сам файл visit_log.csv изменять не надо). Запишите в файл funnel.csv визиты из файла visit_log.csv, в которых были покупки с указанием категории.\n",
    "\n",
    "Учтите условия на данные:\n",
    "\n",
    "содержимое purchase_log.txt помещается в оперативную память компьютера\n",
    "содержимое visit_log.csv - нет; используйте только построчную обработку этого файла"
   ]
  },
  {
   "cell_type": "code",
   "execution_count": 2,
   "metadata": {},
   "outputs": [
    {
     "name": "stdout",
     "output_type": "stream",
     "text": [
      "user_id,source,A\n",
      "6450655ae8,other,-\n",
      "b4ea53e670,other,C\n",
      "0e37347152,other,D\n",
      "96064ae9e0,other,D\n",
      "e1bd168161,context,D\n",
      "71bcf169b4,other,-\n",
      "e0aee73c5d,other,-\n",
      "1f8845e157,context,B\n",
      "78d22c5c78,other,A\n",
      "dd85040770,other,D\n",
      "Вывод файла funnel.csv!!! \n",
      "b4ea53e670,other,C\n",
      "0e37347152,other,D\n",
      "96064ae9e0,other,D\n",
      "e1bd168161,context,D\n",
      "1f8845e157,context,B\n",
      "78d22c5c78,other,A\n",
      "dd85040770,other,D\n"
     ]
    }
   ],
   "source": [
    "import random\n",
    "i = 0\n",
    "category = ['A', 'B', 'C', 'D', '-']\n",
    "with open('visit_log.csv', 'r') as f:\n",
    "    with open('funnel.csv', 'w') as fwrite:\n",
    "        for line in f:\n",
    "            st = line.strip() + ',' + random.choice(category) + '\\n'\n",
    "            print(st, end='')\n",
    "            if i > 0 and st[-2] != '-':\n",
    "                fwrite.write(st)\n",
    "            i += 1\n",
    "            if i > 10:\n",
    "                break\n",
    "print('Вывод файла funnel.csv!!! ')\n",
    "with open('funnel.csv', 'r') as f_new:\n",
    "    content = f_new.readlines()\n",
    "    for i in content:\n",
    "        print(i, end='')"
   ]
  },
  {
   "cell_type": "code",
   "execution_count": null,
   "metadata": {},
   "outputs": [],
   "source": []
  }
 ],
 "metadata": {
  "kernelspec": {
   "display_name": "Python 3",
   "language": "python",
   "name": "python3"
  },
  "language_info": {
   "codemirror_mode": {
    "name": "ipython",
    "version": 3
   },
   "file_extension": ".py",
   "mimetype": "text/x-python",
   "name": "python",
   "nbconvert_exporter": "python",
   "pygments_lexer": "ipython3",
   "version": "3.7.3"
  }
 },
 "nbformat": 4,
 "nbformat_minor": 2
}
