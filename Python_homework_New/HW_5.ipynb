{
 "cells": [
  {
   "cell_type": "markdown",
   "metadata": {},
   "source": [
    "# Функции"
   ]
  },
  {
   "cell_type": "markdown",
   "metadata": {},
   "source": [
    "Вы работаете секретарем и вам постоянно приходят различные документы. Вы должны быть очень внимательны, чтобы не потерять ни один документ. Каталог документов хранится в следующем виде:"
   ]
  },
  {
   "cell_type": "code",
   "execution_count": 1,
   "metadata": {},
   "outputs": [],
   "source": [
    "documents = [\n",
    "    {'type': 'passport', 'number': '2207 876234', 'name': 'Василий Гупкин'},\n",
    "    {'type': 'invoice', 'number': '11-2', 'name': 'Геннадий Покемонов'},\n",
    "    {'type': 'insurance', 'number': '10006', 'name': 'Аристарх Павлов'}\n",
    "]"
   ]
  },
  {
   "cell_type": "markdown",
   "metadata": {},
   "source": [
    "Перечень полок, на которых находятся документы хранится в следующем виде:"
   ]
  },
  {
   "cell_type": "code",
   "execution_count": 2,
   "metadata": {},
   "outputs": [],
   "source": [
    "directories = {\n",
    "    '1': ['2207 876234', '11-2'],\n",
    "    '2': ['10006'],\n",
    "    '3': []\n",
    "}"
   ]
  },
  {
   "cell_type": "code",
   "execution_count": 3,
   "metadata": {},
   "outputs": [],
   "source": [
    "# Ситуации, когда пользователь будет вводить несуществующий документ.\n",
    "def proverka_doc(nomer):\n",
    "    \"\"\"\n",
    "    Функция возвращает True, если вводим документ, который уже есть в documents\n",
    "    \"\"\"\n",
    "    imya = 0\n",
    "    for i in documents:\n",
    "        if i['number'] == nomer:\n",
    "            imya += 1\n",
    "    if imya != 0:\n",
    "        return True"
   ]
  },
  {
   "cell_type": "code",
   "execution_count": 4,
   "metadata": {},
   "outputs": [],
   "source": [
    "# people – команда, которая спросит номер документа и выведет имя человека, которому он принадлежит\n",
    "def people():\n",
    "    nomer = input('Введите номер документа: ')\n",
    "    if proverka_doc(nomer) == True:\n",
    "        for i in documents:\n",
    "            if i['number'] == nomer:\n",
    "                print(i['name'])\n",
    "    else:\n",
    "        print('Таких данных в нашей базе нет!')"
   ]
  },
  {
   "cell_type": "code",
   "execution_count": 5,
   "metadata": {},
   "outputs": [],
   "source": [
    "# shelf – команда, которая спросит номер документа и выведет номер полки, на которой он находится\n",
    "def shelf(): \n",
    "    nomer = input('Введите номер документа: ')\n",
    "    if proverka_doc(nomer) == True:\n",
    "        for key, value in directories.items():\n",
    "            for l in value:\n",
    "                if l == nomer:\n",
    "                    print(f'Номер полки: {key}') \n",
    "    else:\n",
    "        print('Таких данных в нашей базе нет!')        "
   ]
  },
  {
   "cell_type": "code",
   "execution_count": 6,
   "metadata": {},
   "outputs": [],
   "source": [
    "# list – команда, которая выведет список всех документов в формате passport \"2207 876234\" \"Василий Гупкин\" \n",
    "def lists(documents):\n",
    "    for i in documents:\n",
    "        print(f\"{i['type']} \\\"{i['number']}\\\" \\\"{i['name']}\\\"\")"
   ]
  },
  {
   "cell_type": "code",
   "execution_count": 7,
   "metadata": {},
   "outputs": [],
   "source": [
    "# Случаи, когда пользователь добавляет полку, которая уже существует. \n",
    "def proverka_shelf(shelf):\n",
    "    \"\"\"\n",
    "    Функция возвращает True, если вводим номер полки, которой нет в directories\n",
    "    \"\"\"\n",
    "    shelf_check = 0\n",
    "    for key in directories:\n",
    "        if shelf == key:\n",
    "            shelf_check += 1\n",
    "    if shelf_check == 0:\n",
    "        return True"
   ]
  },
  {
   "cell_type": "code",
   "execution_count": 8,
   "metadata": {},
   "outputs": [],
   "source": [
    "# add shelf – команда, которая спросит номер новой полки и добавит ее в перечень\n",
    "def add_shelf():\n",
    "    shelf = input('Введите номер новой полки: ')\n",
    "    if proverka_shelf(shelf) == True:\n",
    "        directories[shelf] = []\n",
    "        print(directories)\n",
    "    else:\n",
    "        print ('Такая полка уже есть!')"
   ]
  },
  {
   "cell_type": "code",
   "execution_count": 9,
   "metadata": {},
   "outputs": [],
   "source": [
    "# d – delete – команда, которая спросит номер документа и удалит его из каталога и из перечня полок.\n",
    "def delete():\n",
    "    nomer = input('Введите номер документа: ')\n",
    "    if proverka_doc(nomer) == True:\n",
    "        for i in documents:\n",
    "            if i['number'] == nomer:\n",
    "                documents.remove(i)\n",
    "        for val in directories.values():\n",
    "            for element in val:\n",
    "                if element == nomer:\n",
    "                    val.remove(element)\n",
    "        print('Удаление документа прошло успешно!')\n",
    "    else:\n",
    "        print('Пытаетесь удалить несуществующий документ!')"
   ]
  },
  {
   "cell_type": "code",
   "execution_count": 10,
   "metadata": {},
   "outputs": [],
   "source": [
    "# move – команда, которая спросит номер документа и целевую полку и переместит его с текущей полки на целевую. \n",
    "def move():\n",
    "    nomer = input('Введите номер документа: ')\n",
    "    shelf = input('Введите номер полки: ')\n",
    "    if proverka_doc(nomer) == True:\n",
    "        if proverka_shelf(shelf) == True:\n",
    "            print('Такой полки не существует!')\n",
    "        else:\n",
    "            for value in directories.values():\n",
    "                for element in value:\n",
    "                    if element == nomer:\n",
    "                        value.remove(element)\n",
    "                        directories[shelf].append(element)\n",
    "            print('Перемещение прошло успешно! ', directories)\n",
    "    else:    \n",
    "        print('Такого документа в нашей базе нет!') "
   ]
  },
  {
   "cell_type": "code",
   "execution_count": 11,
   "metadata": {},
   "outputs": [],
   "source": [
    "# a – add – команда, которая добавит новый документ в каталог и в перечень полок, спросив его номер, тип, \n",
    "# имя владельца и номер полки, на котором он будет храниться. \n",
    "\n",
    "def add():\n",
    "    nomer = input('Введите номер документа: ')\n",
    "    tip = input('Введите тип документа: ')\n",
    "    imya = input('Введите имя владельца: ')\n",
    "    shelf = input('Введите номер полки: ')\n",
    "    if proverka_shelf(shelf) == True:\n",
    "        print('Такая полка пока не существует!')\n",
    "    else:\n",
    "        directories[shelf].append(nomer)\n",
    "        documents.append(dict(type = tip, number = nomer, name = imya))\n",
    "        print('Добавление прошло успешно!')\n",
    "        print(documents, directories)"
   ]
  },
  {
   "cell_type": "code",
   "execution_count": 12,
   "metadata": {},
   "outputs": [],
   "source": [
    "def main():\n",
    "    while True:\n",
    "        user_input = input('Пожалуйста, введите команду: ')\n",
    "        if user_input == 'p':\n",
    "            people()\n",
    "        if user_input == 's':\n",
    "            shelf()\n",
    "        if user_input == 'l':\n",
    "            lists(documents)\n",
    "        if user_input == 'as':\n",
    "            add_shelf()\n",
    "        if user_input == 'd':\n",
    "            delete()\n",
    "        if user_input == 'm':\n",
    "            move()\n",
    "        if user_input == 'a':\n",
    "            add()\n",
    "        elif user_input == 'q':\n",
    "            print('До скорых встреч!')\n",
    "            break"
   ]
  },
  {
   "cell_type": "code",
   "execution_count": 14,
   "metadata": {},
   "outputs": [
    {
     "name": "stdout",
     "output_type": "stream",
     "text": [
      "Пожалуйста, введите команду: p\n",
      "Введите номер документа: 45\n",
      "Таких данных в нашей базе нет!\n",
      "Пожалуйста, введите команду: 11-2\n",
      "Пожалуйста, введите команду: p\n",
      "Введите номер документа: 11-2\n",
      "Геннадий Покемонов\n",
      "Пожалуйста, введите команду: p\n",
      "Введите номер документа: 2207 876234\n",
      "Василий Гупкин\n",
      "Пожалуйста, введите команду: s\n",
      "Введите номер документа: 2207 876234\n",
      "Номер полки: 1\n",
      "Пожалуйста, введите команду: s\n",
      "Введите номер документа: 45\n",
      "Таких данных в нашей базе нет!\n",
      "Пожалуйста, введите команду: l\n",
      "passport \"2207 876234\" \"Василий Гупкин\"\n",
      "invoice \"11-2\" \"Геннадий Покемонов\"\n",
      "insurance \"10006\" \"Аристарх Павлов\"\n",
      "Пожалуйста, введите команду: as\n",
      "Введите номер новой полки: 5\n",
      "{'1': ['2207 876234', '11-2'], '2': ['10006'], '3': [], '5': []}\n",
      "Пожалуйста, введите команду: as\n",
      "Введите номер новой полки: 5\n",
      "Такая полка уже есть!\n",
      "Пожалуйста, введите команду: d\n",
      "Введите номер документа: 11\n",
      "Пытаетесь удалить несуществующий документ!\n",
      "Пожалуйста, введите команду: 11-2\n",
      "Пожалуйста, введите команду: d\n",
      "Введите номер документа: 11-2\n",
      "Удаление документа прошло успешно!\n",
      "Пожалуйста, введите команду: m\n",
      "Введите номер документа: 10006\n",
      "Введите номер полки: 6\n",
      "Такой полки не существует!\n",
      "Пожалуйста, введите команду: 10006\n",
      "Пожалуйста, введите команду: m\n",
      "Введите номер документа: 10006\n",
      "Введите номер полки: 5\n",
      "Перемещение прошло успешно!  {'1': ['2207 876234'], '2': [], '3': [], '5': ['10006']}\n",
      "Пожалуйста, введите команду: a\n",
      "Введите номер документа: 10006\n",
      "Введите тип документа: hfgjj\n",
      "Введите имя владельца: vjhbjh\n",
      "Введите номер полки: 7\n",
      "Такая полка пока не существует!\n",
      "Пожалуйста, введите команду: 11\n",
      "Пожалуйста, введите команду: a\n",
      "Введите номер документа: 34\n",
      "Введите тип документа: gjhjk\n",
      "Введите имя владельца: gjhkjlk\n",
      "Введите номер полки: 5\n",
      "Добавление прошло успешно!\n",
      "[{'type': 'passport', 'number': '2207 876234', 'name': 'Василий Гупкин'}, {'type': 'insurance', 'number': '10006', 'name': 'Аристарх Павлов'}, {'type': 'gjhjk', 'number': '34', 'name': 'gjhkjlk'}] {'1': ['2207 876234'], '2': [], '3': [], '5': ['10006', '34']}\n",
      "Пожалуйста, введите команду: q\n",
      "До скорых встреч!\n"
     ]
    }
   ],
   "source": [
    "main()"
   ]
  },
  {
   "cell_type": "code",
   "execution_count": null,
   "metadata": {},
   "outputs": [],
   "source": []
  }
 ],
 "metadata": {
  "kernelspec": {
   "display_name": "Python 3",
   "language": "python",
   "name": "python3"
  },
  "language_info": {
   "codemirror_mode": {
    "name": "ipython",
    "version": 3
   },
   "file_extension": ".py",
   "mimetype": "text/x-python",
   "name": "python",
   "nbconvert_exporter": "python",
   "pygments_lexer": "ipython3",
   "version": "3.7.3"
  }
 },
 "nbformat": 4,
 "nbformat_minor": 2
}
