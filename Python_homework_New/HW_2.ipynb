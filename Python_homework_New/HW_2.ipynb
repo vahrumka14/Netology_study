{
 "cells": [
  {
   "cell_type": "markdown",
   "metadata": {},
   "source": [
    "# Домашнее задание к лекции «Основы Python»"
   ]
  },
  {
   "cell_type": "markdown",
   "metadata": {},
   "source": [
    "Задание 1. Даны 2 строки: long_phrase и short_phrase. Напишите код, который проверяет действительно ли длинная фраза long_phrase длиннее короткой short_phrase. И выводит True или False в зависимости от результата сравнения."
   ]
  },
  {
   "cell_type": "code",
   "execution_count": 1,
   "metadata": {},
   "outputs": [],
   "source": [
    "long_phrase = 'Насколько проще было бы писать программы, если бы не заказчики'\n",
    "short_phrase = '640Кб должно хватить для любых задач. Билл Гейтс (по легенде)'"
   ]
  },
  {
   "cell_type": "code",
   "execution_count": 2,
   "metadata": {},
   "outputs": [
    {
     "name": "stdout",
     "output_type": "stream",
     "text": [
      "Is it true that long_phrase is longer than short_phrase? It's True\n"
     ]
    }
   ],
   "source": [
    "print(\"Is it true that long_phrase is longer than short_phrase? It's {}\".format(len(long_phrase)>len(short_phrase)))"
   ]
  },
  {
   "cell_type": "markdown",
   "metadata": {},
   "source": [
    "Задание 2. Дано значение объема файла в байтах (в мегабайте 2^20 байт). Напишите перевод этого значения в мегабайты в формате: \"Объем файла равен 213.68Mb\"."
   ]
  },
  {
   "cell_type": "code",
   "execution_count": 3,
   "metadata": {},
   "outputs": [
    {
     "data": {
      "text/plain": [
       "224059719.68"
      ]
     },
     "execution_count": 3,
     "metadata": {},
     "output_type": "execute_result"
    }
   ],
   "source": [
    "n = 213.68*2**20\n",
    "n"
   ]
  },
  {
   "cell_type": "code",
   "execution_count": 4,
   "metadata": {},
   "outputs": [
    {
     "name": "stdout",
     "output_type": "stream",
     "text": [
      "Объем файла равен 213.68Mb\n"
     ]
    }
   ],
   "source": [
    "print(\"Объем файла равен {}Mb\".format(n/2**20))"
   ]
  },
  {
   "cell_type": "markdown",
   "metadata": {},
   "source": [
    "Задание 3. Разработать приложение для определения знака зодиака по дате рождения. Пример:\n",
    "\n",
    "Введите месяц: март\n",
    "\n",
    "Введите число: 6\n",
    "\n",
    "Вывод: Рыбы"
   ]
  },
  {
   "cell_type": "code",
   "execution_count": 5,
   "metadata": {},
   "outputs": [
    {
     "name": "stdout",
     "output_type": "stream",
     "text": [
      "Введите месяц: март\n",
      "Введите число: 6\n"
     ]
    }
   ],
   "source": [
    "month = input('Введите месяц: ')\n",
    "date = int(input('Введите число: '))"
   ]
  },
  {
   "cell_type": "code",
   "execution_count": 6,
   "metadata": {},
   "outputs": [
    {
     "name": "stdout",
     "output_type": "stream",
     "text": [
      "Рыбы\n"
     ]
    }
   ],
   "source": [
    "if month == 'январь':\n",
    "    if date <= 19:\n",
    "        print('Козерог')\n",
    "    else:\n",
    "        print('Водолей')\n",
    "elif month == 'февраль':\n",
    "    if date <= 19:\n",
    "        print('Водолей')\n",
    "    else:\n",
    "        print('Рыбы')\n",
    "elif month == 'март':\n",
    "    if date <= 20:\n",
    "        print('Рыбы')\n",
    "    else:\n",
    "        print('Овен')\n",
    "elif month == 'апрель':\n",
    "    if date <= 20:\n",
    "        print('Овен')\n",
    "    else:\n",
    "        print('Телец')\n",
    "elif month == 'май':\n",
    "    if date <= 20:\n",
    "        print('Телец')\n",
    "    else:\n",
    "        print('Близнецы')\n",
    "elif month == 'июнь':\n",
    "    if date <= 20:\n",
    "        print('Близнецы')\n",
    "    else:\n",
    "        print('Рак')\n",
    "elif month == 'июль':\n",
    "    if date <= 22:\n",
    "        print('Рак')\n",
    "    else:\n",
    "        print('Лев')\n",
    "elif month == 'август':\n",
    "    if date <= 22:\n",
    "        print('Лев')\n",
    "    else:\n",
    "        print('Дева')\n",
    "elif month == 'сентябрь':\n",
    "    if date <= 22:\n",
    "        print('Дева')\n",
    "    else:\n",
    "        print('Весы')\n",
    "elif month == 'октябрь':\n",
    "    if date <= 22:\n",
    "        print('Весы')\n",
    "    else:\n",
    "        print('Скорпион')\n",
    "elif month == 'ноябрь':\n",
    "    if date <= 22:\n",
    "        print('Скорпион')\n",
    "    else:\n",
    "        print('Стрелец')\n",
    "elif month == 'декабрь':\n",
    "    if date <= 21:\n",
    "        print('Стрелец')\n",
    "    else:\n",
    "        print('Козерог')\n",
    "else:\n",
    "    print('Что-то пошло не так!')"
   ]
  },
  {
   "cell_type": "markdown",
   "metadata": {},
   "source": [
    "Задание 4. Нужно разработать приложение для финансового планирования. Приложение учитывает сколько уходит на ипотеку, \"на жизнь\" и сколько нужно отложить на пенсию. Пользователь вводит:\n",
    "\n",
    "заработанную плату в месяц.\n",
    "сколько процентов от ЗП уходит на ипотеку.\n",
    "сколько процентов от ЗП уходит \"на жизнь\".\n",
    "сколько раз приходит премия в год.\n",
    "Остальная часть заработанной платы откладывается на пенсию.\n",
    "\n",
    "Также пользователю приходит премия в размере зарплаты, от которой половина уходит на отпуск, а вторая половина откладывается.\n",
    "\n",
    "Программа должна учитывать сколько премий было в год.\n",
    "\n",
    "Нужно вывести сколько денег тратит пользователь на ипотеку и сколько он накопит за год.\n",
    "\n",
    "Пример:\n",
    "\n",
    "Введите заработанную плату в месяц: 100000\n",
    "\n",
    "Введите сколько процентов уходит на ипотеку: 30\n",
    "\n",
    "Введите сколько процентов уходит на жизнь: 50\n",
    "\n",
    "Введите количество премий за год: 2\n",
    "\n",
    "Вывод: На ипотеку было потрачено: 360000 рублей Было накоплено: 340000 рублей"
   ]
  },
  {
   "cell_type": "code",
   "execution_count": 7,
   "metadata": {},
   "outputs": [
    {
     "name": "stdout",
     "output_type": "stream",
     "text": [
      "Введите заработанную плату в месяц: 100000\n",
      "Введите сколько процентов уходит на ипотеку: 30\n",
      "Введите сколько процентов уходит на жизнь: 50\n",
      "Введите количество премий за год: 2\n"
     ]
    }
   ],
   "source": [
    "salary = float(input('Введите заработанную плату в месяц: '))\n",
    "mortgage = float(input('Введите сколько процентов уходит на ипотеку: '))\n",
    "spending = float(input('Введите сколько процентов уходит на жизнь: '))\n",
    "prize = float(input('Введите количество премий за год: '))"
   ]
  },
  {
   "cell_type": "code",
   "execution_count": 8,
   "metadata": {},
   "outputs": [],
   "source": [
    "mortgage = mortgage/100\n",
    "spending = spending/100"
   ]
  },
  {
   "cell_type": "code",
   "execution_count": 9,
   "metadata": {},
   "outputs": [
    {
     "name": "stdout",
     "output_type": "stream",
     "text": [
      "На ипотеку было потрачено: 360000.00 рублей\n",
      "Было накоплено: 340000.00 рублей\n"
     ]
    }
   ],
   "source": [
    "print(\"На ипотеку было потрачено: {:.2f} рублей\".format(salary*mortgage*12))\n",
    "print(\"Было накоплено: {:.2f} рублей\".format(salary*prize/2 +(salary*(1-mortgage-spending)*12)))"
   ]
  },
  {
   "cell_type": "code",
   "execution_count": null,
   "metadata": {},
   "outputs": [],
   "source": []
  }
 ],
 "metadata": {
  "kernelspec": {
   "display_name": "Python 3",
   "language": "python",
   "name": "python3"
  },
  "language_info": {
   "codemirror_mode": {
    "name": "ipython",
    "version": 3
   },
   "file_extension": ".py",
   "mimetype": "text/x-python",
   "name": "python",
   "nbconvert_exporter": "python",
   "pygments_lexer": "ipython3",
   "version": "3.7.3"
  }
 },
 "nbformat": 4,
 "nbformat_minor": 2
}
