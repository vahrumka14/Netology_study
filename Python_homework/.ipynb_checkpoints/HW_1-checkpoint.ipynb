{
 "cells": [
  {
   "cell_type": "code",
   "execution_count": 4,
   "metadata": {},
   "outputs": [],
   "source": [
    "# 1. Даны 2 строки long_phrase и short_phrase. \n",
    "# Напишите код, который проверяет действительно ли длинная фраза long_phrase длиннее короткой short_phrase. \n",
    "# И выводит True или False в зависимости от результата сравнения."
   ]
  },
  {
   "cell_type": "code",
   "execution_count": 5,
   "metadata": {},
   "outputs": [
    {
     "name": "stdout",
     "output_type": "stream",
     "text": [
      "True\n"
     ]
    }
   ],
   "source": [
    "long_phrase = 'Насколько проще было бы писать программы, если бы не заказчики'\n",
    "short_phrase = '640Кб должно хватить для любых задач. Билл Гейтс (по легенде)'\n",
    "if len(long_phrase) > len(short_phrase):\n",
    "    print (True)\n",
    "else:\n",
    "    print(False)"
   ]
  },
  {
   "cell_type": "code",
   "execution_count": 6,
   "metadata": {},
   "outputs": [
    {
     "name": "stdout",
     "output_type": "stream",
     "text": [
      "True\n"
     ]
    }
   ],
   "source": [
    "print(len(long_phrase) > len(short_phrase)) # !надо делать так"
   ]
  },
  {
   "cell_type": "code",
   "execution_count": 3,
   "metadata": {},
   "outputs": [],
   "source": [
    "# 2. Дана строка text. Определите какая из двух букв встречается в нем чаще - 'а' или 'и'.\n",
    "# P.S. Вам может помочь метод replace.\n",
    "text = 'Если программист в 9-00 утра на работе, значит, он там и ночевал'"
   ]
  },
  {
   "cell_type": "code",
   "execution_count": 4,
   "metadata": {},
   "outputs": [
    {
     "name": "stdout",
     "output_type": "stream",
     "text": [
      "\"а\" встречается чаще, чем \"и\". \"а\" встречается 7 раз, а \"и\" 4 раза \n"
     ]
    }
   ],
   "source": [
    "if text.count(\"а\") > text.count(\"и\"):\n",
    "    print('\"а\" встречается чаще, чем \"и\". \"а\" встречается {} раз, а \"и\" {} раза '.format(text.count(\"а\"),text.count(\"и\")))\n",
    "else:\n",
    "    print('\"и\" встречается чаще, чем \"а\". \"и\" встречается {} раза, а \"а\" {} раз '.format(text.count(\"и\"),text.count(\"а\")))"
   ]
  },
  {
   "cell_type": "code",
   "execution_count": 5,
   "metadata": {},
   "outputs": [],
   "source": [
    "# 3. Дано значение объема файла в байтах. Напишите перевод этого значения в мегабайты в формате:\n",
    "# 'Объем файла равен 213.68Mb'\n",
    "# P.S. Найдите определение килобайта. Это не 1000 байт."
   ]
  },
  {
   "cell_type": "code",
   "execution_count": 6,
   "metadata": {},
   "outputs": [
    {
     "name": "stdout",
     "output_type": "stream",
     "text": [
      "Объем файла равен 213.68Mb\n"
     ]
    }
   ],
   "source": [
    "SizeFileKilobite = 213.68*1024\n",
    "print('Объем файла равен {:0.2f}Mb'.format(SizeFileKilobite/1024))"
   ]
  },
  {
   "cell_type": "code",
   "execution_count": 7,
   "metadata": {},
   "outputs": [],
   "source": [
    "# 4. Выведите на экран значение синуса 30 градусов с помощью метода math.sin."
   ]
  },
  {
   "cell_type": "code",
   "execution_count": 8,
   "metadata": {},
   "outputs": [
    {
     "name": "stdout",
     "output_type": "stream",
     "text": [
      "0.49999999999999994\n",
      "0.49999999999999994\n"
     ]
    }
   ],
   "source": [
    "import math\n",
    "angle = 30\n",
    "print (math.sin(math.radians(angle))) # через функцию конвертации в радианы, т.к. функция math.sin работает с радианами\n",
    "print (math.sin(math.pi/180*angle))  # через перевод по формуле пи/180, т.к. функция math.sin работает с радианами"
   ]
  },
  {
   "cell_type": "code",
   "execution_count": 9,
   "metadata": {},
   "outputs": [],
   "source": [
    "# 5. В прошлом задании у вас скорее всего не получилось точного значения 0.5 из-за конечной \n",
    "# точности вычисления синуса. Но почему некоторые простые операции также могут давать неточный результат? \n",
    "# Попробуйте вывести на экран результат операции 0.1 + 0.2. Почему результат неточен?"
   ]
  },
  {
   "cell_type": "code",
   "execution_count": 10,
   "metadata": {},
   "outputs": [
    {
     "name": "stdout",
     "output_type": "stream",
     "text": [
      "0.30000000000000004\n",
      "False\n"
     ]
    }
   ],
   "source": [
    "print(0.1+0.2) \n",
    "print(0.1+0.2 == 0.3)  # связано с переводом чисел в двоичную систему"
   ]
  },
  {
   "cell_type": "code",
   "execution_count": 11,
   "metadata": {},
   "outputs": [],
   "source": [
    "# 6. В переменных a и b записаны 2 различных числа. \n",
    "# Вам необходимо написать код, который меняет значения a и b местами без использования третьей переменной."
   ]
  },
  {
   "cell_type": "code",
   "execution_count": 12,
   "metadata": {},
   "outputs": [
    {
     "name": "stdout",
     "output_type": "stream",
     "text": [
      "a = 5 ; b = 7\n"
     ]
    }
   ],
   "source": [
    "a = 7\n",
    "b = 5\n",
    "a = a - b # 7-5 = 2\n",
    "b = b + a # 5+2 = 7\n",
    "a = b - a # 7-2 = 5\n",
    "print(\"a =\", a,\";\", \"b =\",b)"
   ]
  },
  {
   "cell_type": "code",
   "execution_count": 13,
   "metadata": {},
   "outputs": [],
   "source": [
    "# 7. Дано число в двоичной системе счисления: num=10011. \n",
    "# Напишите алгоритм перевода этого числа в привычную нам десятичную систему счисления.\n",
    "# Возможно, вам понадобится цикл прохождения всех целых чисел от 0 до m:\n",
    "# for n in range(m)"
   ]
  },
  {
   "cell_type": "code",
   "execution_count": 14,
   "metadata": {},
   "outputs": [
    {
     "name": "stdout",
     "output_type": "stream",
     "text": [
      "Число в двоичной системе 10011 равно числу 19 в десятичной системе\n"
     ]
    }
   ],
   "source": [
    "num = 10011\n",
    "num_str = str(num)\n",
    "m = len(num_str)\n",
    "s = 0\n",
    "for n in range(m):\n",
    "    s = s + int(num_str[n])*(2**(m-n-1))\n",
    "print(\"Число в двоичной системе {} равно числу {} в десятичной системе\".format(num,s))"
   ]
  },
  {
   "cell_type": "code",
   "execution_count": null,
   "metadata": {},
   "outputs": [],
   "source": []
  }
 ],
 "metadata": {
  "kernelspec": {
   "display_name": "Python 3",
   "language": "python",
   "name": "python3"
  },
  "language_info": {
   "codemirror_mode": {
    "name": "ipython",
    "version": 3
   },
   "file_extension": ".py",
   "mimetype": "text/x-python",
   "name": "python",
   "nbconvert_exporter": "python",
   "pygments_lexer": "ipython3",
   "version": "3.7.1"
  }
 },
 "nbformat": 4,
 "nbformat_minor": 2
}
