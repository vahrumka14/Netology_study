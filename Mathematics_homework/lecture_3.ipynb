{
  "nbformat": 4,
  "nbformat_minor": 0,
  "metadata": {
    "colab": {
      "name": "Untitled",
      "version": "0.3.2",
      "provenance": [],
      "include_colab_link": true
    },
    "kernelspec": {
      "name": "python3",
      "display_name": "Python 3"
    }
  },
  "cells": [
    {
      "cell_type": "markdown",
      "metadata": {
        "id": "view-in-github",
        "colab_type": "text"
      },
      "source": [
        "<a href=\"https://colab.research.google.com/github/yustinaivanova/math_netology/blob/master/lecture_3.ipynb\" target=\"_parent\"><img src=\"https://colab.research.google.com/assets/colab-badge.svg\" alt=\"Open In Colab\"/></a>"
      ]
    },
    {
      "cell_type": "markdown",
      "metadata": {
        "id": "da88zG2ZGb9Q",
        "colab_type": "text"
      },
      "source": [
        "# Математика для Data Science. Нетология. Лекция 3."
      ]
    },
    {
      "cell_type": "markdown",
      "metadata": {
        "id": "mPfHKhuNIvox",
        "colab_type": "text"
      },
      "source": [
        "# Собственный вектор. Собственное значение"
      ]
    },
    {
      "cell_type": "markdown",
      "metadata": {
        "id": "mTrM1QnHGmg5",
        "colab_type": "text"
      },
      "source": [
        "Пример подсчета собственного вектора и собственных чисел программно"
      ]
    },
    {
      "cell_type": "code",
      "metadata": {
        "id": "MrCZEzPYGbWV",
        "colab_type": "code",
        "outputId": "ef5fb7f0-6f5b-47ba-c1ba-90e39e9faeef",
        "colab": {
          "base_uri": "https://localhost:8080/",
          "height": 255
        }
      },
      "source": [
        "from numpy import linalg as LA\n",
        "import numpy as np\n",
        "\n",
        "A = np.array(\n",
        " [[5, 7, 3, 0, 6],\n",
        " [0, 6, 3, 9, 8],\n",
        " [3, 0, 9, 7, 6],\n",
        " [7, 6, 4, 5, 0],\n",
        " [7, 8, 6, 0, 9]]\n",
        ")\n",
        "\n",
        "e_vals, e_vecs = LA.eig(A)\n",
        "print('Исходная матрица: \\n', A)\n",
        "\n",
        "print('Собственные вектора: \\n', e_vecs)\n",
        "print('Собственные значения: ', e_vals)"
      ],
      "execution_count": 0,
      "outputs": [
        {
          "output_type": "stream",
          "text": [
            "Исходная матрица: \n",
            " [[5 7 3 0 6]\n",
            " [0 6 3 9 8]\n",
            " [3 0 9 7 6]\n",
            " [7 6 4 5 0]\n",
            " [7 8 6 0 9]]\n",
            "Собственные вектора: \n",
            " [[-0.3911662   0.37587179 -0.57232236 -0.45355646  0.08811846]\n",
            " [-0.46746001 -0.55458423  0.45352364  0.003845   -0.54074915]\n",
            " [-0.43308298 -0.51011889  0.56376799  0.7891994   0.44026451]\n",
            " [-0.35922382  0.34920094 -0.19384401  0.09479593 -0.5641288 ]\n",
            " [-0.558451    0.41108898 -0.33369683 -0.40305061  0.43330284]]\n",
            "Собственные значения:  [ 2.52527085e+01 -2.83754596e+00 -3.80333720e-03  5.05245324e+00\n",
            "  6.53618755e+00]\n"
          ],
          "name": "stdout"
        }
      ]
    },
    {
      "cell_type": "markdown",
      "metadata": {
        "id": "inR6VlmZJqOw",
        "colab_type": "text"
      },
      "source": [
        "# Решение системы линейных уравнений с помощью numpy"
      ]
    },
    {
      "cell_type": "markdown",
      "metadata": {
        "id": "QVn_eCRAJ63A",
        "colab_type": "text"
      },
      "source": [
        "Дана система линейных уравнений:\n",
        "$$\\left\\{\\begin{matrix}\n",
        "3x_0+x_1=9\\\\ \n",
        "x_0+2x_1=8\n",
        "\\end{matrix}\\right.$$"
      ]
    },
    {
      "cell_type": "markdown",
      "metadata": {
        "id": "WNGWw7VUKW_8",
        "colab_type": "text"
      },
      "source": [
        "Запишем данную систему ввиде массива a, b, x и решим с помощью библиотеки numpy:"
      ]
    },
    {
      "cell_type": "code",
      "metadata": {
        "id": "TOG30hRGJvaK",
        "colab_type": "code",
        "outputId": "18cdc635-0e5e-4db7-be0a-d90a90003545",
        "colab": {
          "base_uri": "https://localhost:8080/",
          "height": 34
        }
      },
      "source": [
        "a = np.array([[3,1], [1,2]])\n",
        "b = np.array([9,8])\n",
        "x = np.linalg.solve(a, b)\n",
        "x\n"
      ],
      "execution_count": 0,
      "outputs": [
        {
          "output_type": "execute_result",
          "data": {
            "text/plain": [
              "array([2., 3.])"
            ]
          },
          "metadata": {
            "tags": []
          },
          "execution_count": 20
        }
      ]
    },
    {
      "cell_type": "markdown",
      "metadata": {
        "id": "Fl4JC1scKl0n",
        "colab_type": "text"
      },
      "source": [
        "Проверим правильность решения уравнения:"
      ]
    },
    {
      "cell_type": "code",
      "metadata": {
        "id": "CazVtO89KpCB",
        "colab_type": "code",
        "outputId": "7edbd4c4-dde2-4092-b040-9ac4642f750c",
        "colab": {
          "base_uri": "https://localhost:8080/",
          "height": 34
        }
      },
      "source": [
        "np.allclose(np.dot(a, x), b)"
      ],
      "execution_count": 0,
      "outputs": [
        {
          "output_type": "execute_result",
          "data": {
            "text/plain": [
              "True"
            ]
          },
          "metadata": {
            "tags": []
          },
          "execution_count": 21
        }
      ]
    },
    {
      "cell_type": "markdown",
      "metadata": {
        "id": "NIQwBhhePeuw",
        "colab_type": "text"
      },
      "source": [
        "# Пример решения системы линейных уравнений."
      ]
    },
    {
      "cell_type": "markdown",
      "metadata": {
        "id": "zVFmnsk3PoE3",
        "colab_type": "text"
      },
      "source": [
        "### Нахождение уравнения плоскости по точкам, через которые она проходит.\n",
        "Уравнение плоскости в 3-х мерном пространстве задаётся уравнением:\n",
        "\\begin{matrix}\n",
        "z = ax + by + c & (1)\n",
        "\\end{matrix}\n",
        "Уравнение плоскости однозначно задаётся 3 точками через которые она проходит.\n",
        "\n",
        "Таким образом легко понять, что если мы знаем координаты точек, через которые проходит плоскость, то в уравнении (1) у вас 3 переменных: a, b, c. А значения x, y, z нам известны для 3 точек.\n",
        "\n",
        "Если плоскость проходит через точки (1;-6;1), (0;-3;2) и (-3;0;-1), то мы легко можем найти коэффициенты, подставив значения соответсвующих координат для всех 3 точек в уравнение (1) и получив систему из 3 уравнений.\n",
        "\n",
        "Для точки x = 1, y = -6, z = 1:\n",
        "\\begin{matrix}\n",
        "a\\cdot 1 + b\\cdot (-6) + c = 1 & (2)\n",
        "\\end{matrix}\n",
        "\n",
        "Для точки x = 0, y = -3, z = 2:\n",
        "\\begin{matrix}\n",
        "a\\cdot 0 + b\\cdot (-3) + c = 2 &(3)\n",
        "\\end{matrix}\n",
        "\n",
        "Для точки x = -3, y = 0, z = -1:\n",
        "\\begin{matrix}\n",
        "a\\cdot (-3) + b\\cdot 0 + c = -1 &(4)\n",
        "\\end{matrix}\n",
        "\n",
        "На основании системы уравнений (2), (3), (4) можно записать матрицу коэффициентов перед неизвестными (левая часть матрицы):\n",
        "\n",
        "\\begin{pmatrix}\n",
        "1& -6 & 1\n",
        "\\\\ \n",
        "0 & -3 & 1\n",
        "\\\\ \n",
        "-3 & 0 & 1\n",
        "\\end{pmatrix}\n",
        "\n",
        "И вектор свободных членов (правая часть):\n",
        "\\begin{pmatrix}\n",
        "1\n",
        "\\\\ \n",
        "2\n",
        "\\\\\n",
        "-1\n",
        "\\end{pmatrix}"
      ]
    },
    {
      "cell_type": "code",
      "metadata": {
        "id": "TdNceX5zPnDm",
        "colab_type": "code",
        "colab": {
          "base_uri": "https://localhost:8080/",
          "height": 34
        },
        "outputId": "7a7dcd39-eef9-4831-f646-69b2fa0e967a"
      },
      "source": [
        "import numpy # импортируем библиотеку \n",
        "\n",
        "M5 = numpy.array([[1., -6., 1.], [0., -3., 1], [-3, 0, 1]]) # Матрица (левая часть системы)\n",
        "v5 = numpy.array([1., 2., -1.]) # Вектор (правая часть системы)\n",
        "\n",
        "numpy.linalg.solve(M5, v5)\n"
      ],
      "execution_count": 22,
      "outputs": [
        {
          "output_type": "execute_result",
          "data": {
            "text/plain": [
              "array([2., 1., 5.])"
            ]
          },
          "metadata": {
            "tags": []
          },
          "execution_count": 22
        }
      ]
    },
    {
      "cell_type": "markdown",
      "metadata": {
        "id": "0O-aJOZ0XcHC",
        "colab_type": "text"
      },
      "source": [
        "**Ответ: уравнение искомой плоскости в пространстве задаётся уравнением $z = 2x + y + 5$**"
      ]
    },
    {
      "cell_type": "markdown",
      "metadata": {
        "id": "J0zNoJYQYJCh",
        "colab_type": "text"
      },
      "source": [
        "### Нахождение уравнения параболы по 2 точкам и касательной\n",
        "\n",
        "Найти уравнение параболы ($f(x) = ax^2 + bx + x & (5)$), проходящей через точки (1,1) и (-1,1) и касающейся биссектрисы 1й координатной четверти.\n",
        "\n",
        "Как и в предыдущем примере неизвестными для нас являются коэффициенты a, b, c.\n",
        "\n",
        "Подставив в уравнение параболы (5) значения аргумента (x) и функции (f(x)) получим 2 уравнения:\n",
        "\n",
        "\\begin{matrix}\n",
        "a\\cdot 1^2 + b\\cdot 1 + c = 1 &(6)\n",
        "\\\\\n",
        "a\\cdot (-1)^2 + b\\cdot (-1) + c = 1 &(7)\n",
        "\\end{matrix}\n",
        "\n",
        "Однако для нахождения 3 неизвестных 2 уравнений мало. Необходимо найти ещё одно из оставшихся условий.\n",
        "\n",
        "Касание биссектрисы 1й координатной четверти означает, что наша парабола имеет касательную $y = x$. Если посмотреть на условие задачи, то мы увидим, что одна из точек (1, 1) лежит на этой прямой. Это означает, что мы знаем точку касания.\n",
        "\n",
        "Уравнение прямой, делящей 1-ю координатную четверть пополам (биссектрисы) имеет вид $y = kx \\quad (8)$\n",
        "\n",
        "При этом мы знаем, что угол уравнения касательной (коэффициент k уравнения 8) равен производной от функции (5) в точке касания.\n",
        "\n",
        "\\begin{matrix}\n",
        "f'(x) = 2ax + bx & (9)\n",
        "\\end{matrix}\n",
        "\n",
        "Подставив значение аргумента (x = 1) в точке касания и коэффициента (k = 1 в качестве производной f'(x)) \n",
        "\n",
        "\\begin{matrix}\n",
        "1 = 2a\\cdot1 + b\\cdot1 & (10)\n",
        "\\end{matrix}\n",
        "\n",
        "Используя уравнения (6), (7) и (10), запишем полную систему уравнений, которую нам необходимо решить:\n",
        "\n",
        "\\begin{matrix}\n",
        "a\\cdot 1 + b\\cdot 1 + c \\cdot 1 = 1 &(11)\n",
        "\\\\\n",
        "a\\cdot 1 + b\\cdot (-1) + c \\cdot 1 = 1 &(12)\n",
        "\\\\\n",
        "a\\cdot 2 + b\\cdot 1 + c \\cdot 0 = 1 &(13)\n",
        "\\end{matrix}\n",
        "\n",
        "По привычной уже схеме запишем коэффициенты перед переменными (левую часть системы) в матрицу, а свободные члены (правую часть) в вектор:\n",
        "\n",
        "\\begin{pmatrix}\n",
        "1& 1 & 1\n",
        "\\\\ \n",
        "1 & -1 & 1\n",
        "\\\\ \n",
        "2 & 1 & 0\n",
        "\\end{pmatrix}\n",
        "\n",
        "\\begin{pmatrix}\n",
        "1\n",
        "\\\\ \n",
        "1\n",
        "\\\\ \n",
        "1\n",
        "\\end{pmatrix}"
      ]
    },
    {
      "cell_type": "code",
      "metadata": {
        "id": "3Zh05TXrYIW3",
        "colab_type": "code",
        "colab": {
          "base_uri": "https://localhost:8080/",
          "height": 34
        },
        "outputId": "61e1bd13-535d-4792-ab62-202aca530614"
      },
      "source": [
        "import numpy # импортируем библиотеку \n",
        "\n",
        "M6 = numpy.array([[1., 1., 1.], [1., -1., 1], [2, 1, 0]]) # Матрица (левая часть системы)\n",
        "v6 = numpy.array([1., 1., 1.]) # Вектор (правая часть системы)\n",
        "\n",
        "numpy.linalg.solve(M6, v6)"
      ],
      "execution_count": 23,
      "outputs": [
        {
          "output_type": "execute_result",
          "data": {
            "text/plain": [
              "array([ 0.5, -0. ,  0.5])"
            ]
          },
          "metadata": {
            "tags": []
          },
          "execution_count": 23
        }
      ]
    },
    {
      "cell_type": "markdown",
      "metadata": {
        "id": "fH4k-nCvZVMf",
        "colab_type": "text"
      },
      "source": [
        "**Ответ: уравнение искомой параболы задаётся функцией $f(x) = 0.5x^2 + 0.5$**"
      ]
    },
    {
      "cell_type": "code",
      "metadata": {
        "id": "o15T9W4RZUCf",
        "colab_type": "code",
        "colab": {
          "base_uri": "https://localhost:8080/",
          "height": 447
        },
        "outputId": "5cfd6cfa-1de2-4825-f5a4-93568b05e4b7"
      },
      "source": [
        "import numpy\n",
        "import matplotlib as mpl\n",
        "import matplotlib.pyplot as plt\n",
        "% matplotlib inline\n",
        "\n",
        "mpl.rc('font', family='Verdana', size= 16)\n",
        "\n",
        "w = numpy.linalg.solve(M6, v6) # запишем найденные коэффициенты в переменную\n",
        "def f(x):\n",
        "    return w[0]*x**2 + w[1]*x + w[2] # уравнение параболы\n",
        "\n",
        "\n",
        "fig, ax = plt.subplots(figsize=(10,5))\n",
        "\n",
        "x = numpy.linspace(-2,2,200)\n",
        "ax.axis([-2., 2., 0., 2.])\n",
        "ax.grid()\n",
        "ax.plot(x, f(x), label = 'Парабола')\n",
        "ax.plot(x, x, label = 'Биссектриса 1й\\nкоординатной четверти')\n",
        "ax.set_xlabel(u'x',{'fontname':'Arial', 'size': 24})\n",
        "ax.set_ylabel(u'f(x)',{'fontname':'Arial', 'size': 24})\n",
        "plt.plot([-1, 1], [1, 1], 'ro', label = 'Точки для\\nпостроения графика')\n",
        "ax.annotate('Точка\\nкасания', xy=(1., 1.), xytext=(1.5, 0.5),\n",
        "            arrowprops=dict(facecolor='black', shrink=0.05),\n",
        "            )\n",
        "\n",
        "ax.legend(bbox_to_anchor=(1.6, 1.))\n",
        "\n",
        "plt.show()"
      ],
      "execution_count": 24,
      "outputs": [
        {
          "output_type": "stream",
          "text": [
            "/usr/local/lib/python3.6/dist-packages/matplotlib/font_manager.py:1241: UserWarning: findfont: Font family ['Verdana'] not found. Falling back to DejaVu Sans.\n",
            "  (prop.get_family(), self.defaultFamily[fontext]))\n",
            "/usr/local/lib/python3.6/dist-packages/matplotlib/font_manager.py:1241: UserWarning: findfont: Font family ['Arial'] not found. Falling back to DejaVu Sans.\n",
            "  (prop.get_family(), self.defaultFamily[fontext]))\n"
          ],
          "name": "stderr"
        },
        {
          "output_type": "display_data",
          "data": {
            "image/png": "[encoded data removed]",
            "text/plain": [
              "<Figure size 720x360 with 1 Axes>"
            ]
          },
          "metadata": {
            "tags": []
          }
        }
      ]
    }
  ]
}