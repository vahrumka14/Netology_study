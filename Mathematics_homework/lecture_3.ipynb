{
 "cells": [
  {
   "cell_type": "markdown",
   "metadata": {
    "colab_type": "text",
    "id": "view-in-github"
   },
   "source": [
    "<a href=\"https://colab.research.google.com/github/yustinaivanova/math_netology/blob/master/lecture_3.ipynb\" target=\"_parent\"><img src=\"https://colab.research.google.com/assets/colab-badge.svg\" alt=\"Open In Colab\"/></a>"
   ]
  },
  {
   "cell_type": "markdown",
   "metadata": {
    "colab_type": "text",
    "id": "da88zG2ZGb9Q"
   },
   "source": [
    "# Математика для Data Science. Нетология. Лекция 3."
   ]
  },
  {
   "cell_type": "code",
   "execution_count": 0,
   "metadata": {
    "colab": {},
    "colab_type": "code",
    "id": "kurCEQJz0oFc"
   },
   "outputs": [],
   "source": [
    "import numpy as np"
   ]
  },
  {
   "cell_type": "markdown",
   "metadata": {
    "colab_type": "text",
    "id": "inR6VlmZJqOw"
   },
   "source": [
    "# Решение системы линейных уравнений с помощью numpy"
   ]
  },
  {
   "cell_type": "markdown",
   "metadata": {
    "colab_type": "text",
    "id": "QVn_eCRAJ63A"
   },
   "source": [
    "Дана система линейных уравнений:\n",
    "$$\\left\\{\\begin{matrix}\n",
    "3x_0+x_1=9\\\\ \n",
    "x_0+2x_1=8\n",
    "\\end{matrix}\\right.$$"
   ]
  },
  {
   "cell_type": "markdown",
   "metadata": {
    "colab_type": "text",
    "id": "WNGWw7VUKW_8"
   },
   "source": [
    "Запишем данную систему ввиде массива a, b, x и решим с помощью библиотеки numpy:"
   ]
  },
  {
   "cell_type": "code",
   "execution_count": 0,
   "metadata": {
    "colab": {
     "base_uri": "https://localhost:8080/",
     "height": 34
    },
    "colab_type": "code",
    "id": "TOG30hRGJvaK",
    "outputId": "18cdc635-0e5e-4db7-be0a-d90a90003545"
   },
   "outputs": [
    {
     "data": {
      "text/plain": [
       "array([2., 3.])"
      ]
     },
     "execution_count": 20,
     "metadata": {
      "tags": []
     },
     "output_type": "execute_result"
    }
   ],
   "source": [
    "a = np.array([[3,1], [1,2]])\n",
    "b = np.array([9,8])\n",
    "x = np.linalg.solve(a, b)\n",
    "x\n"
   ]
  },
  {
   "cell_type": "markdown",
   "metadata": {
    "colab_type": "text",
    "id": "Fl4JC1scKl0n"
   },
   "source": [
    "Проверим правильность решения уравнения:"
   ]
  },
  {
   "cell_type": "code",
   "execution_count": 0,
   "metadata": {
    "colab": {
     "base_uri": "https://localhost:8080/",
     "height": 34
    },
    "colab_type": "code",
    "id": "CazVtO89KpCB",
    "outputId": "7edbd4c4-dde2-4092-b040-9ac4642f750c"
   },
   "outputs": [
    {
     "data": {
      "text/plain": [
       "True"
      ]
     },
     "execution_count": 21,
     "metadata": {
      "tags": []
     },
     "output_type": "execute_result"
    }
   ],
   "source": [
    "np.allclose(np.dot(a, x), b)"
   ]
  },
  {
   "cell_type": "markdown",
   "metadata": {
    "colab_type": "text",
    "id": "MgFPmAta06-g"
   },
   "source": [
    "# Решение системы линейных уравнений с помощью обратной матрицы."
   ]
  },
  {
   "cell_type": "markdown",
   "metadata": {
    "colab_type": "text",
    "id": "FY6yw1QX0_1Z"
   },
   "source": [
    "Дана система линейных уравнений: \n",
    "$$\\left\\{\\begin{matrix}\n",
    "A_{1,1}x_1+A_{1,2}x_2+A_{1,n}x_n=b_1\n",
    "\\\\ \n",
    "A_{2,1}x_1+A_{2,2}x_2+A_{2,n}x_n=b_2\\\\ \n",
    "A_{m,1}x_1+A_{m,2}x_2+A_{m,n}x_n=b_n\n",
    "\\end{matrix}\\right.$$\n",
    "Напишем данную систему в форме матриц и векторов:\n",
    "$$\\begin{bmatrix}\n",
    "A_{1,1} & A_{1,2} & ... & A_{1,n}\\\\ \n",
    "A_{2,1} & A_{2,2} & ... & A_{2,n}\\\\ \n",
    "... & ... & ... & ...\\\\\n",
    "A_{m,1} & A_{m,2} & ... & A_{m,n}\\\\ \n",
    "\\end{bmatrix}\\times \\begin{bmatrix}\n",
    "x_1\\\\ \n",
    "x_2\\\\ \n",
    "...\\\\ \n",
    "x_n\n",
    "\\end{bmatrix}=\\begin{bmatrix}\n",
    "b_1\\\\ \n",
    "b_2\\\\ \n",
    "...\\\\ \n",
    "b_m\n",
    "\\end{bmatrix}$$\n",
    "Или по-другому:\n",
    "$$\\boldsymbol{Ax}=\\boldsymbol{b} $$\n",
    "Решается данное уравнение через **обратную матрицу** следующим образом:\n",
    "\n",
    "умножаем левую и правую части уравнения на обратную матрицу:\n",
    "$$\\boldsymbol{A^{-1}Ax}=\\boldsymbol{A^{-1}b}$$\n",
    "\n",
    "Так как $\\boldsymbol{A\\cdot A^{-1}}=\\boldsymbol{I}$, то\n",
    "$$\\boldsymbol{I_nx}=\\mathbf{A^{-1}b}$$\n",
    "\n",
    "Сокращаем на единичную матрицу:\n",
    "\n",
    "$$\\boldsymbol{x}=\\boldsymbol{A^{-1}b}$$"
   ]
  },
  {
   "cell_type": "markdown",
   "metadata": {
    "colab_type": "text",
    "id": "rrT024nL54Lu"
   },
   "source": [
    "**Пример:** решим систему линейных уравнений:\n",
    "\n",
    "$$\\left\\{\\begin{matrix}\n",
    "y=2x\\\\ \n",
    "y=-x+3\n",
    "\\end{matrix}\\right.$$\n",
    "\n",
    "Представим x ввиде $x_1$, а y - ввиде $x_2$:\n",
    "\n",
    "$$\\left\\{\\begin{matrix}\n",
    "2x_1-x_2=0\\\\ \n",
    "x_1+x_2=3\n",
    "\\end{matrix}\\right.$$"
   ]
  },
  {
   "cell_type": "markdown",
   "metadata": {
    "colab_type": "text",
    "id": "jel3Dt4-6cWA"
   },
   "source": [
    "Матрица A будет представлена следующими весами:\n",
    "\n",
    "$$\\boldsymbol{A}=\\begin{bmatrix}\n",
    "2 & -1\\\\ \n",
    "1 & 1\n",
    "\\end{bmatrix}$$"
   ]
  },
  {
   "cell_type": "markdown",
   "metadata": {
    "colab_type": "text",
    "id": "lvU8v28z6rNI"
   },
   "source": [
    "Вектор b будет выглядеть следующим образом:\n",
    "$$b=\\begin{bmatrix}\n",
    "0\\\\ \n",
    "3\\end{bmatrix}$$"
   ]
  },
  {
   "cell_type": "markdown",
   "metadata": {
    "colab_type": "text",
    "id": "24rB0ywm6-PV"
   },
   "source": [
    "Система уравнений в матричной форме выглядит следующим образом:\n",
    "$$\\begin{bmatrix}\n",
    "2 & -1\\\\ \n",
    "1 & 1\n",
    "\\end{bmatrix}\\cdot \\begin{bmatrix}\n",
    "x_1\\\\ \n",
    "x_2\n",
    "\\end{bmatrix}=\\begin{bmatrix}\n",
    "0\\\\ \n",
    "3\n",
    "\\end{bmatrix}$$"
   ]
  },
  {
   "cell_type": "code",
   "execution_count": 0,
   "metadata": {
    "colab": {
     "base_uri": "https://localhost:8080/",
     "height": 51
    },
    "colab_type": "code",
    "id": "u-XY-AZB6bw6",
    "outputId": "47c394ab-cfbd-4432-e844-fd255959229c"
   },
   "outputs": [
    {
     "name": "stdout",
     "output_type": "stream",
     "text": [
      "[[ 2 -1]\n",
      " [ 1  1]]\n"
     ]
    }
   ],
   "source": [
    "A = np.array([[2, -1], [1, 1]])\n",
    "print(A)"
   ]
  },
  {
   "cell_type": "markdown",
   "metadata": {
    "colab_type": "text",
    "id": "mm41SO698RK5"
   },
   "source": [
    "Обратная матрица:"
   ]
  },
  {
   "cell_type": "code",
   "execution_count": 0,
   "metadata": {
    "colab": {
     "base_uri": "https://localhost:8080/",
     "height": 51
    },
    "colab_type": "code",
    "id": "NPT46Gm232WL",
    "outputId": "d23ff70f-9bc4-4063-e286-dbe69327c6d0"
   },
   "outputs": [
    {
     "data": {
      "text/plain": [
       "array([[ 0.33333333,  0.33333333],\n",
       "       [-0.33333333,  0.66666667]])"
      ]
     },
     "execution_count": 5,
     "metadata": {
      "tags": []
     },
     "output_type": "execute_result"
    }
   ],
   "source": [
    "A_inv = np.linalg.inv(A)\n",
    "A_inv"
   ]
  },
  {
   "cell_type": "code",
   "execution_count": 0,
   "metadata": {
    "colab": {},
    "colab_type": "code",
    "id": "tAVthrKg8Wkx"
   },
   "outputs": [],
   "source": [
    "b = np.array([[0], [3]])"
   ]
  },
  {
   "cell_type": "markdown",
   "metadata": {
    "colab_type": "text",
    "id": "qrHjNGEZ8ctM"
   },
   "source": [
    "Решение уравнения:"
   ]
  },
  {
   "cell_type": "code",
   "execution_count": 0,
   "metadata": {
    "colab": {
     "base_uri": "https://localhost:8080/",
     "height": 51
    },
    "colab_type": "code",
    "id": "DwroNy7Z8b-6",
    "outputId": "3abe65e3-2ff7-499c-cded-8a8d79d71c6a"
   },
   "outputs": [
    {
     "data": {
      "text/plain": [
       "array([[1.],\n",
       "       [2.]])"
      ]
     },
     "execution_count": 7,
     "metadata": {
      "tags": []
     },
     "output_type": "execute_result"
    }
   ],
   "source": [
    "x = A_inv.dot(b)\n",
    "x"
   ]
  },
  {
   "cell_type": "markdown",
   "metadata": {
    "colab_type": "text",
    "id": "76rfokHF8ico"
   },
   "source": [
    "Нарисуем решение графически:"
   ]
  },
  {
   "cell_type": "code",
   "execution_count": 0,
   "metadata": {
    "colab": {
     "base_uri": "https://localhost:8080/",
     "height": 269
    },
    "colab_type": "code",
    "id": "vpt3OHec8kdV",
    "outputId": "944fc03b-b162-4469-acf1-002d58e25aa7"
   },
   "outputs": [
    {
     "data": {
      "image/png": "[encoded data removed]",
      "text/plain": [
       "<Figure size 432x288 with 1 Axes>"
      ]
     },
     "metadata": {
      "tags": []
     },
     "output_type": "display_data"
    }
   ],
   "source": [
    "x = np.arange(-10, 10)\n",
    "y = 2*x\n",
    "y1 = -x + 3\n",
    "\n",
    "plt.figure()\n",
    "plt.plot(x, y)\n",
    "plt.plot(x, y1)\n",
    "plt.xlim(0, 3)\n",
    "plt.ylim(0, 3)\n",
    "# draw axes\n",
    "plt.axvline(x=0, color='grey')\n",
    "plt.axhline(y=0, color='grey')\n",
    "plt.legend(['y=2x','y=-x+3'])\n",
    "plt.show()\n",
    "plt.close()"
   ]
  },
  {
   "cell_type": "markdown",
   "metadata": {
    "colab_type": "text",
    "id": "co3ODmWo8ukl"
   },
   "source": [
    "Точка пересечения двух прямых - (1,2), следовательно, наше решение верное."
   ]
  },
  {
   "cell_type": "markdown",
   "metadata": {
    "colab_type": "text",
    "id": "NIQwBhhePeuw"
   },
   "source": [
    "# Пример решения системы линейных уравнений."
   ]
  },
  {
   "cell_type": "markdown",
   "metadata": {
    "colab_type": "text",
    "id": "zVFmnsk3PoE3"
   },
   "source": [
    "### Нахождение уравнения плоскости по точкам, через которые она проходит.\n",
    "Уравнение плоскости в 3-х мерном пространстве задаётся уравнением:\n",
    "\\begin{matrix}\n",
    "z = ax + by + c & (1)\n",
    "\\end{matrix}\n",
    "Уравнение плоскости однозначно задаётся 3 точками через которые она проходит.\n",
    "\n",
    "Таким образом легко понять, что если мы знаем координаты точек, через которые проходит плоскость, то в уравнении (1) у вас 3 переменных: a, b, c. А значения x, y, z нам известны для 3 точек.\n",
    "\n",
    "Если плоскость проходит через точки (1;-6;1), (0;-3;2) и (-3;0;-1), то мы легко можем найти коэффициенты, подставив значения соответсвующих координат для всех 3 точек в уравнение (1) и получив систему из 3 уравнений.\n",
    "\n",
    "Для точки x = 1, y = -6, z = 1:\n",
    "\\begin{matrix}\n",
    "a\\cdot 1 + b\\cdot (-6) + c = 1 & (2)\n",
    "\\end{matrix}\n",
    "\n",
    "Для точки x = 0, y = -3, z = 2:\n",
    "\\begin{matrix}\n",
    "a\\cdot 0 + b\\cdot (-3) + c = 2 &(3)\n",
    "\\end{matrix}\n",
    "\n",
    "Для точки x = -3, y = 0, z = -1:\n",
    "\\begin{matrix}\n",
    "a\\cdot (-3) + b\\cdot 0 + c = -1 &(4)\n",
    "\\end{matrix}\n",
    "\n",
    "На основании системы уравнений (2), (3), (4) можно записать матрицу коэффициентов перед неизвестными (левая часть матрицы):\n",
    "\n",
    "\\begin{pmatrix}\n",
    "1& -6 & 1\n",
    "\\\\ \n",
    "0 & -3 & 1\n",
    "\\\\ \n",
    "-3 & 0 & 1\n",
    "\\end{pmatrix}\n",
    "\n",
    "И вектор свободных членов (правая часть):\n",
    "\\begin{pmatrix}\n",
    "1\n",
    "\\\\ \n",
    "2\n",
    "\\\\\n",
    "-1\n",
    "\\end{pmatrix}"
   ]
  },
  {
   "cell_type": "code",
   "execution_count": 0,
   "metadata": {
    "colab": {
     "base_uri": "https://localhost:8080/",
     "height": 34
    },
    "colab_type": "code",
    "id": "TdNceX5zPnDm",
    "outputId": "7a7dcd39-eef9-4831-f646-69b2fa0e967a"
   },
   "outputs": [
    {
     "data": {
      "text/plain": [
       "array([2., 1., 5.])"
      ]
     },
     "execution_count": 22,
     "metadata": {
      "tags": []
     },
     "output_type": "execute_result"
    }
   ],
   "source": [
    "import numpy # импортируем библиотеку \n",
    "\n",
    "M5 = numpy.array([[1., -6., 1.], [0., -3., 1], [-3, 0, 1]]) # Матрица (левая часть системы)\n",
    "v5 = numpy.array([1., 2., -1.]) # Вектор (правая часть системы)\n",
    "\n",
    "numpy.linalg.solve(M5, v5)\n"
   ]
  },
  {
   "cell_type": "markdown",
   "metadata": {
    "colab_type": "text",
    "id": "0O-aJOZ0XcHC"
   },
   "source": [
    "**Ответ: уравнение искомой плоскости в пространстве задаётся уравнением $z = 2x + y + 5$**"
   ]
  },
  {
   "cell_type": "markdown",
   "metadata": {
    "colab_type": "text",
    "id": "mHW3_RXW03O5"
   },
   "source": [
    "# Коллинеарность векторов в 2D пространстве."
   ]
  },
  {
   "cell_type": "markdown",
   "metadata": {
    "colab_type": "text",
    "id": "dKi6UVAV1BTR"
   },
   "source": [
    "Загрузим датасет:"
   ]
  },
  {
   "cell_type": "code",
   "execution_count": 0,
   "metadata": {
    "colab": {},
    "colab_type": "code",
    "id": "KM2YXaoG07OG"
   },
   "outputs": [],
   "source": [
    "from sklearn.datasets import load_boston\n",
    "import pandas as pd\n",
    "\n",
    "boston_dataset = load_boston()\n",
    "boston = pd.DataFrame(boston_dataset.data, columns=boston_dataset.feature_names)\n",
    "price = boston_dataset.target"
   ]
  },
  {
   "cell_type": "markdown",
   "metadata": {
    "colab_type": "text",
    "id": "q-cPkna707ug"
   },
   "source": [
    "Доказать, что два вектора домов неколлинеарны."
   ]
  },
  {
   "cell_type": "code",
   "execution_count": 60,
   "metadata": {
    "colab": {
     "base_uri": "https://localhost:8080/",
     "height": 204
    },
    "colab_type": "code",
    "id": "nrHpiiw95zyk",
    "outputId": "176ed62e-f4c3-4610-db52-2539f9a2b74c"
   },
   "outputs": [
    {
     "data": {
      "text/html": [
       "<div>\n",
       "<style scoped>\n",
       "    .dataframe tbody tr th:only-of-type {\n",
       "        vertical-align: middle;\n",
       "    }\n",
       "\n",
       "    .dataframe tbody tr th {\n",
       "        vertical-align: top;\n",
       "    }\n",
       "\n",
       "    .dataframe thead th {\n",
       "        text-align: right;\n",
       "    }\n",
       "</style>\n",
       "<table border=\"1\" class=\"dataframe\">\n",
       "  <thead>\n",
       "    <tr style=\"text-align: right;\">\n",
       "      <th></th>\n",
       "      <th>CRIM</th>\n",
       "      <th>ZN</th>\n",
       "      <th>INDUS</th>\n",
       "      <th>CHAS</th>\n",
       "      <th>NOX</th>\n",
       "      <th>RM</th>\n",
       "      <th>AGE</th>\n",
       "      <th>DIS</th>\n",
       "      <th>RAD</th>\n",
       "      <th>TAX</th>\n",
       "      <th>PTRATIO</th>\n",
       "      <th>B</th>\n",
       "      <th>LSTAT</th>\n",
       "    </tr>\n",
       "  </thead>\n",
       "  <tbody>\n",
       "    <tr>\n",
       "      <th>0</th>\n",
       "      <td>0.00632</td>\n",
       "      <td>18.0</td>\n",
       "      <td>2.31</td>\n",
       "      <td>0.0</td>\n",
       "      <td>0.538</td>\n",
       "      <td>6.575</td>\n",
       "      <td>65.2</td>\n",
       "      <td>4.0900</td>\n",
       "      <td>1.0</td>\n",
       "      <td>296.0</td>\n",
       "      <td>15.3</td>\n",
       "      <td>396.90</td>\n",
       "      <td>4.98</td>\n",
       "    </tr>\n",
       "    <tr>\n",
       "      <th>1</th>\n",
       "      <td>0.02731</td>\n",
       "      <td>0.0</td>\n",
       "      <td>7.07</td>\n",
       "      <td>0.0</td>\n",
       "      <td>0.469</td>\n",
       "      <td>6.421</td>\n",
       "      <td>78.9</td>\n",
       "      <td>4.9671</td>\n",
       "      <td>2.0</td>\n",
       "      <td>242.0</td>\n",
       "      <td>17.8</td>\n",
       "      <td>396.90</td>\n",
       "      <td>9.14</td>\n",
       "    </tr>\n",
       "    <tr>\n",
       "      <th>2</th>\n",
       "      <td>0.02729</td>\n",
       "      <td>0.0</td>\n",
       "      <td>7.07</td>\n",
       "      <td>0.0</td>\n",
       "      <td>0.469</td>\n",
       "      <td>7.185</td>\n",
       "      <td>61.1</td>\n",
       "      <td>4.9671</td>\n",
       "      <td>2.0</td>\n",
       "      <td>242.0</td>\n",
       "      <td>17.8</td>\n",
       "      <td>392.83</td>\n",
       "      <td>4.03</td>\n",
       "    </tr>\n",
       "    <tr>\n",
       "      <th>3</th>\n",
       "      <td>0.03237</td>\n",
       "      <td>0.0</td>\n",
       "      <td>2.18</td>\n",
       "      <td>0.0</td>\n",
       "      <td>0.458</td>\n",
       "      <td>6.998</td>\n",
       "      <td>45.8</td>\n",
       "      <td>6.0622</td>\n",
       "      <td>3.0</td>\n",
       "      <td>222.0</td>\n",
       "      <td>18.7</td>\n",
       "      <td>394.63</td>\n",
       "      <td>2.94</td>\n",
       "    </tr>\n",
       "    <tr>\n",
       "      <th>4</th>\n",
       "      <td>0.06905</td>\n",
       "      <td>0.0</td>\n",
       "      <td>2.18</td>\n",
       "      <td>0.0</td>\n",
       "      <td>0.458</td>\n",
       "      <td>7.147</td>\n",
       "      <td>54.2</td>\n",
       "      <td>6.0622</td>\n",
       "      <td>3.0</td>\n",
       "      <td>222.0</td>\n",
       "      <td>18.7</td>\n",
       "      <td>396.90</td>\n",
       "      <td>5.33</td>\n",
       "    </tr>\n",
       "  </tbody>\n",
       "</table>\n",
       "</div>"
      ],
      "text/plain": [
       "      CRIM    ZN  INDUS  CHAS    NOX  ...  RAD    TAX  PTRATIO       B  LSTAT\n",
       "0  0.00632  18.0   2.31   0.0  0.538  ...  1.0  296.0     15.3  396.90   4.98\n",
       "1  0.02731   0.0   7.07   0.0  0.469  ...  2.0  242.0     17.8  396.90   9.14\n",
       "2  0.02729   0.0   7.07   0.0  0.469  ...  2.0  242.0     17.8  392.83   4.03\n",
       "3  0.03237   0.0   2.18   0.0  0.458  ...  3.0  222.0     18.7  394.63   2.94\n",
       "4  0.06905   0.0   2.18   0.0  0.458  ...  3.0  222.0     18.7  396.90   5.33\n",
       "\n",
       "[5 rows x 13 columns]"
      ]
     },
     "execution_count": 60,
     "metadata": {
      "tags": []
     },
     "output_type": "execute_result"
    }
   ],
   "source": [
    "boston.head()"
   ]
  },
  {
   "cell_type": "code",
   "execution_count": 0,
   "metadata": {
    "colab": {},
    "colab_type": "code",
    "id": "ma4c34Iy1ewE"
   },
   "outputs": [],
   "source": [
    "a = np.array(boston.loc[0,['TAX','PTRATIO']])\n",
    "b = np.array(boston.loc[1,['TAX','PTRATIO']])"
   ]
  },
  {
   "cell_type": "code",
   "execution_count": 62,
   "metadata": {
    "colab": {
     "base_uri": "https://localhost:8080/",
     "height": 34
    },
    "colab_type": "code",
    "id": "IkxEAJTg3uzs",
    "outputId": "6bc74909-2868-4aa8-ee57-142b8a779f93"
   },
   "outputs": [
    {
     "data": {
      "text/plain": [
       "array([296. ,  15.3])"
      ]
     },
     "execution_count": 62,
     "metadata": {
      "tags": []
     },
     "output_type": "execute_result"
    }
   ],
   "source": [
    "a"
   ]
  },
  {
   "cell_type": "code",
   "execution_count": 0,
   "metadata": {
    "colab": {},
    "colab_type": "code",
    "id": "ij_EwPwJ3Q-C"
   },
   "outputs": [],
   "source": [
    "a = np.transpose([a])\n",
    "b = np.transpose([b])"
   ]
  },
  {
   "cell_type": "markdown",
   "metadata": {
    "colab_type": "text",
    "id": "uXAV8zB533P1"
   },
   "source": [
    "Матрица c составлена из двух векторов:"
   ]
  },
  {
   "cell_type": "code",
   "execution_count": 64,
   "metadata": {
    "colab": {
     "base_uri": "https://localhost:8080/",
     "height": 51
    },
    "colab_type": "code",
    "id": "GYkquHuP2HYk",
    "outputId": "8df68c31-7da3-4738-8270-e5ff16130fad"
   },
   "outputs": [
    {
     "name": "stdout",
     "output_type": "stream",
     "text": [
      "[[296.  242. ]\n",
      " [ 15.3  17.8]]\n"
     ]
    }
   ],
   "source": [
    "c = np.hstack((a, b))\n",
    "print(c)\n"
   ]
  },
  {
   "cell_type": "markdown",
   "metadata": {
    "colab_type": "text",
    "id": "aTmZkU-A39s4"
   },
   "source": [
    "Посчитаем детерминант:"
   ]
  },
  {
   "cell_type": "code",
   "execution_count": 65,
   "metadata": {
    "colab": {
     "base_uri": "https://localhost:8080/",
     "height": 34
    },
    "colab_type": "code",
    "id": "pbGtCpkr4AWr",
    "outputId": "687f346c-c8cb-411a-966e-eca68dc0029d"
   },
   "outputs": [
    {
     "name": "stdout",
     "output_type": "stream",
     "text": [
      "1566.2\n"
     ]
    }
   ],
   "source": [
    "print(np.linalg.det(c))"
   ]
  },
  {
   "cell_type": "markdown",
   "metadata": {
    "colab_type": "text",
    "id": "sByPT1z85NFq"
   },
   "source": [
    "Так как определитель не равен 0, значит, вектора не коллинеарны."
   ]
  },
  {
   "cell_type": "markdown",
   "metadata": {
    "colab_type": "text",
    "id": "d8l2shYQ5SUz"
   },
   "source": [
    "Нарисуем вектора в пространстве:"
   ]
  },
  {
   "cell_type": "code",
   "execution_count": 72,
   "metadata": {
    "colab": {
     "base_uri": "https://localhost:8080/",
     "height": 295
    },
    "colab_type": "code",
    "id": "TZTjE5em5Utb",
    "outputId": "f026f42a-e405-44e6-e4f7-fcee2a112993"
   },
   "outputs": [
    {
     "data": {
      "image/png": "[encoded data removed]",
      "text/plain": [
       "<Figure size 432x288 with 1 Axes>"
      ]
     },
     "metadata": {
      "tags": []
     },
     "output_type": "display_data"
    }
   ],
   "source": [
    "import matplotlib.pyplot as plt\n",
    "\n",
    "plt.plot([0,a[0]], [0,a[1]])\n",
    "plt.plot([0,b[0]], [0,b[1]])\n",
    "plt.title('График двух векторов')\n",
    "plt.ylabel('y')\n",
    "plt.xlabel('x')\n",
    "plt.legend(['дом 1','дом 2'])\n",
    "plt.show()"
   ]
  },
  {
   "cell_type": "markdown",
   "metadata": {
    "colab_type": "text",
    "id": "mE2jD51wDzav"
   },
   "source": [
    "# Преобразование вектора с помощью матрицы трансформаций"
   ]
  },
  {
   "cell_type": "markdown",
   "metadata": {
    "colab_type": "text",
    "id": "YM_HhY7iD7Tv"
   },
   "source": [
    "Допустим, матрица трансформаций выглядит следующим образом:"
   ]
  },
  {
   "cell_type": "code",
   "execution_count": 0,
   "metadata": {
    "colab": {
     "base_uri": "https://localhost:8080/",
     "height": 51
    },
    "colab_type": "code",
    "id": "HWkjVOAPEJV5",
    "outputId": "6ff504ec-3464-4bf9-e533-37e4176fadbb"
   },
   "outputs": [
    {
     "data": {
      "text/plain": [
       "array([[-1,  3],\n",
       "       [ 2, -2]])"
      ]
     },
     "execution_count": 12,
     "metadata": {
      "tags": []
     },
     "output_type": "execute_result"
    }
   ],
   "source": [
    "A = np.array([[-1, 3], [2, -2]])\n",
    "A"
   ]
  },
  {
   "cell_type": "markdown",
   "metadata": {
    "colab_type": "text",
    "id": "8aC_HS1MELsq"
   },
   "source": [
    "Применим её к следующему вектору:"
   ]
  },
  {
   "cell_type": "code",
   "execution_count": 0,
   "metadata": {
    "colab": {
     "base_uri": "https://localhost:8080/",
     "height": 51
    },
    "colab_type": "code",
    "id": "yWDruRoBEOYr",
    "outputId": "269e6ce4-c9c0-4b38-a135-47e5bf452f4a"
   },
   "outputs": [
    {
     "data": {
      "text/plain": [
       "array([[2],\n",
       "       [1]])"
      ]
     },
     "execution_count": 13,
     "metadata": {
      "tags": []
     },
     "output_type": "execute_result"
    }
   ],
   "source": [
    "v = np.array([[2], [1]])\n",
    "v"
   ]
  },
  {
   "cell_type": "markdown",
   "metadata": {
    "colab_type": "text",
    "id": "bsgJOMbKFqr3"
   },
   "source": [
    "Построим вектор **v** в пространстве:"
   ]
  },
  {
   "cell_type": "code",
   "execution_count": 0,
   "metadata": {
    "colab": {
     "base_uri": "https://localhost:8080/",
     "height": 298
    },
    "colab_type": "code",
    "id": "3vCZUIyvEK-X",
    "outputId": "a26922ff-220e-4fff-80cf-1ad27d2f33cd"
   },
   "outputs": [
    {
     "data": {
      "text/plain": [
       "(-1, 4)"
      ]
     },
     "execution_count": 30,
     "metadata": {
      "tags": []
     },
     "output_type": "execute_result"
    },
    {
     "data": {
      "image/png": "[encoded data removed]",
      "text/plain": [
       "<Figure size 432x288 with 1 Axes>"
      ]
     },
     "metadata": {
      "tags": []
     },
     "output_type": "display_data"
    }
   ],
   "source": [
    "plt.plot([0,v[0]],[0,v[1]],'-o')\n",
    "plt.title('Вектор v')\n",
    "plt.ylim(-1, 4)\n",
    "plt.xlim(-1, 4)"
   ]
  },
  {
   "cell_type": "markdown",
   "metadata": {
    "colab_type": "text",
    "id": "5FYGk8ahGZxA"
   },
   "source": [
    "Умножим на матрицу трансформаций:"
   ]
  },
  {
   "cell_type": "code",
   "execution_count": 0,
   "metadata": {
    "colab": {
     "base_uri": "https://localhost:8080/",
     "height": 320
    },
    "colab_type": "code",
    "id": "Qfs1zmljGdYN",
    "outputId": "1af2853a-1f5d-419b-eeb2-9195674b384c"
   },
   "outputs": [
    {
     "name": "stdout",
     "output_type": "stream",
     "text": [
      "[[1]\n",
      " [2]]\n"
     ]
    },
    {
     "data": {
      "text/plain": [
       "(-1, 4)"
      ]
     },
     "execution_count": 33,
     "metadata": {
      "tags": []
     },
     "output_type": "execute_result"
    },
    {
     "data": {
      "image/png": "[encoded data removed]",
      "text/plain": [
       "<Figure size 432x288 with 1 Axes>"
      ]
     },
     "metadata": {
      "tags": []
     },
     "output_type": "display_data"
    }
   ],
   "source": [
    "Av = A.dot(v)\n",
    "print(Av)\n",
    "plt.plot([0,v[0]],[0,v[1]],'-o')\n",
    "plt.plot([0,Av[0]],[0,Av[1]],'-x')\n",
    "plt.legend(['Вектор v','Вектор Av'])\n",
    "plt.ylim(-1, 4)\n",
    "plt.xlim(-1, 4)"
   ]
  },
  {
   "cell_type": "markdown",
   "metadata": {
    "colab_type": "text",
    "id": "QSI3M_JoHjix"
   },
   "source": [
    "Применив матрицу трансформаций A, мы изменили положение вектора в пространстве."
   ]
  },
  {
   "cell_type": "markdown",
   "metadata": {
    "colab_type": "text",
    "id": "Ws4ykUgXHouU"
   },
   "source": [
    "Представьте, что трансформация вектора **v** с помощью матрицы **A** даёт новый вектор, который направлен в том же направлении, что и исходный. Такой вектор называется **собственный**."
   ]
  },
  {
   "cell_type": "markdown",
   "metadata": {
    "colab_type": "text",
    "id": "HTGU1AydIDnJ"
   },
   "source": [
    "Запишем формулу для собственного вектора:\n",
    "$$\\boldsymbol{A\\upsilon }=\\lambda \\boldsymbol{\\upsilon }$$"
   ]
  },
  {
   "cell_type": "markdown",
   "metadata": {
    "colab_type": "text",
    "id": "9HNzV6DPII-Z"
   },
   "source": [
    "Допустим, матрица A имеет вид:\n",
    "$$\\boldsymbol{A}=\\begin{bmatrix}\n",
    "5 & 1\\\\ \n",
    "3 & 3\n",
    "\\end{bmatrix}$$\n",
    "\n",
    "Один из собственных векторов имеет вид:\n",
    "$$\\boldsymbol{v}=\\begin{bmatrix}\n",
    "1\\\\\n",
    "1\n",
    "\\end{bmatrix}$$\n",
    "\n",
    "Проверим это:\n",
    "$$\\begin{bmatrix}\n",
    "5 & 1\\\\ \n",
    "3 & 3\n",
    "\\end{bmatrix}\\cdot \\begin{bmatrix}\n",
    "1\\\\ \n",
    "1\n",
    "\\end{bmatrix}=\\begin{bmatrix}\n",
    "6\\\\ \n",
    "6\n",
    "\\end{bmatrix}=6\\cdot \\begin{bmatrix}\n",
    "1\\\\ \n",
    "1\n",
    "\\end{bmatrix}=\\lambda \\cdot \\begin{bmatrix}\n",
    "1\\\\ \n",
    "1\n",
    "\\end{bmatrix}$$"
   ]
  },
  {
   "cell_type": "markdown",
   "metadata": {
    "colab_type": "text",
    "id": "5DKCThapJMDi"
   },
   "source": [
    "Посмотрим направление собственного вектора:"
   ]
  },
  {
   "cell_type": "code",
   "execution_count": 0,
   "metadata": {
    "colab": {
     "base_uri": "https://localhost:8080/",
     "height": 51
    },
    "colab_type": "code",
    "id": "NaLLg3Q_JPzo",
    "outputId": "b0e996f6-b6de-403d-89e2-65a4fed62f3f"
   },
   "outputs": [
    {
     "data": {
      "text/plain": [
       "array([[5, 1],\n",
       "       [3, 3]])"
      ]
     },
     "execution_count": 34,
     "metadata": {
      "tags": []
     },
     "output_type": "execute_result"
    }
   ],
   "source": [
    "A = np.array([[5, 1], [3, 3]])\n",
    "A"
   ]
  },
  {
   "cell_type": "code",
   "execution_count": 0,
   "metadata": {
    "colab": {
     "base_uri": "https://localhost:8080/",
     "height": 51
    },
    "colab_type": "code",
    "id": "BTjX-LI2JT1K",
    "outputId": "8b77c5f4-ec2c-4d7a-c52d-76dfa4ddc4ce"
   },
   "outputs": [
    {
     "data": {
      "text/plain": [
       "array([[1],\n",
       "       [1]])"
      ]
     },
     "execution_count": 35,
     "metadata": {
      "tags": []
     },
     "output_type": "execute_result"
    }
   ],
   "source": [
    "v = np.array([[1], [1]])\n",
    "v"
   ]
  },
  {
   "cell_type": "code",
   "execution_count": 0,
   "metadata": {
    "colab": {
     "base_uri": "https://localhost:8080/",
     "height": 286
    },
    "colab_type": "code",
    "id": "Un9MPrgUJWyR",
    "outputId": "ffe8671f-bb1e-4dca-edb8-d8cac898fa50"
   },
   "outputs": [
    {
     "data": {
      "text/plain": [
       "(-1, 7)"
      ]
     },
     "execution_count": 41,
     "metadata": {
      "tags": []
     },
     "output_type": "execute_result"
    },
    {
     "data": {
      "image/png": "[encoded data removed]",
      "text/plain": [
       "<Figure size 432x288 with 1 Axes>"
      ]
     },
     "metadata": {
      "tags": []
     },
     "output_type": "display_data"
    }
   ],
   "source": [
    "Av = A.dot(v)\n",
    "\n",
    "plt.plot([0,Av[0]],[0,Av[1]], '-o')\n",
    "plt.plot([0,v[0]], [0,v[1]], '-o')\n",
    "plt.legend(['вектор  Av', 'вектор v'])\n",
    "plt.ylim(-1, 7)\n",
    "plt.xlim(-1, 7)"
   ]
  },
  {
   "cell_type": "markdown",
   "metadata": {
    "colab_type": "text",
    "id": "aQcVBy5EJ8F6"
   },
   "source": [
    "Можно заметить, что при трансформации направление вектора не поменялось. "
   ]
  },
  {
   "cell_type": "markdown",
   "metadata": {
    "colab_type": "text",
    "id": "8dzJrZO-KGJQ"
   },
   "source": [
    "Второй собственный вектор данной матрицы:\n",
    "$$\\boldsymbol{v}=\\begin{bmatrix}\n",
    "1\\\\ \n",
    "-3\n",
    "\\end{bmatrix}$$"
   ]
  },
  {
   "cell_type": "markdown",
   "metadata": {
    "colab_type": "text",
    "id": "otlpDkqHKUyR"
   },
   "source": [
    "Проверим направление векторов:"
   ]
  },
  {
   "cell_type": "code",
   "execution_count": 0,
   "metadata": {
    "colab": {
     "base_uri": "https://localhost:8080/",
     "height": 51
    },
    "colab_type": "code",
    "id": "XjhLSsEUKYvG",
    "outputId": "ad2f08b1-a340-4c68-ac0a-d900b6fe6c09"
   },
   "outputs": [
    {
     "data": {
      "text/plain": [
       "array([[ 1],\n",
       "       [-3]])"
      ]
     },
     "execution_count": 42,
     "metadata": {
      "tags": []
     },
     "output_type": "execute_result"
    }
   ],
   "source": [
    "v = np.array([[1], [-3]])\n",
    "v"
   ]
  },
  {
   "cell_type": "code",
   "execution_count": 0,
   "metadata": {
    "colab": {
     "base_uri": "https://localhost:8080/",
     "height": 286
    },
    "colab_type": "code",
    "id": "tgXI00YCKeTg",
    "outputId": "6da1204a-e821-4196-de2d-fee353d450a6"
   },
   "outputs": [
    {
     "data": {
      "text/plain": [
       "<matplotlib.legend.Legend at 0x7f3a7fc291d0>"
      ]
     },
     "execution_count": 45,
     "metadata": {
      "tags": []
     },
     "output_type": "execute_result"
    },
    {
     "data": {
      "image/png": "[encoded data removed]",
      "text/plain": [
       "<Figure size 432x288 with 1 Axes>"
      ]
     },
     "metadata": {
      "tags": []
     },
     "output_type": "display_data"
    }
   ],
   "source": [
    "Av = A.dot(v)\n",
    "\n",
    "plt.plot([0,Av[0]],[0,Av[1]], '-o')\n",
    "plt.plot([0,v[0]], [0,v[1]], '-o')\n",
    "plt.legend(['вектор  Av', 'вектор v'])\n"
   ]
  },
  {
   "cell_type": "markdown",
   "metadata": {
    "colab_type": "text",
    "id": "ZfYIpZsEMSgp"
   },
   "source": [
    "Собственные вектора при умножении на матрицу трансформаций не меняют направление, изменяется только длина вектора."
   ]
  },
  {
   "cell_type": "markdown",
   "metadata": {
    "colab_type": "text",
    "id": "mTrM1QnHGmg5"
   },
   "source": [
    "Пример подсчета собственного вектора и собственных чисел программно"
   ]
  },
  {
   "cell_type": "code",
   "execution_count": 0,
   "metadata": {
    "colab": {
     "base_uri": "https://localhost:8080/",
     "height": 136
    },
    "colab_type": "code",
    "id": "MrCZEzPYGbWV",
    "outputId": "e6640760-4551-4020-cba6-1f844f18fd98"
   },
   "outputs": [
    {
     "name": "stdout",
     "output_type": "stream",
     "text": [
      "Исходная матрица: \n",
      " [[5 1]\n",
      " [3 3]]\n",
      "Собственные вектора: \n",
      " [[ 0.70710678 -0.31622777]\n",
      " [ 0.70710678  0.9486833 ]]\n",
      "Собственные значения:  [6. 2.]\n"
     ]
    }
   ],
   "source": [
    "from numpy import linalg as LA\n",
    "import numpy as np\n",
    "import matplotlib.pyplot as plt\n",
    "\n",
    "A = np.array([[5, 1], [3, 3]])\n",
    "\n",
    "e_vals, e_vecs = LA.eig(A)\n",
    "print('Исходная матрица: \\n', A)\n",
    "\n",
    "print('Собственные вектора: \\n', e_vecs)\n",
    "print('Собственные значения: ', e_vals)"
   ]
  },
  {
   "cell_type": "markdown",
   "metadata": {
    "colab_type": "text",
    "id": "KUlrLRZdNIln"
   },
   "source": [
    "Найденные векторы отличаются по размеру от вышеприведенных векторов, но направлены они одинаково. Для обоих векторов выполняется следующая формула:\n",
    "$$\\boldsymbol{A\\upsilon }=\\lambda \\boldsymbol{\\upsilon }$$"
   ]
  },
  {
   "cell_type": "markdown",
   "metadata": {
    "colab_type": "text",
    "id": "ti85wteQQi6M"
   },
   "source": [
    "**Разложение на собственные векторы используется для оптимизации квадратичных функций**"
   ]
  },
  {
   "cell_type": "markdown",
   "metadata": {
    "colab_type": "text",
    "id": "gc7vuohAREB5"
   },
   "source": [
    "# Квадратичная функция и разложение на собственные вектора"
   ]
  },
  {
   "cell_type": "markdown",
   "metadata": {
    "colab_type": "text",
    "id": "CGmvxNjXRJ12"
   },
   "source": [
    "Если квадратичную функцию привести к следующему виду:\n",
    "$$f(\\boldsymbol{x})=ax_1^2+(b+c)x_1x_2+dx_2^2$$\n",
    "\n",
    "то данную функцию можно представить ввиде матричных операций:\n",
    "\n",
    "$$f(\\boldsymbol{x})=\\begin{bmatrix}\n",
    "x_1 & x_2\n",
    "\\end{bmatrix}\\begin{bmatrix}\n",
    "a & b \\\\ \n",
    "c & d\n",
    "\\end{bmatrix}\\begin{bmatrix}\n",
    "x_1\\\\ \n",
    "x_2\n",
    "\\end{bmatrix}=\\boldsymbol{x^TAx}$$"
   ]
  },
  {
   "cell_type": "markdown",
   "metadata": {
    "colab_type": "text",
    "id": "Uiwswqb0SCoK"
   },
   "source": [
    "Одна и та же функция может быть выражена через несколько матриц:"
   ]
  },
  {
   "cell_type": "markdown",
   "metadata": {
    "colab_type": "text",
    "id": "6yvacc7HSJff"
   },
   "source": [
    "$$2x_1^2+6x_1x_2+5x_2^2=\\begin{bmatrix}\n",
    "x_1 & x_2\n",
    "\\end{bmatrix}\\cdot \\begin{bmatrix}\n",
    "2 & 4\\\\ \n",
    "2 & 5\n",
    "\\end{bmatrix}\\cdot \\begin{bmatrix}\n",
    "x_1\\\\ \n",
    "x_2\n",
    "\\end{bmatrix}=\\begin{bmatrix}\n",
    "x_1 & x_2\n",
    "\\end{bmatrix}\\cdot \\begin{bmatrix}\n",
    "2 & -3\\\\ \n",
    "9 & 5\n",
    "\\end{bmatrix}\\cdot \\begin{bmatrix}\n",
    "x_1\\\\ \n",
    "x_2\n",
    "\\end{bmatrix}$$"
   ]
  },
  {
   "cell_type": "markdown",
   "metadata": {
    "colab_type": "text",
    "id": "5X5a1cfCS7rU"
   },
   "source": [
    "# Оптимизационные задачи"
   ]
  },
  {
   "cell_type": "markdown",
   "metadata": {
    "colab_type": "text",
    "id": "YBfHnzbTUCX-"
   },
   "source": [
    "В задачах машинного обучения решаются оптимизационные задачи: нахождение минимума или максимума функции при определенных ограничениях. "
   ]
  },
  {
   "cell_type": "markdown",
   "metadata": {
    "colab_type": "text",
    "id": "2uiioiGjUiO1"
   },
   "source": [
    "Например, мы хотим подобрать такую квадратичную функцию, у которой вектор x будет по длине не более единицы (например, у нас есть 1 доллар бюджета, что мы можем купить на этот доллар?). Данную проблему можно представить следующим образом:"
   ]
  },
  {
   "cell_type": "markdown",
   "metadata": {
    "colab_type": "text",
    "id": "4VOWAxtfU4bE"
   },
   "source": [
    "найти квадратичную функцию $f(\\boldsymbol{x})=\\boldsymbol{x^TAx}$, в которой $\\left \\| x \\right \\|_2=1$"
   ]
  },
  {
   "cell_type": "markdown",
   "metadata": {
    "colab_type": "text",
    "id": "k6No_k9Lj2W9"
   },
   "source": [
    "# Определённый и неопределённый интеграл"
   ]
  },
  {
   "cell_type": "markdown",
   "metadata": {
    "colab_type": "text",
    "id": "Fr11S3Gkj6zl"
   },
   "source": [
    "Задача: Расчитать значение определенного интегралла известной функции на диапазоне [a,b]\n",
    "\n",
    "Суть задачи сводится к нахождению площади фигуры ограниченной подынтегральной функцией и осью абцисс. Проиллюстрирован метод гвадратурных формул Гаусса и Симпсона."
   ]
  },
  {
   "cell_type": "code",
   "execution_count": 0,
   "metadata": {
    "colab": {
     "base_uri": "https://localhost:8080/",
     "height": 34
    },
    "colab_type": "code",
    "id": "eJvn2PxIj9PS",
    "outputId": "e82efa89-ee1c-4aa9-f316-6fc92f92fe46"
   },
   "outputs": [
    {
     "name": "stdout",
     "output_type": "stream",
     "text": [
      "(0.33333333333333337, 3.700743415417189e-15)\n"
     ]
    }
   ],
   "source": [
    "import scipy.integrate as spint\n",
    "def f(x):\n",
    "    return x*x\n",
    "a = 0\n",
    "b = 1\n",
    "print(spint.quad(f,a,b))"
   ]
  }
 ],
 "metadata": {
  "colab": {
   "include_colab_link": true,
   "name": "Untitled",
   "provenance": [],
   "version": "0.3.2"
  },
  "kernelspec": {
   "display_name": "Python 3",
   "language": "python",
   "name": "python3"
  },
  "language_info": {
   "codemirror_mode": {
    "name": "ipython",
    "version": 3
   },
   "file_extension": ".py",
   "mimetype": "text/x-python",
   "name": "python",
   "nbconvert_exporter": "python",
   "pygments_lexer": "ipython3",
   "version": "3.7.3"
  }
 },
 "nbformat": 4,
 "nbformat_minor": 1
}
