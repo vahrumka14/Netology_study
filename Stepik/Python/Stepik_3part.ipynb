{
 "cells": [
  {
   "cell_type": "markdown",
   "metadata": {},
   "source": [
    "3.1"
   ]
  },
  {
   "cell_type": "code",
   "execution_count": null,
   "metadata": {},
   "outputs": [],
   "source": [
    "def f(n):\n",
    "    return n * 10 + 5"
   ]
  },
  {
   "cell_type": "code",
   "execution_count": null,
   "metadata": {},
   "outputs": [],
   "source": [
    "n = 10"
   ]
  },
  {
   "cell_type": "code",
   "execution_count": null,
   "metadata": {},
   "outputs": [],
   "source": [
    "10*10+5"
   ]
  },
  {
   "cell_type": "code",
   "execution_count": null,
   "metadata": {},
   "outputs": [],
   "source": [
    "105*10+5"
   ]
  },
  {
   "cell_type": "code",
   "execution_count": null,
   "metadata": {},
   "outputs": [],
   "source": [
    "1055*10+5"
   ]
  },
  {
   "cell_type": "code",
   "execution_count": null,
   "metadata": {},
   "outputs": [],
   "source": [
    "f(f(f(10)))"
   ]
  },
  {
   "cell_type": "markdown",
   "metadata": {},
   "source": [
    "Напишите функцию f(x), которая возвращает значение следующей функции, определённой на всей числовой прямой:\n",
    "\n",
    "𝑓(𝑥)=⎧⎩⎨⎪⎪1−(𝑥+2)2,−𝑥2,(𝑥−2)2+1,при 𝑥≤−2при −2<𝑥≤2при 2<𝑥\n",
    "Требуется реализовать только функцию, решение не должно осуществлять операций ввода-вывода."
   ]
  },
  {
   "cell_type": "code",
   "execution_count": null,
   "metadata": {},
   "outputs": [],
   "source": [
    "def f(x):\n",
    "    if x <= -2:\n",
    "        return (1-(x+2)**2)\n",
    "    elif -2<x<=2:\n",
    "        return(-x/2)\n",
    "    elif x>2:\n",
    "        return ((x-2)**2+1)"
   ]
  },
  {
   "cell_type": "code",
   "execution_count": null,
   "metadata": {},
   "outputs": [],
   "source": [
    "f(1)"
   ]
  },
  {
   "cell_type": "markdown",
   "metadata": {},
   "source": [
    "Напишите функцию modify_list(l), которая принимает на вход список целых чисел, удаляет из него все нечётные значения, а чётные нацело делит на два. Функция не должна ничего возвращать, требуется только изменение переданного списка, например:\n",
    "lst = [1, 2, 3, 4, 5, 6]\n",
    "print(modify_list(lst))  # None\n",
    "print(lst)               # [1, 2, 3]\n",
    "modify_list(lst)\n",
    "print(lst)               # [1]\n",
    "\n",
    "lst = [10, 5, 8, 3]\n",
    "modify_list(lst)\n",
    "print(lst)               # [5, 4]"
   ]
  },
  {
   "cell_type": "code",
   "execution_count": null,
   "metadata": {},
   "outputs": [],
   "source": [
    "def modify_list(l):\n",
    "    s=[]\n",
    "    for i in l:\n",
    "        if i%2 != 0:\n",
    "            del i\n",
    "        else:\n",
    "            s.append(i)\n",
    "    t = []\n",
    "    for i in s:\n",
    "        t.append(i//2)\n",
    "    l[:]=t  # Для изменения списка необходимо писать \"list[:] =\" . В то время как \"list =\"  - создает новый список"
   ]
  },
  {
   "cell_type": "code",
   "execution_count": null,
   "metadata": {},
   "outputs": [],
   "source": [
    "l = [1, 2, 3, 4, 5, 6]\n",
    "modify_list(l)\n",
    "print(l) "
   ]
  },
  {
   "cell_type": "markdown",
   "metadata": {},
   "source": [
    "3.2"
   ]
  },
  {
   "cell_type": "markdown",
   "metadata": {},
   "source": [
    "Напишите функцию update_dictionary(d, key, value), которая принимает на вход словарь 𝑑 и два числа: 𝑘𝑒𝑦 и 𝑣𝑎𝑙𝑢𝑒.\n",
    "\n",
    "Если ключ 𝑘𝑒𝑦 есть в словаре 𝑑, то добавьте значение 𝑣𝑎𝑙𝑢𝑒 в список, который хранится по этому ключу. \n",
    "Если ключа 𝑘𝑒𝑦 нет в словаре, то нужно добавить значение в список по ключу 2⋅𝑘𝑒𝑦. Если и ключа 2⋅𝑘𝑒𝑦 нет, то нужно добавить ключ 2⋅𝑘𝑒𝑦 в словарь и сопоставить ему список из переданного элемента [𝑣𝑎𝑙𝑢𝑒].\n",
    "\n"
   ]
  },
  {
   "cell_type": "code",
   "execution_count": null,
   "metadata": {},
   "outputs": [],
   "source": [
    "def update_dictionary(d, key, value):\n",
    "    if key in d:\n",
    "        d[key].append(value)\n",
    "    else:\n",
    "        if 2*key in d:\n",
    "            d[2*key].append(value)\n",
    "        else:\n",
    "            d[2*key] = [value]   # добавляем не значение, а список значений"
   ]
  },
  {
   "cell_type": "code",
   "execution_count": null,
   "metadata": {},
   "outputs": [],
   "source": [
    "d = {}\n",
    "print(update_dictionary(d, 1, -1))  # None\n",
    "print(d)                            # {2: [-1]}\n",
    "update_dictionary(d, 2, -2)\n",
    "print(d)                            # {2: [-1, -2]}\n",
    "update_dictionary(d, 1, -3)\n",
    "print(d)                            # {2: [-1, -2, -3]}"
   ]
  },
  {
   "cell_type": "markdown",
   "metadata": {},
   "source": [
    "Когда Антон прочитал «Войну и мир», ему стало интересно, сколько слов и в каком количестве используется в этой книге.\n",
    "\n",
    "Помогите Антону написать упрощённую версию такой программы, которая сможет подсчитать слова, разделённые пробелом и вывести получившуюся статистику.\n",
    "\n",
    "Программа должна считывать одну строку со стандартного ввода и выводить для каждого уникального слова в этой строке число его повторений (без учёта регистра) в формате \"слово количество\" (см. пример вывода). \n",
    "Порядок вывода слов может быть произвольным, каждое уникальное слово﻿ должно выводиться только один раз."
   ]
  },
  {
   "cell_type": "code",
   "execution_count": null,
   "metadata": {},
   "outputs": [],
   "source": [
    "#str1 = input()\n",
    "str1 = 'a aa abC aa ac abc bcd a'"
   ]
  },
  {
   "cell_type": "code",
   "execution_count": null,
   "metadata": {},
   "outputs": [],
   "source": [
    "import collections\n",
    "counter = collections.Counter()\n",
    "str1 = input()\n",
    "str2 = str1.lower().split(' ')\n",
    "for i in str2:\n",
    "    counter[i] += 1\n",
    "for key, value in counter.items():\n",
    "    print(key,value, end = '\\n')"
   ]
  },
  {
   "cell_type": "code",
   "execution_count": null,
   "metadata": {},
   "outputs": [],
   "source": [
    "# или\n",
    "text = input().lower().split()\n",
    "dictionary = dict()\n",
    "for word in text:\n",
    "    if(word not in dictionary):\n",
    "        dictionary[word] = 1\n",
    "    else:\n",
    "        dictionary[word]+=1\n",
    "for word, count in dictionary.items():\n",
    "    print(word, count)"
   ]
  },
  {
   "cell_type": "markdown",
   "metadata": {},
   "source": [
    "Имеется реализованная функция 𝑓(𝑥), принимающая на вход целое число 𝑥, которая вычисляет некоторое целочисленое значение и возвращает его в качестве результата работы.\n",
    "\n",
    "Функция вычисляется достаточно долго, ничего не выводит на экран, не пишет в файлы и зависит только от переданного аргумента 𝑥.\n",
    "\n",
    "Напишите программу, которой на вход в первой строке подаётся число 𝑛 — количество значений 𝑥, для которых требуется узнать значение функции 𝑓(𝑥), после чего сами эти 𝑛 значений, каждое на отдельной строке. Программа должна после каждого введённого значения аргумента вывести соответствующие значения функции 𝑓 на отдельной строке.\n",
    "\n",
    "Для ускорения вычисления необходимо сохранять уже вычисленные значения функции при известных аргументах.\n",
    "\n",
    "Обратите внимание, что в этой задаче установлено достаточно сильное ограничение в две секунды по времени исполнения кода на тесте."
   ]
  },
  {
   "cell_type": "code",
   "execution_count": null,
   "metadata": {},
   "outputs": [],
   "source": [
    "def f(x):\n",
    "    return(x*x)"
   ]
  },
  {
   "cell_type": "code",
   "execution_count": null,
   "metadata": {},
   "outputs": [],
   "source": [
    "n = int(input())\n",
    "l = []\n",
    "for x in range(n):\n",
    "    a = int(input())\n",
    "    l.append(a)\n",
    "dic = {}\n",
    "for i in l:\n",
    "    if i in dic:\n",
    "        print(dic[i])\n",
    "    else:\n",
    "        n = f(i)\n",
    "        print(n)\n",
    "        dic[i] = n"
   ]
  },
  {
   "cell_type": "code",
   "execution_count": null,
   "metadata": {},
   "outputs": [],
   "source": [
    "n = int(input())\n",
    "l = []\n",
    "for x in range(n):\n",
    "    a = int(input())\n",
    "    l.append(a)\n",
    "dic = {}\n",
    "for i in l:\n",
    "    if i not in dic:\n",
    "        dic[i] = f(i)\n",
    "    print(dic[i])"
   ]
  },
  {
   "cell_type": "markdown",
   "metadata": {},
   "source": [
    "3.4 Файловый ввод/вывод\n",
    "На прошлой неделе мы сжимали строки, используя кодирование повторов. Теперь нашей задачей будет восстановление исходной строки обратно.\n",
    "\n",
    "Напишите программу, которая считывает из файла строку, соответствующую тексту, сжатому с помощью кодирования повторов, и производит обратную операцию, получая исходный текст.\n",
    "\n",
    "Запишите полученный текст в файл и прикрепите его, как ответ на это задание.\n",
    "\n",
    "В исходном тексте не встречаются цифры, так что код однозначно интерпретируем."
   ]
  },
  {
   "cell_type": "code",
   "execution_count": null,
   "metadata": {},
   "outputs": [],
   "source": [
    "with open('dataset_3363_2.txt') as text:\n",
    "    for line in text:\n",
    "        line = line.strip()\n",
    "        print(line)\n",
    "stroka = ''\n",
    "for i in range(len(line)):\n",
    "    if i+2<len(line): \n",
    "        if line[i].isalpha():\n",
    "            if line[i+1].isdigit():\n",
    "                if line[i+2].isdigit():\n",
    "                    n = int(line[i+1]+line[i+2])\n",
    "                    d = line[i]*n\n",
    "                    stroka += d\n",
    "                else:\n",
    "                    d = line[i]*int(line[i+1])\n",
    "                    stroka += d\n",
    "    else:\n",
    "        if line[i].isalpha():\n",
    "            if line[i+1].isdigit():\n",
    "                d = line[i]*int(line[i+1])\n",
    "                stroka += d        \n",
    "print(stroka)\n",
    "ouf = open('dataset_3363_222.txt', 'w')\n",
    "ouf.write(stroka)\n",
    "ouf.close()"
   ]
  },
  {
   "cell_type": "markdown",
   "metadata": {},
   "source": [
    "Недавно мы считали для каждого слова количество его вхождений в строку. Но на все слова может быть не так интересно смотреть, как, например, на наиболее часто используемые.\n",
    "\n",
    "Напишите программу, которая считывает текст из файла (в файле может быть больше одной строки) и выводит самое частое слово в этом тексте и через пробел то, сколько раз оно встретилось. Если таких слов несколько, вывести лексикографически первое (можно использовать оператор < для строк).\n",
    "\n",
    "В качестве ответа укажите вывод программы, а не саму программу.\n",
    "\n",
    "Слова, написанные в разных регистрах, считаются одинаковыми."
   ]
  },
  {
   "cell_type": "code",
   "execution_count": null,
   "metadata": {},
   "outputs": [],
   "source": [
    "line = open('dataset_3363_3.txt', 'r').read()\n",
    "line = line.lower().strip()\n",
    "line = line.split()\n",
    "dic = {}\n",
    "for i in line:\n",
    "    if i not in dic:\n",
    "        dic[i] = 1\n",
    "    else:\n",
    "        dic[i]+=1\n",
    "for key, value in sorted(dic.items()):\n",
    "    if dic[key] == max(dic.values()):\n",
    "        print(key, value)"
   ]
  },
  {
   "cell_type": "markdown",
   "metadata": {},
   "source": [
    "Имеется файл с данными по успеваемости абитуриентов. Он представляет из себя набор строк, где в каждой строке записана следующая информация:\n",
    "\n",
    "Фамилия;Оценка_по_математике;Оценка_по_физике;Оценка_по_русскому_языку\n",
    "\n",
    "Поля внутри строки разделены точкой с запятой, оценки — целые числа.\n",
    "\n",
    "Напишите программу, которая считывает файл с подобной структурой и для каждого абитуриента выводит его среднюю оценку по этим трём предметам на отдельной строке, соответствующей этому абитуриенту.\n",
    "\n",
    "Также в конце файла, на отдельной строке, через пробел запишите средние баллы по математике, физике и русскому языку по всем абитуриентам.\n",
    "\n",
    "В качестве ответа на задание прикрепите полученный файл со средними оценками."
   ]
  },
  {
   "cell_type": "code",
   "execution_count": null,
   "metadata": {},
   "outputs": [],
   "source": [
    "Sample Input:\n",
    "\n",
    "Петров;85;92;78\n",
    "Сидоров;100;88;94\n",
    "Иванов;58;72;85\n",
    "Sample Output:\n",
    "\n",
    "85.0\n",
    "94.0\n",
    "71.666666667\n",
    "81.0 84.0 85.666666667"
   ]
  },
  {
   "cell_type": "code",
   "execution_count": null,
   "metadata": {},
   "outputs": [],
   "source": [
    "l = []\n",
    "with open('dataset_3363_4.txt') as text:\n",
    "    for i in text.readlines():\n",
    "        s1 = i.strip().split(\";\")\n",
    "        l.append(s1)\n",
    "l1 = []\n",
    "l2 = []\n",
    "l3 = []\n",
    "ouf = open('file.txt', 'a')\n",
    "for i in l:\n",
    "    d = (int(i[1])+int(i[2])+int(i[3]))/3\n",
    "    ouf.write(str(d)+ '\\n')\n",
    "    l1.append(int(i[1]))\n",
    "    l2.append(int(i[2]))\n",
    "    l3.append(int(i[3]))\n",
    "ouf.write(str(sum(l1)/len(l1)) + ' ')\n",
    "ouf.write(str(sum(l2)/len(l2)) + ' ')\n",
    "ouf.write(str(sum(l3)/len(l3)))"
   ]
  },
  {
   "cell_type": "markdown",
   "metadata": {},
   "source": [
    "# 3.5 Модули, подключение модулей"
   ]
  },
  {
   "cell_type": "markdown",
   "metadata": {},
   "source": [
    "Напишите программу, которая подключает модуль math и, используя значение числа \\piπ из этого модуля, находит для переданного ей на стандартный ввод радиуса круга периметр этого круга и выводит его на стандартный вывод."
   ]
  },
  {
   "cell_type": "code",
   "execution_count": null,
   "metadata": {},
   "outputs": [],
   "source": [
    "import math\n",
    "radius = float(input())\n",
    "perimetr = radius * 2 * math.pi\n",
    "print(perimetr)"
   ]
  },
  {
   "cell_type": "markdown",
   "metadata": {},
   "source": [
    "Напишите программу, которая запускается из консоли и печатает значения всех переданных аргументов на экран (имя скрипта выводить не нужно). Не изменяйте порядок аргументов при выводе.\n",
    "\n",
    "Для доступа к аргументам командной строки программы подключите модуль sys и используйте переменную argv из этого модуля."
   ]
  },
  {
   "cell_type": "code",
   "execution_count": null,
   "metadata": {},
   "outputs": [],
   "source": [
    "import sys\n",
    "print(*sys.argv[1:])\n",
    "# print(*list[]) это \"распаковка\" списка (да и не только). \n",
    "# позволяет вывести не список (с [] и запятыми между  элементами), а только элементы."
   ]
  },
  {
   "cell_type": "markdown",
   "metadata": {},
   "source": [
    "# 3.6 Установка дополнительных модулей"
   ]
  },
  {
   "cell_type": "markdown",
   "metadata": {},
   "source": [
    "Скачайте файл. В нём указан адрес другого файла, который нужно скачать с использованием модуля requests и посчитать число строк в нём.\n",
    "\n",
    "Используйте функцию get для получения файла (имеет смысл вызвать метод strip к передаваемому параметру, чтобы убрать пробельные символы по краям).\n",
    "\n",
    "После получения файла вы можете проверить результат, обратившись к полю text. Если результат работы скрипта не принимается, проверьте поле url на правильность. Для подсчёта количества строк разбейте текст с помощью метода splitlines.\n",
    "\n",
    "В поле ответа введите одно число или отправьте файл, содержащий одно число."
   ]
  },
  {
   "cell_type": "code",
   "execution_count": 3,
   "metadata": {},
   "outputs": [],
   "source": [
    "import requests"
   ]
  },
  {
   "cell_type": "code",
   "execution_count": 4,
   "metadata": {},
   "outputs": [
    {
     "data": {
      "text/plain": [
       "54"
      ]
     },
     "execution_count": 4,
     "metadata": {},
     "output_type": "execute_result"
    }
   ],
   "source": [
    "inf = open('dataset_3378_2.txt', 'r')  \n",
    "url = inf.readline().strip()\n",
    "r = requests.get(url)\n",
    "r_new = r.text.splitlines()\n",
    "len(r_new)"
   ]
  },
  {
   "cell_type": "code",
   "execution_count": null,
   "metadata": {},
   "outputs": [],
   "source": [
    "r = requests.get(\"\")\n",
    "print(r.text)\n",
    "\n",
    "url = \"\"\n",
    "par = {'key1': 'value1', 'key2': 'value2'}\n",
    "r = requests.get(url, params = par)\n",
    "print(r.url)"
   ]
  },
  {
   "cell_type": "markdown",
   "metadata": {},
   "source": [
    "Имеется набор файлов, каждый из которых, кроме последнего, содержит имя следующего файла.\n",
    "Первое слово в тексте последнего файла: \"We\".\n",
    "\n",
    "Скачайте предложенный файл. В нём содержится ссылка на первый файл из этого набора.\n",
    "\n",
    "Все файлы располагаются в каталоге по адресу:\n",
    "https://stepic.org/media/attachments/course67/3.6.3/\n",
    "\n",
    "Загрузите содержимое ﻿последнего файла из набора, как ответ на это задание."
   ]
  },
  {
   "cell_type": "code",
   "execution_count": 28,
   "metadata": {},
   "outputs": [
    {
     "name": "stdout",
     "output_type": "stream",
     "text": [
      "https://stepic.org/media/attachments/course67/3.6.3/396639.txt\n",
      "https://stepic.org/media/attachments/course67/3.6.3/835329.txt\n",
      "https://stepic.org/media/attachments/course67/3.6.3/344063.txt\n",
      "https://stepic.org/media/attachments/course67/3.6.3/194307.txt\n",
      "https://stepic.org/media/attachments/course67/3.6.3/195211.txt\n",
      "https://stepic.org/media/attachments/course67/3.6.3/769171.txt\n",
      "https://stepic.org/media/attachments/course67/3.6.3/153554.txt\n",
      "https://stepic.org/media/attachments/course67/3.6.3/680916.txt\n",
      "https://stepic.org/media/attachments/course67/3.6.3/335636.txt\n",
      "https://stepic.org/media/attachments/course67/3.6.3/935728.txt\n",
      "https://stepic.org/media/attachments/course67/3.6.3/081303.txt\n",
      "https://stepic.org/media/attachments/course67/3.6.3/792633.txt\n",
      "https://stepic.org/media/attachments/course67/3.6.3/668368.txt\n",
      "https://stepic.org/media/attachments/course67/3.6.3/647731.txt\n",
      "https://stepic.org/media/attachments/course67/3.6.3/904392.txt\n",
      "https://stepic.org/media/attachments/course67/3.6.3/684563.txt\n",
      "https://stepic.org/media/attachments/course67/3.6.3/997337.txt\n",
      "https://stepic.org/media/attachments/course67/3.6.3/329467.txt\n",
      "https://stepic.org/media/attachments/course67/3.6.3/366219.txt\n",
      "https://stepic.org/media/attachments/course67/3.6.3/730037.txt\n",
      "https://stepic.org/media/attachments/course67/3.6.3/310230.txt\n",
      "https://stepic.org/media/attachments/course67/3.6.3/104249.txt\n",
      "https://stepic.org/media/attachments/course67/3.6.3/382504.txt\n",
      "https://stepic.org/media/attachments/course67/3.6.3/433681.txt\n",
      "https://stepic.org/media/attachments/course67/3.6.3/507359.txt\n",
      "https://stepic.org/media/attachments/course67/3.6.3/293649.txt\n",
      "https://stepic.org/media/attachments/course67/3.6.3/011641.txt\n",
      "https://stepic.org/media/attachments/course67/3.6.3/717942.txt\n",
      "https://stepic.org/media/attachments/course67/3.6.3/258080.txt\n",
      "https://stepic.org/media/attachments/course67/3.6.3/569395.txt\n",
      "https://stepic.org/media/attachments/course67/3.6.3/756825.txt\n",
      "https://stepic.org/media/attachments/course67/3.6.3/921388.txt\n",
      "https://stepic.org/media/attachments/course67/3.6.3/437007.txt\n",
      "https://stepic.org/media/attachments/course67/3.6.3/004090.txt\n",
      "https://stepic.org/media/attachments/course67/3.6.3/362705.txt\n",
      "https://stepic.org/media/attachments/course67/3.6.3/145282.txt\n",
      "https://stepic.org/media/attachments/course67/3.6.3/990216.txt\n",
      "https://stepic.org/media/attachments/course67/3.6.3/645783.txt\n",
      "https://stepic.org/media/attachments/course67/3.6.3/451262.txt\n",
      "https://stepic.org/media/attachments/course67/3.6.3/193295.txt\n",
      "https://stepic.org/media/attachments/course67/3.6.3/777343.txt\n",
      "https://stepic.org/media/attachments/course67/3.6.3/324603.txt\n",
      "https://stepic.org/media/attachments/course67/3.6.3/888934.txt\n",
      "https://stepic.org/media/attachments/course67/3.6.3/138655.txt\n",
      "https://stepic.org/media/attachments/course67/3.6.3/818396.txt\n",
      "https://stepic.org/media/attachments/course67/3.6.3/290594.txt\n",
      "https://stepic.org/media/attachments/course67/3.6.3/478003.txt\n",
      "https://stepic.org/media/attachments/course67/3.6.3/276687.txt\n",
      "https://stepic.org/media/attachments/course67/3.6.3/703763.txt\n",
      "https://stepic.org/media/attachments/course67/3.6.3/712469.txt\n",
      "https://stepic.org/media/attachments/course67/3.6.3/064418.txt\n",
      "https://stepic.org/media/attachments/course67/3.6.3/246033.txt\n",
      "https://stepic.org/media/attachments/course67/3.6.3/356768.txt\n",
      "https://stepic.org/media/attachments/course67/3.6.3/504290.txt\n",
      "https://stepic.org/media/attachments/course67/3.6.3/629914.txt\n",
      "https://stepic.org/media/attachments/course67/3.6.3/062456.txt\n",
      "https://stepic.org/media/attachments/course67/3.6.3/658472.txt\n",
      "https://stepic.org/media/attachments/course67/3.6.3/037659.txt\n",
      "https://stepic.org/media/attachments/course67/3.6.3/351978.txt\n",
      "https://stepic.org/media/attachments/course67/3.6.3/523822.txt\n",
      "https://stepic.org/media/attachments/course67/3.6.3/653493.txt\n",
      "https://stepic.org/media/attachments/course67/3.6.3/859227.txt\n",
      "https://stepic.org/media/attachments/course67/3.6.3/878358.txt\n",
      "https://stepic.org/media/attachments/course67/3.6.3/944504.txt\n",
      "https://stepic.org/media/attachments/course67/3.6.3/457602.txt\n",
      "https://stepic.org/media/attachments/course67/3.6.3/548571.txt\n",
      "https://stepic.org/media/attachments/course67/3.6.3/090976.txt\n",
      "https://stepic.org/media/attachments/course67/3.6.3/965991.txt\n",
      "https://stepic.org/media/attachments/course67/3.6.3/138128.txt\n",
      "https://stepic.org/media/attachments/course67/3.6.3/255843.txt\n",
      "https://stepic.org/media/attachments/course67/3.6.3/797598.txt\n",
      "https://stepic.org/media/attachments/course67/3.6.3/640003.txt\n",
      "https://stepic.org/media/attachments/course67/3.6.3/789435.txt\n",
      "https://stepic.org/media/attachments/course67/3.6.3/181382.txt\n",
      "https://stepic.org/media/attachments/course67/3.6.3/590526.txt\n",
      "https://stepic.org/media/attachments/course67/3.6.3/430513.txt\n",
      "https://stepic.org/media/attachments/course67/3.6.3/182774.txt\n",
      "https://stepic.org/media/attachments/course67/3.6.3/924794.txt\n",
      "https://stepic.org/media/attachments/course67/3.6.3/998193.txt\n",
      "https://stepic.org/media/attachments/course67/3.6.3/770039.txt\n",
      "https://stepic.org/media/attachments/course67/3.6.3/619504.txt\n",
      "https://stepic.org/media/attachments/course67/3.6.3/098137.txt\n",
      "https://stepic.org/media/attachments/course67/3.6.3/874234.txt\n",
      "https://stepic.org/media/attachments/course67/3.6.3/476929.txt\n",
      "https://stepic.org/media/attachments/course67/3.6.3/254654.txt\n",
      "https://stepic.org/media/attachments/course67/3.6.3/972817.txt\n",
      "https://stepic.org/media/attachments/course67/3.6.3/183249.txt\n",
      "https://stepic.org/media/attachments/course67/3.6.3/231788.txt\n",
      "https://stepic.org/media/attachments/course67/3.6.3/238807.txt\n",
      "https://stepic.org/media/attachments/course67/3.6.3/775176.txt\n",
      "https://stepic.org/media/attachments/course67/3.6.3/332055.txt\n",
      "https://stepic.org/media/attachments/course67/3.6.3/971266.txt\n",
      "https://stepic.org/media/attachments/course67/3.6.3/641342.txt\n",
      "https://stepic.org/media/attachments/course67/3.6.3/377648.txt\n",
      "https://stepic.org/media/attachments/course67/3.6.3/665641.txt\n",
      "https://stepic.org/media/attachments/course67/3.6.3/120842.txt\n",
      "https://stepic.org/media/attachments/course67/3.6.3/435728.txt\n",
      "https://stepic.org/media/attachments/course67/3.6.3/860507.txt\n",
      "https://stepic.org/media/attachments/course67/3.6.3/845049.txt\n",
      "https://stepic.org/media/attachments/course67/3.6.3/103662.txt\n",
      "https://stepic.org/media/attachments/course67/3.6.3/989375.txt\n",
      "https://stepic.org/media/attachments/course67/3.6.3/949525.txt\n",
      "https://stepic.org/media/attachments/course67/3.6.3/622807.txt\n",
      "https://stepic.org/media/attachments/course67/3.6.3/441279.txt\n",
      "https://stepic.org/media/attachments/course67/3.6.3/252484.txt\n",
      "https://stepic.org/media/attachments/course67/3.6.3/595082.txt\n",
      "https://stepic.org/media/attachments/course67/3.6.3/942502.txt\n",
      "https://stepic.org/media/attachments/course67/3.6.3/544418.txt\n",
      "https://stepic.org/media/attachments/course67/3.6.3/242071.txt\n",
      "https://stepic.org/media/attachments/course67/3.6.3/696203.txt\n",
      "https://stepic.org/media/attachments/course67/3.6.3/470997.txt\n",
      "https://stepic.org/media/attachments/course67/3.6.3/858079.txt\n",
      "https://stepic.org/media/attachments/course67/3.6.3/299971.txt\n",
      "https://stepic.org/media/attachments/course67/3.6.3/474312.txt\n",
      "https://stepic.org/media/attachments/course67/3.6.3/202815.txt\n",
      "https://stepic.org/media/attachments/course67/3.6.3/192361.txt\n",
      "https://stepic.org/media/attachments/course67/3.6.3/036087.txt\n",
      "https://stepic.org/media/attachments/course67/3.6.3/208836.txt\n",
      "https://stepic.org/media/attachments/course67/3.6.3/057270.txt\n",
      "https://stepic.org/media/attachments/course67/3.6.3/414940.txt\n",
      "https://stepic.org/media/attachments/course67/3.6.3/685551.txt\n",
      "https://stepic.org/media/attachments/course67/3.6.3/877276.txt\n",
      "https://stepic.org/media/attachments/course67/3.6.3/183839.txt\n",
      "https://stepic.org/media/attachments/course67/3.6.3/681194.txt\n",
      "https://stepic.org/media/attachments/course67/3.6.3/268115.txt\n",
      "https://stepic.org/media/attachments/course67/3.6.3/850395.txt\n",
      "https://stepic.org/media/attachments/course67/3.6.3/841311.txt\n",
      "https://stepic.org/media/attachments/course67/3.6.3/318124.txt\n",
      "https://stepic.org/media/attachments/course67/3.6.3/502298.txt\n",
      "https://stepic.org/media/attachments/course67/3.6.3/870820.txt\n",
      "https://stepic.org/media/attachments/course67/3.6.3/886554.txt\n",
      "https://stepic.org/media/attachments/course67/3.6.3/874723.txt\n"
     ]
    },
    {
     "name": "stdout",
     "output_type": "stream",
     "text": [
      "https://stepic.org/media/attachments/course67/3.6.3/785247.txt\n",
      "https://stepic.org/media/attachments/course67/3.6.3/743951.txt\n",
      "https://stepic.org/media/attachments/course67/3.6.3/893121.txt\n",
      "https://stepic.org/media/attachments/course67/3.6.3/493592.txt\n",
      "https://stepic.org/media/attachments/course67/3.6.3/043302.txt\n",
      "https://stepic.org/media/attachments/course67/3.6.3/512901.txt\n",
      "https://stepic.org/media/attachments/course67/3.6.3/455422.txt\n",
      "https://stepic.org/media/attachments/course67/3.6.3/405792.txt\n",
      "https://stepic.org/media/attachments/course67/3.6.3/223561.txt\n",
      "https://stepic.org/media/attachments/course67/3.6.3/711048.txt\n",
      "https://stepic.org/media/attachments/course67/3.6.3/986818.txt\n",
      "https://stepic.org/media/attachments/course67/3.6.3/919305.txt\n",
      "https://stepic.org/media/attachments/course67/3.6.3/673023.txt\n",
      "https://stepic.org/media/attachments/course67/3.6.3/195915.txt\n",
      "https://stepic.org/media/attachments/course67/3.6.3/113918.txt\n",
      "https://stepic.org/media/attachments/course67/3.6.3/829948.txt\n",
      "https://stepic.org/media/attachments/course67/3.6.3/407495.txt\n",
      "https://stepic.org/media/attachments/course67/3.6.3/799448.txt\n",
      "https://stepic.org/media/attachments/course67/3.6.3/455591.txt\n",
      "https://stepic.org/media/attachments/course67/3.6.3/046533.txt\n",
      "https://stepic.org/media/attachments/course67/3.6.3/895838.txt\n",
      "https://stepic.org/media/attachments/course67/3.6.3/203749.txt\n",
      "https://stepic.org/media/attachments/course67/3.6.3/897513.txt\n",
      "https://stepic.org/media/attachments/course67/3.6.3/023903.txt\n",
      "https://stepic.org/media/attachments/course67/3.6.3/639854.txt\n",
      "https://stepic.org/media/attachments/course67/3.6.3/767954.txt\n",
      "https://stepic.org/media/attachments/course67/3.6.3/483260.txt\n",
      "https://stepic.org/media/attachments/course67/3.6.3/305657.txt\n",
      "https://stepic.org/media/attachments/course67/3.6.3/113973.txt\n",
      "https://stepic.org/media/attachments/course67/3.6.3/569665.txt\n",
      "https://stepic.org/media/attachments/course67/3.6.3/811640.txt\n",
      "https://stepic.org/media/attachments/course67/3.6.3/627996.txt\n",
      "https://stepic.org/media/attachments/course67/3.6.3/555691.txt\n",
      "https://stepic.org/media/attachments/course67/3.6.3/126531.txt\n",
      "https://stepic.org/media/attachments/course67/3.6.3/434239.txt\n",
      "https://stepic.org/media/attachments/course67/3.6.3/812997.txt\n",
      "https://stepic.org/media/attachments/course67/3.6.3/012540.txt\n",
      "https://stepic.org/media/attachments/course67/3.6.3/457171.txt\n",
      "https://stepic.org/media/attachments/course67/3.6.3/809767.txt\n",
      "https://stepic.org/media/attachments/course67/3.6.3/113083.txt\n",
      "https://stepic.org/media/attachments/course67/3.6.3/168190.txt\n",
      "https://stepic.org/media/attachments/course67/3.6.3/105218.txt\n",
      "https://stepic.org/media/attachments/course67/3.6.3/426930.txt\n",
      "https://stepic.org/media/attachments/course67/3.6.3/839383.txt\n",
      "https://stepic.org/media/attachments/course67/3.6.3/318610.txt\n",
      "https://stepic.org/media/attachments/course67/3.6.3/727580.txt\n",
      "https://stepic.org/media/attachments/course67/3.6.3/966169.txt\n",
      "https://stepic.org/media/attachments/course67/3.6.3/633699.txt\n",
      "https://stepic.org/media/attachments/course67/3.6.3/933699.txt\n",
      "https://stepic.org/media/attachments/course67/3.6.3/254907.txt\n",
      "https://stepic.org/media/attachments/course67/3.6.3/277257.txt\n",
      "https://stepic.org/media/attachments/course67/3.6.3/105289.txt\n",
      "https://stepic.org/media/attachments/course67/3.6.3/618947.txt\n",
      "https://stepic.org/media/attachments/course67/3.6.3/788422.txt\n",
      "https://stepic.org/media/attachments/course67/3.6.3/598850.txt\n",
      "https://stepic.org/media/attachments/course67/3.6.3/218724.txt\n",
      "https://stepic.org/media/attachments/course67/3.6.3/855788.txt\n",
      "https://stepic.org/media/attachments/course67/3.6.3/414896.txt\n",
      "https://stepic.org/media/attachments/course67/3.6.3/086361.txt\n",
      "https://stepic.org/media/attachments/course67/3.6.3/259720.txt\n",
      "https://stepic.org/media/attachments/course67/3.6.3/864746.txt\n",
      "https://stepic.org/media/attachments/course67/3.6.3/213015.txt\n",
      "https://stepic.org/media/attachments/course67/3.6.3/706951.txt\n",
      "https://stepic.org/media/attachments/course67/3.6.3/790699.txt\n",
      "https://stepic.org/media/attachments/course67/3.6.3/556965.txt\n",
      "https://stepic.org/media/attachments/course67/3.6.3/843911.txt\n",
      "https://stepic.org/media/attachments/course67/3.6.3/824452.txt\n",
      "https://stepic.org/media/attachments/course67/3.6.3/558623.txt\n",
      "https://stepic.org/media/attachments/course67/3.6.3/299517.txt\n",
      "https://stepic.org/media/attachments/course67/3.6.3/204151.txt\n",
      "https://stepic.org/media/attachments/course67/3.6.3/864178.txt\n",
      "https://stepic.org/media/attachments/course67/3.6.3/001410.txt\n",
      "https://stepic.org/media/attachments/course67/3.6.3/268784.txt\n",
      "https://stepic.org/media/attachments/course67/3.6.3/413917.txt\n",
      "https://stepic.org/media/attachments/course67/3.6.3/258819.txt\n",
      "https://stepic.org/media/attachments/course67/3.6.3/694433.txt\n",
      "https://stepic.org/media/attachments/course67/3.6.3/376424.txt\n",
      "https://stepic.org/media/attachments/course67/3.6.3/198564.txt\n",
      "https://stepic.org/media/attachments/course67/3.6.3/228068.txt\n",
      "https://stepic.org/media/attachments/course67/3.6.3/417050.txt\n",
      "https://stepic.org/media/attachments/course67/3.6.3/453058.txt\n",
      "https://stepic.org/media/attachments/course67/3.6.3/182986.txt\n",
      "https://stepic.org/media/attachments/course67/3.6.3/237570.txt\n",
      "https://stepic.org/media/attachments/course67/3.6.3/680981.txt\n",
      "https://stepic.org/media/attachments/course67/3.6.3/865546.txt\n",
      "https://stepic.org/media/attachments/course67/3.6.3/367559.txt\n",
      "https://stepic.org/media/attachments/course67/3.6.3/122687.txt\n",
      "https://stepic.org/media/attachments/course67/3.6.3/783680.txt\n",
      "https://stepic.org/media/attachments/course67/3.6.3/626200.txt\n",
      "https://stepic.org/media/attachments/course67/3.6.3/953943.txt\n",
      "https://stepic.org/media/attachments/course67/3.6.3/009102.txt\n",
      "https://stepic.org/media/attachments/course67/3.6.3/882919.txt\n",
      "https://stepic.org/media/attachments/course67/3.6.3/984198.txt\n",
      "https://stepic.org/media/attachments/course67/3.6.3/867571.txt\n",
      "https://stepic.org/media/attachments/course67/3.6.3/889641.txt\n",
      "https://stepic.org/media/attachments/course67/3.6.3/223919.txt\n",
      "https://stepic.org/media/attachments/course67/3.6.3/748056.txt\n",
      "https://stepic.org/media/attachments/course67/3.6.3/577611.txt\n",
      "https://stepic.org/media/attachments/course67/3.6.3/749540.txt\n",
      "https://stepic.org/media/attachments/course67/3.6.3/536080.txt\n",
      "https://stepic.org/media/attachments/course67/3.6.3/351770.txt\n",
      "https://stepic.org/media/attachments/course67/3.6.3/968708.txt\n",
      "https://stepic.org/media/attachments/course67/3.6.3/311090.txt\n",
      "https://stepic.org/media/attachments/course67/3.6.3/239129.txt\n",
      "https://stepic.org/media/attachments/course67/3.6.3/312237.txt\n",
      "https://stepic.org/media/attachments/course67/3.6.3/053569.txt\n",
      "https://stepic.org/media/attachments/course67/3.6.3/678528.txt\n",
      "https://stepic.org/media/attachments/course67/3.6.3/767429.txt\n",
      "https://stepic.org/media/attachments/course67/3.6.3/095729.txt\n",
      "https://stepic.org/media/attachments/course67/3.6.3/452488.txt\n",
      "https://stepic.org/media/attachments/course67/3.6.3/798915.txt\n",
      "https://stepic.org/media/attachments/course67/3.6.3/426191.txt\n",
      "https://stepic.org/media/attachments/course67/3.6.3/067336.txt\n",
      "https://stepic.org/media/attachments/course67/3.6.3/949017.txt\n",
      "https://stepic.org/media/attachments/course67/3.6.3/987573.txt\n",
      "https://stepic.org/media/attachments/course67/3.6.3/843785.txt\n",
      "https://stepic.org/media/attachments/course67/3.6.3/We are the champions, my friends,\n",
      "And we'll keep on fighting 'til the end.\n",
      "We are the champions.\n",
      "We are the champions.\n",
      "No time for losers\n",
      "'Cause we are the champions of the world.\n"
     ]
    }
   ],
   "source": [
    "inf = open('dataset_3378_3.txt', 'r')  \n",
    "url = inf.readline().strip()\n",
    "r = requests.get(url)\n",
    "adres = 'https://stepic.org/media/attachments/course67/3.6.3/' + r.text\n",
    "r1 = requests.get(adres)\n",
    "while r1.text[0:2] != \"We\":\n",
    "    r1 = requests.get(adres)\n",
    "    adres = 'https://stepic.org/media/attachments/course67/3.6.3/' + r1.text\n",
    "    print(adres)"
   ]
  },
  {
   "cell_type": "code",
   "execution_count": 29,
   "metadata": {},
   "outputs": [
    {
     "name": "stdout",
     "output_type": "stream",
     "text": [
      "We are the champions, my friends,\n",
      "And we'll keep on fighting 'til the end.\n",
      "We are the champions.\n",
      "We are the champions.\n",
      "No time for losers\n",
      "'Cause we are the champions of the world.\n"
     ]
    }
   ],
   "source": [
    "print(r1.text)"
   ]
  },
  {
   "cell_type": "code",
   "execution_count": 30,
   "metadata": {},
   "outputs": [
    {
     "name": "stdout",
     "output_type": "stream",
     "text": [
      "We are the champions, my friends,\n",
      "And we'll keep on fighting 'til the end.\n",
      "We are the champions.\n",
      "We are the champions.\n",
      "No time for losers\n",
      "'Cause we are the champions of the world.\n"
     ]
    }
   ],
   "source": [
    "# or\n",
    "import requests\n",
    "url, name = 'https://stepic.org/media/attachments/course67/3.6.3/', '699991.txt'\n",
    "while name[:2] != 'We':\n",
    "    name = requests.get(url + name).text\n",
    "print(name)"
   ]
  },
  {
   "cell_type": "markdown",
   "metadata": {},
   "source": [
    "# 3.7 Задачи по материалам недели"
   ]
  },
  {
   "cell_type": "markdown",
   "metadata": {},
   "source": [
    "Напишите программу, которая умеет шифровать и расшифровывать шифр подстановки. Программа принимает на вход две строки одинаковой длины, на первой строке записаны символы исходного алфавита, на второй строке — символы конечного алфавита, после чего идёт строка, которую нужно зашифровать переданным ключом, и ещё одна строка, которую нужно расшифровать.\n",
    "\n",
    "Пусть, например, на вход программе передано:\n",
    "abcd\n",
    "*d%#\n",
    "abacabadaba\n",
    "#*%*d*%\n",
    "\n",
    "Это значит, что символ a исходного сообщения заменяется на символ * в шифре, b заменяется на d, c — на % и d — на #.\n",
    "Нужно зашифровать строку abacabadaba и расшифровать строку #*%*d*% с помощью этого шифра. Получаем следующие строки, которые и передаём на вывод программы:\n",
    "*d*%*d*#*d*\n",
    "dacabac"
   ]
  },
  {
   "cell_type": "code",
   "execution_count": 86,
   "metadata": {},
   "outputs": [
    {
     "name": "stdout",
     "output_type": "stream",
     "text": [
      "abcd\n",
      "*d%#\n",
      "abacabadaba\n",
      "#*%*d*%\n",
      "*d*%*d*#*d*\n",
      "dacabac"
     ]
    }
   ],
   "source": [
    "ishod = input()\n",
    "vyhod = input()\n",
    "shifr = input()\n",
    "deshifr = input()\n",
    "dic = {}\n",
    "for i in range(len(ishod)):\n",
    "    dic.update({ishod[i]: vyhod[i]})\n",
    "l = []\n",
    "for i in shifr:\n",
    "    l.append(dic[i])\n",
    "k = []\n",
    "for j in deshifr:\n",
    "    for key, value in dic.items():\n",
    "        if j == value:\n",
    "            k.append(key)\n",
    "for i in l:\n",
    "    print(i, end = '')\n",
    "print('')\n",
    "for i in k:\n",
    "    print(i, end = '')"
   ]
  },
  {
   "cell_type": "markdown",
   "metadata": {},
   "source": [
    "Группа биологов в институте биоинформатики завела себе черепашку.\n",
    "\n",
    "После дрессировки черепашка научилась понимать и запоминать указания биологов следующего вида:\n",
    "север 10\n",
    "запад 20\n",
    "юг 30\n",
    "восток 40\n",
    "где первое слово — это направление, в котором должна двигаться черепашка, а число после слова — это положительное расстояние в сантиметрах, которое должна пройти черепашка.\n",
    "\n",
    "Но команды даются быстро, а черепашка ползёт медленно, и программисты догадались, что можно написать программу, которая определит, куда в итоге биологи приведут черепашку. Для этого программисты просят вас написать программу, которая выведет точку, в которой окажется черепашка после всех команд. Для простоты они решили считать, что движение начинается в точке (0, 0), и движение на восток увеличивает первую координату, а на север — вторую.\n",
    "\n",
    "Программе подаётся на вход число команд nn, которые нужно выполнить черепашке, после чего nn строк с самими командами. Вывести нужно два числа в одну строку: первую и вторую координату конечной точки черепашки. Все координаты целочисленные."
   ]
  },
  {
   "cell_type": "code",
   "execution_count": 92,
   "metadata": {},
   "outputs": [
    {
     "name": "stdout",
     "output_type": "stream",
     "text": [
      "4\n",
      "север 10\n",
      "запад 20\n",
      "юг 30\n",
      "восток 40\n",
      "['восток', '40']\n",
      "[['север', '10'], ['запад', '20'], ['юг', '30'], ['восток', '40']]\n"
     ]
    }
   ],
   "source": [
    "n = int(input(''))\n",
    "l = []\n",
    "for i in range(n):\n",
    "    i = input().split()\n",
    "    l.append(i)\n",
    "print(i)\n",
    "print(l)"
   ]
  },
  {
   "cell_type": "code",
   "execution_count": 106,
   "metadata": {},
   "outputs": [
    {
     "name": "stdout",
     "output_type": "stream",
     "text": [
      "4\n",
      "север 10\n",
      "запад 20\n",
      "юг 30\n",
      "восток 40\n",
      "20  -20\n"
     ]
    }
   ],
   "source": [
    "n = int(input(''))\n",
    "l = []\n",
    "for i in range(n):\n",
    "    i = input().split()\n",
    "    l.append(i)\n",
    "s = 0\n",
    "d = 0\n",
    "for i in l:\n",
    "    if i[0] == 'восток':\n",
    "        s = s + int(i[1])\n",
    "    elif i[0] == 'запад':\n",
    "        s = s -int(i[1])    \n",
    "    if i[0] == 'север':\n",
    "        d = d + int(i[1])\n",
    "    elif i[0] == 'юг':\n",
    "        d = d -int(i[1])\n",
    "print(s, \"\", d)"
   ]
  },
  {
   "cell_type": "code",
   "execution_count": null,
   "metadata": {},
   "outputs": [],
   "source": []
  }
 ],
 "metadata": {
  "kernelspec": {
   "display_name": "Python 3",
   "language": "python",
   "name": "python3"
  },
  "language_info": {
   "codemirror_mode": {
    "name": "ipython",
    "version": 3
   },
   "file_extension": ".py",
   "mimetype": "text/x-python",
   "name": "python",
   "nbconvert_exporter": "python",
   "pygments_lexer": "ipython3",
   "version": "3.7.3"
  }
 },
 "nbformat": 4,
 "nbformat_minor": 2
}
