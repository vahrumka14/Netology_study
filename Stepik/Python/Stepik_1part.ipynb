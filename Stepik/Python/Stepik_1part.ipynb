{
 "cells": [
  {
   "cell_type": "markdown",
   "metadata": {},
   "source": [
    "1.5"
   ]
  },
  {
   "cell_type": "code",
   "execution_count": 1,
   "metadata": {},
   "outputs": [
    {
     "data": {
      "text/plain": [
       "12345554321"
      ]
     },
     "execution_count": 1,
     "metadata": {},
     "output_type": "execute_result"
    }
   ],
   "source": [
    "11111*1111111"
   ]
  },
  {
   "cell_type": "code",
   "execution_count": 2,
   "metadata": {},
   "outputs": [
    {
     "ename": "ZeroDivisionError",
     "evalue": "division by zero",
     "output_type": "error",
     "traceback": [
      "\u001b[0;31m---------------------------------------------------------------------------\u001b[0m",
      "\u001b[0;31mZeroDivisionError\u001b[0m                         Traceback (most recent call last)",
      "\u001b[0;32m<ipython-input-2-1cc156a7f7e2>\u001b[0m in \u001b[0;36m<module>\u001b[0;34m\u001b[0m\n\u001b[0;32m----> 1\u001b[0;31m \u001b[0;36m42\u001b[0m\u001b[0;34m/\u001b[0m\u001b[0;34m(\u001b[0m\u001b[0;36m4\u001b[0m\u001b[0;34m+\u001b[0m\u001b[0;36m2\u001b[0m\u001b[0;34m*\u001b[0m\u001b[0;34m(\u001b[0m\u001b[0;34m-\u001b[0m\u001b[0;36m2\u001b[0m\u001b[0;34m)\u001b[0m\u001b[0;34m)\u001b[0m\u001b[0;34m\u001b[0m\u001b[0;34m\u001b[0m\u001b[0m\n\u001b[0m",
      "\u001b[0;31mZeroDivisionError\u001b[0m: division by zero"
     ]
    }
   ],
   "source": [
    "42/(4+2*(-2))"
   ]
  },
  {
   "cell_type": "code",
   "execution_count": 3,
   "metadata": {},
   "outputs": [
    {
     "data": {
      "text/plain": [
       "18064773765607550801425251468864907833685590016"
      ]
     },
     "execution_count": 3,
     "metadata": {},
     "output_type": "execute_result"
    }
   ],
   "source": [
    "2014**14"
   ]
  },
  {
   "cell_type": "markdown",
   "metadata": {},
   "source": [
    "1.6"
   ]
  },
  {
   "cell_type": "code",
   "execution_count": 4,
   "metadata": {},
   "outputs": [
    {
     "data": {
      "text/plain": [
       "1234.5"
      ]
     },
     "execution_count": 4,
     "metadata": {},
     "output_type": "execute_result"
    }
   ],
   "source": [
    "1.2345e3"
   ]
  },
  {
   "cell_type": "code",
   "execution_count": 5,
   "metadata": {},
   "outputs": [
    {
     "data": {
      "text/plain": [
       "0.0012345"
      ]
     },
     "execution_count": 5,
     "metadata": {},
     "output_type": "execute_result"
    }
   ],
   "source": [
    "1.2345e-3"
   ]
  },
  {
   "cell_type": "code",
   "execution_count": 6,
   "metadata": {},
   "outputs": [
    {
     "data": {
      "text/plain": [
       "1.806477376560755e+46"
      ]
     },
     "execution_count": 6,
     "metadata": {},
     "output_type": "execute_result"
    }
   ],
   "source": [
    "2014.0**14"
   ]
  },
  {
   "cell_type": "code",
   "execution_count": 7,
   "metadata": {},
   "outputs": [
    {
     "data": {
      "text/plain": [
       "2.3333333333333335"
      ]
     },
     "execution_count": 7,
     "metadata": {},
     "output_type": "execute_result"
    }
   ],
   "source": [
    "7/3"
   ]
  },
  {
   "cell_type": "code",
   "execution_count": 8,
   "metadata": {},
   "outputs": [
    {
     "data": {
      "text/plain": [
       "2"
      ]
     },
     "execution_count": 8,
     "metadata": {},
     "output_type": "execute_result"
    }
   ],
   "source": [
    "7//3 "
   ]
  },
  {
   "cell_type": "markdown",
   "metadata": {},
   "source": [
    "1.7"
   ]
  },
  {
   "cell_type": "code",
   "execution_count": 10,
   "metadata": {},
   "outputs": [
    {
     "data": {
      "text/plain": [
       "2"
      ]
     },
     "execution_count": 10,
     "metadata": {},
     "output_type": "execute_result"
    }
   ],
   "source": [
    "int(2.99)"
   ]
  },
  {
   "cell_type": "code",
   "execution_count": 11,
   "metadata": {},
   "outputs": [
    {
     "data": {
      "text/plain": [
       "-1"
      ]
     },
     "execution_count": 11,
     "metadata": {},
     "output_type": "execute_result"
    }
   ],
   "source": [
    "int(-1.6)"
   ]
  },
  {
   "cell_type": "code",
   "execution_count": 12,
   "metadata": {},
   "outputs": [
    {
     "data": {
      "text/plain": [
       "89"
      ]
     },
     "execution_count": 12,
     "metadata": {},
     "output_type": "execute_result"
    }
   ],
   "source": [
    "9**19 - int(float(9**19))"
   ]
  },
  {
   "cell_type": "code",
   "execution_count": 16,
   "metadata": {},
   "outputs": [
    {
     "data": {
      "text/plain": [
       "1350851717672992089"
      ]
     },
     "execution_count": 16,
     "metadata": {},
     "output_type": "execute_result"
    }
   ],
   "source": [
    "9**19"
   ]
  },
  {
   "cell_type": "code",
   "execution_count": 17,
   "metadata": {},
   "outputs": [
    {
     "data": {
      "text/plain": [
       "1.350851717672992e+18"
      ]
     },
     "execution_count": 17,
     "metadata": {},
     "output_type": "execute_result"
    }
   ],
   "source": [
    "float(9**19)"
   ]
  },
  {
   "cell_type": "code",
   "execution_count": 18,
   "metadata": {},
   "outputs": [
    {
     "data": {
      "text/plain": [
       "1350851717672992000"
      ]
     },
     "execution_count": 18,
     "metadata": {},
     "output_type": "execute_result"
    }
   ],
   "source": [
    "int(float(9**19))"
   ]
  },
  {
   "cell_type": "code",
   "execution_count": 20,
   "metadata": {},
   "outputs": [
    {
     "data": {
      "text/plain": [
       "89"
      ]
     },
     "execution_count": 20,
     "metadata": {},
     "output_type": "execute_result"
    }
   ],
   "source": [
    "1350851717672992089-1350851717672992000"
   ]
  },
  {
   "cell_type": "markdown",
   "metadata": {},
   "source": [
    "1.8"
   ]
  },
  {
   "cell_type": "markdown",
   "metadata": {},
   "source": [
    "Тимофей обычно спит ночью 𝑋 часов и устраивает себе днем тихий час на 𝑌 минут. Определите, сколько всего минут Тимофей спит в сутки."
   ]
  },
  {
   "cell_type": "code",
   "execution_count": 21,
   "metadata": {},
   "outputs": [
    {
     "name": "stdout",
     "output_type": "stream",
     "text": [
      "2\n",
      "15\n",
      "135\n"
     ]
    }
   ],
   "source": [
    "X = int(input())  # сколько часов Тимофей спит ночью\n",
    "Y = int(input())  # сколько минут Тимофей спит днем\n",
    "print(X*60 + Y)   # выводим сколько всего минут Тимофей спит в сутки"
   ]
  },
  {
   "cell_type": "markdown",
   "metadata": {},
   "source": [
    "Коля каждый день ложится спать ровно в полночь и недавно узнал, что оптимальное время для его сна составляет 𝑋 минут. Коля хочет поставить себе будильник так, чтобы он прозвенел ровно через 𝑋 минут после полуночи, однако для этого необходимо указать время сигнала в формате часы, минуты. Помогите Коле определить, на какое время завести будильник."
   ]
  },
  {
   "cell_type": "code",
   "execution_count": 3,
   "metadata": {},
   "outputs": [
    {
     "name": "stdout",
     "output_type": "stream",
     "text": [
      "480\n",
      "8\n",
      "0\n"
     ]
    }
   ],
   "source": [
    "X = int(input())  # вводим количество минут после полуночи\n",
    "print(X//60)   # считаем кол-во часов от минут после полуночи\n",
    "print(X%60)    # считаем кол-во оставшихся минут "
   ]
  },
  {
   "cell_type": "markdown",
   "metadata": {},
   "source": [
    "Катя узнала, что ей для сна надо 𝑋 минут. В отличие от Коли, Катя ложится спать после полуночи в 𝐻 часов и 𝑀 минут. Помогите Кате определить, на какое время ей поставить будильник, чтобы он прозвенел ровно через 𝑋 минут после того, как она ляжет спать.\n",
    "\n",
    "На стандартный ввод, каждое в своей строке, подаются значения 𝑋, 𝐻 и 𝑀. Гарантируется, что Катя должна проснуться в тот же день, что и заснуть. Программа должна выводить время, на которое нужно поставить будильник: в первой строке часы, во второй — минуты."
   ]
  },
  {
   "cell_type": "code",
   "execution_count": 12,
   "metadata": {},
   "outputs": [
    {
     "name": "stdout",
     "output_type": "stream",
     "text": [
      "475\n",
      "1\n",
      "55\n",
      "9\n",
      "50\n"
     ]
    }
   ],
   "source": [
    "X = int(input()) # сколько минут надо для сна\n",
    "H = int(input()) # во сколько часов после полуночи она ложится\n",
    "M = int(input()) # во сколько минут после полуночи она ложится\n",
    "print((H*60+M+X)//60)  # переводим время, когда Катя засыпает в минуты\n",
    "print((H*60+M+X)%60)"
   ]
  },
  {
   "cell_type": "markdown",
   "metadata": {},
   "source": [
    "1.9"
   ]
  },
  {
   "cell_type": "code",
   "execution_count": null,
   "metadata": {},
   "outputs": [],
   "source": [
    "((a and b) or ((not a) and (not b)))"
   ]
  },
  {
   "cell_type": "code",
   "execution_count": 13,
   "metadata": {},
   "outputs": [
    {
     "data": {
      "text/plain": [
       "True"
      ]
     },
     "execution_count": 13,
     "metadata": {},
     "output_type": "execute_result"
    }
   ],
   "source": [
    "x = 5\n",
    "y = 10\n",
    "y > x * x or y >= 2 * x and x < y"
   ]
  },
  {
   "cell_type": "code",
   "execution_count": null,
   "metadata": {},
   "outputs": [],
   "source": [
    "10>25 or 10 >=20 and 5<10\n",
    "False or False and True\n",
    "False or True\n",
    "True"
   ]
  },
  {
   "cell_type": "code",
   "execution_count": 14,
   "metadata": {},
   "outputs": [
    {
     "data": {
      "text/plain": [
       "False"
      ]
     },
     "execution_count": 14,
     "metadata": {},
     "output_type": "execute_result"
    }
   ],
   "source": [
    "a = True\n",
    "b = False\n",
    "a and b or not a and not b"
   ]
  },
  {
   "cell_type": "code",
   "execution_count": null,
   "metadata": {},
   "outputs": [],
   "source": [
    "true and false or false and true\n",
    "false or false\n",
    "false"
   ]
  },
  {
   "cell_type": "markdown",
   "metadata": {},
   "source": [
    "1.10"
   ]
  },
  {
   "cell_type": "markdown",
   "metadata": {},
   "source": [
    "Из передачи “Здоровье” Аня узнала, что рекомендуется спать хотя бы 𝐴 часов в сутки, но пересыпать тоже вредно и не стоит спать более 𝐵 часов. Сейчас Аня спит 𝐻 часов в сутки. Если режим сна Ани удовлетворяет рекомендациям передачи “Здоровье”, выведите “Это нормально”. Если Аня спит менее 𝐴 часов, выведите “Недосып”, если же более 𝐵 часов, то выведите “Пересып”."
   ]
  },
  {
   "cell_type": "code",
   "execution_count": 18,
   "metadata": {},
   "outputs": [
    {
     "name": "stdout",
     "output_type": "stream",
     "text": [
      "8\n",
      "8\n",
      "8\n",
      "Это нормально\n"
     ]
    }
   ],
   "source": [
    "A = int(input()) # сколько часов в сутки надо спать\n",
    "B = int(input()) # сколько часов в сутки не надо спать\n",
    "H = int(input()) # сколько часов в сутки спит Аня\n",
    "if H>=A and H<=B:\n",
    "    print('Это нормально')\n",
    "elif H<A:\n",
    "    print('Недосып')\n",
    "elif H>B:\n",
    "    print('Пересып')"
   ]
  },
  {
   "cell_type": "markdown",
   "metadata": {},
   "source": [
    "Требуется определить, является ли данный год високосным.\n",
    "\n",
    "Напомним, что високосными годами считаются те годы, порядковый номер которых либо кратен 4, но при этом не кратен 100, либо кратен 400 (например, 2000-й год являлся високосным, а 2100-й будет невисокосным годом). \n",
    "\n",
    "Программа должна корректно работать на числах 1900≤n≤3000.\n",
    "\n",
    "Выведите \"Високосный\" в случае, если считанный год является високосным и \"Обычный\" в обратном случае"
   ]
  },
  {
   "cell_type": "code",
   "execution_count": 20,
   "metadata": {},
   "outputs": [
    {
     "name": "stdout",
     "output_type": "stream",
     "text": [
      "2100\n",
      "Обычный\n"
     ]
    }
   ],
   "source": [
    "Y = int(input())\n",
    "if 1900<=Y<=3000:\n",
    "    if (Y%4 == 0 and Y%100 != 0) or (Y%400 == 0):\n",
    "        print('Високосный')\n",
    "    else:\n",
    "        print('Обычный')\n",
    "else:\n",
    "    print('Введен неверный год')"
   ]
  },
  {
   "cell_type": "markdown",
   "metadata": {},
   "source": [
    "1.11"
   ]
  },
  {
   "cell_type": "code",
   "execution_count": 21,
   "metadata": {},
   "outputs": [
    {
     "data": {
      "text/plain": [
       "True"
      ]
     },
     "execution_count": 21,
     "metadata": {},
     "output_type": "execute_result"
    }
   ],
   "source": [
    "\"239\" < \"30\" and 239 > 30"
   ]
  },
  {
   "cell_type": "code",
   "execution_count": 22,
   "metadata": {},
   "outputs": [
    {
     "data": {
      "text/plain": [
       "False"
      ]
     },
     "execution_count": 22,
     "metadata": {},
     "output_type": "execute_result"
    }
   ],
   "source": [
    "\"239\" < \"30\" and 239 < 30"
   ]
  },
  {
   "cell_type": "code",
   "execution_count": 23,
   "metadata": {},
   "outputs": [
    {
     "data": {
      "text/plain": [
       "False"
      ]
     },
     "execution_count": 23,
     "metadata": {},
     "output_type": "execute_result"
    }
   ],
   "source": [
    "\"239\" > \"30\" and 239 < 30"
   ]
  },
  {
   "cell_type": "code",
   "execution_count": 24,
   "metadata": {},
   "outputs": [
    {
     "data": {
      "text/plain": [
       "False"
      ]
     },
     "execution_count": 24,
     "metadata": {},
     "output_type": "execute_result"
    }
   ],
   "source": [
    "\"239\" > \"30\" and 239 > 30"
   ]
  },
  {
   "cell_type": "code",
   "execution_count": 25,
   "metadata": {},
   "outputs": [
    {
     "data": {
      "text/plain": [
       "'12342'"
      ]
     },
     "execution_count": 25,
     "metadata": {},
     "output_type": "execute_result"
    }
   ],
   "source": [
    "\"123\" + \"42\""
   ]
  },
  {
   "cell_type": "markdown",
   "metadata": {},
   "source": [
    "1.12"
   ]
  },
  {
   "cell_type": "markdown",
   "metadata": {},
   "source": [
    "Напишите программу, вычисляющую площадь треугольника по переданным длинам трёх его сторон по формуле Герона:\n",
    "\n",
    "𝑆=𝑝(𝑝−𝑎)(𝑝−𝑏)(𝑝−𝑐)‾‾‾‾‾‾‾‾‾‾‾‾‾‾‾‾‾‾‾‾√\n",
    "где 𝑝=𝑎+𝑏+𝑐2 – полупериметр треугольника. На вход программе подаются целые числа, выводом программы должно являться вещественное число, соответствующее площади треугольника."
   ]
  },
  {
   "cell_type": "code",
   "execution_count": 26,
   "metadata": {},
   "outputs": [
    {
     "name": "stdout",
     "output_type": "stream",
     "text": [
      "3\n",
      "4\n",
      "5\n",
      "6.0\n"
     ]
    }
   ],
   "source": [
    "a = int(input())\n",
    "b = int(input())\n",
    "c = int(input())\n",
    "p = (a+b+c)/2\n",
    "S = (p*(p-a)*(p-b)*(p-c))**0.5  # извлечение квадратного корня\n",
    "print(S)"
   ]
  },
  {
   "cell_type": "markdown",
   "metadata": {},
   "source": [
    "Напишите программу, принимающую на вход целое число, которая выводит True, если переданное значение попадает в интервал (−15,12]∪(14,17)∪[19,+∞) и False в противном случае (регистр символов имеет значение)."
   ]
  },
  {
   "cell_type": "code",
   "execution_count": 28,
   "metadata": {},
   "outputs": [
    {
     "name": "stdout",
     "output_type": "stream",
     "text": [
      "-20\n",
      "False\n"
     ]
    }
   ],
   "source": [
    "X = int(input())\n",
    "if  -15<X<=12 or 14<X<17 or X>=19:\n",
    "    print(True)\n",
    "else:\n",
    "    print(False)"
   ]
  },
  {
   "cell_type": "code",
   "execution_count": 30,
   "metadata": {},
   "outputs": [
    {
     "name": "stdout",
     "output_type": "stream",
     "text": [
      "-20\n",
      "False\n"
     ]
    }
   ],
   "source": [
    "# ИЛИ\n",
    "n = int(input())\n",
    "print(-15 < n <= 12 or 14 < n < 17 or 19 <= n)"
   ]
  },
  {
   "cell_type": "markdown",
   "metadata": {},
   "source": [
    "Напишите простой калькулятор, который считывает с пользовательского ввода три строки: первое число, второе число и операцию, после чего применяет операцию к введённым числам (\"первое число\" \"операция\" \"второе число\") и выводит результат на экран.\n",
    "\n",
    "Поддерживаемые операции: +, -, /, *, mod, pow, div, где \n",
    "mod — это взятие остатка от деления, \n",
    "pow — возведение в степень, \n",
    "div — целочисленное деление.\n",
    "\n",
    "Если выполняется деление и второе число равно 0, необходимо выводить строку \"Деление на 0!\".\n",
    "\n",
    "Обратите внимание, что на вход программе приходят вещественные числа."
   ]
  },
  {
   "cell_type": "code",
   "execution_count": 40,
   "metadata": {},
   "outputs": [
    {
     "name": "stdout",
     "output_type": "stream",
     "text": [
      "5\n",
      "10\n",
      "/\n",
      "0.5\n"
     ]
    }
   ],
   "source": [
    "a = float(input())\n",
    "b = float(input())\n",
    "c = input()\n",
    "if c == '+':\n",
    "    print(a+b)\n",
    "if c == '-':\n",
    "    print(a-b)\n",
    "if c == '/' and b != 0:\n",
    "    print(a/b)\n",
    "if (c == '/' or c == 'mod' or c == 'div') and b == 0:\n",
    "    print('Деление на 0!')\n",
    "if c == '*':\n",
    "    print(a*b)\n",
    "if c == 'mod' and b != 0:\n",
    "    print(a%b)\n",
    "if c == 'pow':\n",
    "    print(a**b)\n",
    "if c == 'div' and b != 0:\n",
    "    print(a//b)"
   ]
  },
  {
   "cell_type": "code",
   "execution_count": 42,
   "metadata": {},
   "outputs": [
    {
     "name": "stdout",
     "output_type": "stream",
     "text": [
      "5\n",
      "0\n",
      "mod\n",
      "Деление на 0!\n"
     ]
    }
   ],
   "source": [
    "# или\n",
    "first = float(input())\n",
    "second = float(input())\n",
    "action = input()\n",
    "operations = {\"mod\": \"%\", \"div\": \"//\", \"pow\": \"**\"}\n",
    "try:\n",
    "    print(eval(\"(\" + str(first) + \")\" + operations.get(action, action) + str(second)))\n",
    "except ZeroDivisionError:\n",
    "    print('Деление на 0!')"
   ]
  },
  {
   "cell_type": "code",
   "execution_count": 43,
   "metadata": {},
   "outputs": [
    {
     "name": "stdout",
     "output_type": "stream",
     "text": [
      "5\n",
      "0\n",
      "/\n",
      "Деление на 0!\n"
     ]
    }
   ],
   "source": [
    "# или\n",
    "a = float(input())\n",
    "b = float(input())\n",
    "act = input()\n",
    "\n",
    "if (act==\"/\" or act==\"mod\" or act==\"div\") and b==0:\n",
    "    c = \"Деление на 0!\"\n",
    "elif act==\"+\":    c = a + b\n",
    "elif act==\"-\":    c = a - b\n",
    "elif act==\"/\":    c = a / b\n",
    "elif act==\"*\":    c = a * b\n",
    "elif act==\"mod\":  c = a % b\n",
    "elif act==\"pow\":  c = a ** b\n",
    "elif act==\"div\":  c = a // b\n",
    "\n",
    "print (c)"
   ]
  },
  {
   "cell_type": "code",
   "execution_count": 44,
   "metadata": {},
   "outputs": [
    {
     "name": "stdout",
     "output_type": "stream",
     "text": [
      "5\n",
      "0\n",
      "/\n",
      "Деление на 0!\n"
     ]
    }
   ],
   "source": [
    "# или\n",
    "a = float(input())\n",
    "b = float(input())\n",
    "op = input()\n",
    "if(b == 0 and (op == \"mod\" or op == \"/\" or op == \"div\")):\n",
    "    print(\"Деление на 0!\")\n",
    "elif(op == '+'):\n",
    "    print(a + b)\n",
    "elif(op == '-'):\n",
    "    print(a - b)\n",
    "elif(op == '*'):\n",
    "    print(a * b)\n",
    "elif(op == '/'):\n",
    "    print(a / b)\n",
    "elif(op == 'mod'):\n",
    "    print(a % b)\n",
    "elif(op == 'pow'):\n",
    "    print(a ** b)\n",
    "elif(op == 'div'):\n",
    "    print(a // b)\n",
    "else: print(\"Unknown operator\")"
   ]
  },
  {
   "cell_type": "markdown",
   "metadata": {},
   "source": [
    "Жители страны Малевии часто экспериментируют с планировкой комнат. Комнаты бывают треугольные, прямоугольные и круглые. Чтобы быстро вычислять жилплощадь, требуется написать программу, на вход которой подаётся тип фигуры комнаты и соответствующие параметры, которая бы выводила площадь получившейся комнаты.\n",
    "Для числа π в стране Малевии используют значение 3.14.\n",
    "\n",
    "Формат ввода, который используют Малевийцы:"
   ]
  },
  {
   "cell_type": "code",
   "execution_count": 47,
   "metadata": {},
   "outputs": [
    {
     "name": "stdout",
     "output_type": "stream",
     "text": [
      "треугольник\n",
      "3\n",
      "4\n",
      "5\n",
      "6.0\n"
     ]
    }
   ],
   "source": [
    "shape = input()  # вводим форму камнаты\n",
    "if shape == \"треугольник\":\n",
    "    a = int(input())\n",
    "    b = int(input())\n",
    "    c = int(input())\n",
    "    p = (a+b+c)/2         # считаем площадь по формуле Герона\n",
    "    S = (p*(p-a)*(p-b)*(p-c))**0.5  # извлечение квадратного корня\n",
    "    print(S)\n",
    "if shape == \"прямоугольник\":\n",
    "    a = int(input())\n",
    "    b = int(input())\n",
    "    S = a * b\n",
    "    print(S)\n",
    "if shape == \"круг\":\n",
    "    r = int(input())\n",
    "    pi = 3.14\n",
    "    S = pi * (r**2)\n",
    "    print(S)"
   ]
  },
  {
   "cell_type": "code",
   "execution_count": 48,
   "metadata": {},
   "outputs": [
    {
     "name": "stdout",
     "output_type": "stream",
     "text": [
      "прямоугольник\n",
      "5\n",
      "2\n",
      "10.0\n"
     ]
    }
   ],
   "source": [
    "# или \n",
    "s = {1: lambda r: 3.14  * r**2, 2: lambda a, b: a * b, 3: lambda a, b, c: ((a+b+c)/2*(b+c-a)/2*(a+c-b)/2*(a+b-c)/2)**0.5}\n",
    "f = {'круг': 1, 'прямоугольник': 2, 'треугольник': 3}\n",
    "args = [float(input()) for _ in range(f[input()])]\n",
    "print(s[len(args)](*args))"
   ]
  },
  {
   "cell_type": "markdown",
   "metadata": {},
   "source": [
    "Напишите программу, которая получает на вход три целых числа, по одному числу в строке, и выводит на консоль в три строки сначала максимальное, потом минимальное, после чего оставшееся число.\n",
    "\n",
    "На ввод могут подаваться и повторяющиеся числа."
   ]
  },
  {
   "cell_type": "code",
   "execution_count": 60,
   "metadata": {},
   "outputs": [
    {
     "name": "stdout",
     "output_type": "stream",
     "text": [
      "23\n",
      "21\n",
      "23\n",
      "23\n",
      "21\n",
      "23\n"
     ]
    }
   ],
   "source": [
    "a = int(input())\n",
    "b = int(input())\n",
    "c = int(input())\n",
    "print(max(a,b,c))\n",
    "print(min(a,b,c))\n",
    "print(a+b+c-max(a,b,c)-min(a,b,c))"
   ]
  },
  {
   "cell_type": "code",
   "execution_count": 61,
   "metadata": {},
   "outputs": [
    {
     "name": "stdout",
     "output_type": "stream",
     "text": [
      "23\n",
      "23\n",
      "21\n",
      "23\n",
      "21\n",
      "23\n"
     ]
    }
   ],
   "source": [
    "# или\n",
    "a,b,c = int(input()), int(input()), int(input())\n",
    "\n",
    "if a < b:\n",
    "\ta, b = b, a\n",
    "if a < c:\n",
    "\ta, c = c, a\n",
    "if b > c:\n",
    "\tb, c = c, b\n",
    "print(a)\n",
    "print(b)\n",
    "print(c)"
   ]
  },
  {
   "cell_type": "markdown",
   "metadata": {},
   "source": [
    "Недавно студенты из группы программистов написали для него программу, по которой робот, когда заходит в комнату, считает количество программистов в ней и произносит его вслух: \"n программистов\".\n",
    "\n",
    "Для того, чтобы это звучало правильно, для каждого 𝑛 нужно использовать верное окончание слова.\n",
    "\n",
    "Напишите программу, считывающую с пользовательского ввода целое число 𝑛 (неотрицательное), выводящее это число в консоль вместе с правильным образом изменённым словом \"программист\", для того, чтобы робот мог нормально общаться с людьми, например: 1 программист, 2 программиста, 5 программистов.\n",
    "\n",
    "В комнате может быть очень много программистов. Проверьте, что ваша программа правильно обработает все случаи, как минимум до 1000 человек."
   ]
  },
  {
   "cell_type": "code",
   "execution_count": 134,
   "metadata": {},
   "outputs": [
    {
     "name": "stdout",
     "output_type": "stream",
     "text": [
      "222\n",
      "222 программиста\n"
     ]
    }
   ],
   "source": [
    "n = int(input())\n",
    "n = str(n)\n",
    "if len(n) == 1:\n",
    "    if n[-1] == '1':\n",
    "        print(n, 'программист')\n",
    "    elif n[-1] == '2'  or  n[-1] == '3' or n[-1] == '4':\n",
    "        print(n, 'программиста')\n",
    "    else:\n",
    "        print(n, 'программистов')\n",
    "else:\n",
    "    if  (n[-2] != '1')  and n[-1] == '1':\n",
    "        print(n, 'программист')\n",
    "    elif ((n[-2] != '1')  and n[-1] == '2') or ((n[-2] != '1')  and n[-1] == '3') or ((n[-2] != '1')  and n[-1] == '4'):\n",
    "        print(n, 'программиста')\n",
    "    else:\n",
    "        print(n, 'программистов')"
   ]
  },
  {
   "cell_type": "code",
   "execution_count": 135,
   "metadata": {},
   "outputs": [
    {
     "name": "stdout",
     "output_type": "stream",
     "text": [
      "222\n",
      "222 программиста\n"
     ]
    }
   ],
   "source": [
    "# или\n",
    "n=int(input())\n",
    "print(n,'программист'+('ов' if n%10==0 or 4<n%10<10 or 10<n%100<15 else 'а' if 1<n%10<5 else ''))"
   ]
  },
  {
   "cell_type": "code",
   "execution_count": null,
   "metadata": {},
   "outputs": [],
   "source": []
  },
  {
   "cell_type": "markdown",
   "metadata": {},
   "source": [
    "Паша очень любит кататься на общественном транспорте, а получая билет, сразу проверяет, счастливый ли ему попался. Билет считается счастливым, если сумма первых трех цифр совпадает с суммой последних трех цифр номера билета.\n",
    "\n",
    "Однако Паша очень плохо считает в уме, поэтому попросил вас написать программу, которая проверит равенство сумм и выведет \"Счастливый\", если суммы совпадают, и \"Обычный\", если суммы различны.\n",
    "\n",
    "На вход программе подаётся строка из шести цифр.\n",
    "\n",
    "Выводить нужно только слово \"Счастливый\" или \"Обычный\", с большой буквы."
   ]
  },
  {
   "cell_type": "code",
   "execution_count": 56,
   "metadata": {},
   "outputs": [
    {
     "name": "stdout",
     "output_type": "stream",
     "text": [
      "123456\n",
      "Обычный\n"
     ]
    }
   ],
   "source": [
    "ticket = input()\n",
    "if int(ticket[0])+int(ticket[1])+int(ticket[2]) == int(ticket[-1])+int(ticket[-2])+int(ticket[-3]):\n",
    "    print('Счастливый')\n",
    "else:\n",
    "    print('Обычный')"
   ]
  },
  {
   "cell_type": "code",
   "execution_count": 55,
   "metadata": {},
   "outputs": [
    {
     "name": "stdout",
     "output_type": "stream",
     "text": [
      "123456\n",
      "Обычный\n"
     ]
    }
   ],
   "source": [
    "# или\n",
    "a=int(input())\n",
    "a1=a%10\n",
    "a2=(a%100)//10\n",
    "a3=(a%1000)//100\n",
    "a4=(a%10000)//1000\n",
    "a5=(a%100000)//10000\n",
    "a6=a//100000\n",
    "if a1+a2+a3==a4+a5+a6:\n",
    "    print('Счастливый')\n",
    "else:\n",
    "    print('Обычный')"
   ]
  },
  {
   "cell_type": "code",
   "execution_count": null,
   "metadata": {},
   "outputs": [],
   "source": []
  },
  {
   "cell_type": "code",
   "execution_count": null,
   "metadata": {},
   "outputs": [],
   "source": []
  },
  {
   "cell_type": "code",
   "execution_count": null,
   "metadata": {},
   "outputs": [],
   "source": []
  },
  {
   "cell_type": "code",
   "execution_count": null,
   "metadata": {},
   "outputs": [],
   "source": []
  }
 ],
 "metadata": {
  "kernelspec": {
   "display_name": "Python 3",
   "language": "python",
   "name": "python3"
  },
  "language_info": {
   "codemirror_mode": {
    "name": "ipython",
    "version": 3
   },
   "file_extension": ".py",
   "mimetype": "text/x-python",
   "name": "python",
   "nbconvert_exporter": "python",
   "pygments_lexer": "ipython3",
   "version": "3.7.1"
  }
 },
 "nbformat": 4,
 "nbformat_minor": 2
}
