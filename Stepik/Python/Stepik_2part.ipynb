{
 "cells": [
  {
   "cell_type": "markdown",
   "metadata": {},
   "source": [
    "2.1"
   ]
  },
  {
   "cell_type": "code",
   "execution_count": null,
   "metadata": {},
   "outputs": [],
   "source": [
    "i = 0\n",
    "while i <= 10:  \n",
    "    i = i + 1         i=7, i=8   i=10,i=11\n",
    "    if i > 7:         \n",
    "        i = i + 2     i=8+2=10  i=11+2=13"
   ]
  },
  {
   "cell_type": "code",
   "execution_count": 11,
   "metadata": {},
   "outputs": [
    {
     "name": "stdout",
     "output_type": "stream",
     "text": [
      "13\n",
      "9\n"
     ]
    }
   ],
   "source": [
    "i = 0\n",
    "k = 0\n",
    "while i <= 10:  \n",
    "    i = i + 1        \n",
    "    if i > 7:         \n",
    "        i = i + 2\n",
    "    k += 1\n",
    "print(i)\n",
    "print(k)"
   ]
  },
  {
   "cell_type": "markdown",
   "metadata": {},
   "source": [
    "Сколько всего знаков * будет выведено после исполнения фрагмента программы:"
   ]
  },
  {
   "cell_type": "code",
   "execution_count": null,
   "metadata": {},
   "outputs": [],
   "source": [
    "i = 0\n",
    "while i < 5:\n",
    "    print('*')        *  *  *  *    *\n",
    "    if i % 2 == 0:\n",
    "        print('**')   **    **      **\n",
    "    if i > 2:\n",
    "        print('***')            ***  ***\n",
    "    i = i + 1"
   ]
  },
  {
   "cell_type": "code",
   "execution_count": 13,
   "metadata": {},
   "outputs": [
    {
     "name": "stdout",
     "output_type": "stream",
     "text": [
      "*\n",
      "**\n",
      "*\n",
      "*\n",
      "**\n",
      "*\n",
      "***\n",
      "*\n",
      "**\n",
      "***\n"
     ]
    }
   ],
   "source": [
    "i = 0\n",
    "while i < 5:\n",
    "    print('*')        \n",
    "    if i % 2 == 0:\n",
    "        print('**')   \n",
    "    if i > 2:\n",
    "        print('***')            \n",
    "    i = i + 1"
   ]
  },
  {
   "cell_type": "code",
   "execution_count": 14,
   "metadata": {},
   "outputs": [
    {
     "name": "stdout",
     "output_type": "stream",
     "text": [
      "17\n"
     ]
    }
   ],
   "source": [
    "i = 0\n",
    "count =''\n",
    "while i < 5:\n",
    "    count +='*'\n",
    "    if i % 2 == 0:\n",
    "        count +='**'\n",
    "    if i > 2:\n",
    "        count +='***'\n",
    "    i = i + 1\n",
    "\n",
    "print(len(count))"
   ]
  },
  {
   "cell_type": "markdown",
   "metadata": {},
   "source": [
    "Напишите программу, которая считывает со стандартного ввода целые числа, по одному числу в строке, и после первого введенного нуля выводит сумму полученных на вход чисел."
   ]
  },
  {
   "cell_type": "code",
   "execution_count": 63,
   "metadata": {},
   "outputs": [
    {
     "name": "stdout",
     "output_type": "stream",
     "text": [
      "5\n",
      "-3\n",
      "8\n",
      "4\n",
      "0\n",
      "14\n"
     ]
    }
   ],
   "source": [
    "i = int(input())\n",
    "summ = 0\n",
    "if i == 0:\n",
    "    print(0)\n",
    "while i != 0:\n",
    "    summ += i\n",
    "    i = int(input())\n",
    "    if i == 0:\n",
    "        print(summ)"
   ]
  },
  {
   "cell_type": "code",
   "execution_count": 18,
   "metadata": {},
   "outputs": [
    {
     "name": "stdout",
     "output_type": "stream",
     "text": [
      "5\n",
      "-3\n",
      "8\n",
      "4\n",
      "0\n",
      "14\n"
     ]
    }
   ],
   "source": [
    "# или\n",
    "a = int(input())\n",
    "s = 0\n",
    "while a != 0 :\n",
    "    s += a\n",
    "    a = int(input())\n",
    "print(s)"
   ]
  },
  {
   "cell_type": "markdown",
   "metadata": {},
   "source": [
    "????????????????????????????????????????????\n",
    "Нужно заранее разрезать пирог таким образом, чтобы можно было раздать кусочки пирога любой команде, выигравшей соревнование, при этом каждому участнику этой команды должно достаться одинаковое число кусочков пирога. И так как не хочется резать пирог на слишком мелкие кусочки, нужно найти минимальное подходящее число.\n",
    "\n",
    "Напишите программу, которая помогает найти это число. \n",
    "Программа должна считывать размеры команд (два положительных целых числа 𝑎 и 𝑏, каждое число вводится на отдельной строке) и выводить наименьшее число 𝑑, которое делится на оба этих числа без остатка."
   ]
  },
  {
   "cell_type": "code",
   "execution_count": 105,
   "metadata": {},
   "outputs": [
    {
     "name": "stdout",
     "output_type": "stream",
     "text": [
      "12\n",
      "16\n",
      "48\n"
     ]
    }
   ],
   "source": [
    "a = int(input())  # через нахождение НОД, затем находим НОК\n",
    "b = int(input())\n",
    "n = a*b\n",
    "while a != 0 and b !=0:\n",
    "    if a>b:\n",
    "        a = a%b\n",
    "    else:\n",
    "        b = b%a\n",
    "print(n//(a+b))"
   ]
  },
  {
   "cell_type": "code",
   "execution_count": 109,
   "metadata": {},
   "outputs": [
    {
     "name": "stdout",
     "output_type": "stream",
     "text": [
      "5\n",
      "7\n",
      "35\n"
     ]
    }
   ],
   "source": [
    "# или \n",
    "a=int(input())\n",
    "b=int(input())\n",
    "m=a\n",
    "if a==b:   # если оба значения (a и b) равны, выводим сразу это значение, и программа завершается.   \n",
    "    print(m)\n",
    "           # иначе, при помощи цикла, прибавляем к одному из значений(a или b) его же значение,\n",
    "else:      # а+а+... или b+b+...до тех пор, пока сумма не будет кратной введенным значениям a и b \n",
    "    while m%a!=0 or m%b!=0: # ТАКОЙ способ позволяет не прерывать цикл. Ниже пояснение.\n",
    "        m=m+a\n",
    "    print(m)"
   ]
  },
  {
   "cell_type": "markdown",
   "metadata": {},
   "source": [
    "2.2"
   ]
  },
  {
   "cell_type": "code",
   "execution_count": null,
   "metadata": {},
   "outputs": [],
   "source": [
    "i = 0\n",
    "s = 0\n",
    "while i < 10:\n",
    "    i = i + 1      0,1   3  5 7\n",
    "    s = s + i      1     4  9 16\n",
    "    if s > 15:\n",
    "        break\n",
    "    i = i + 1      2     4  6"
   ]
  },
  {
   "cell_type": "code",
   "execution_count": 24,
   "metadata": {},
   "outputs": [
    {
     "name": "stdout",
     "output_type": "stream",
     "text": [
      "7\n"
     ]
    }
   ],
   "source": [
    "i = 0\n",
    "s = 0\n",
    "while i < 10:\n",
    "    i = i + 1\n",
    "    s = s + i\n",
    "    if s > 15:\n",
    "        break\n",
    "    i = i + 1\n",
    "print(i)"
   ]
  },
  {
   "cell_type": "code",
   "execution_count": null,
   "metadata": {},
   "outputs": [],
   "source": [
    "i = 0\n",
    "s = 0\n",
    "while i < 10:\n",
    "    i = i + 1        7   9\n",
    "    s = s + i        16  \n",
    "    if s > 15:\n",
    "        continue\n",
    "    i = i + 1        8    10"
   ]
  },
  {
   "cell_type": "code",
   "execution_count": 25,
   "metadata": {},
   "outputs": [
    {
     "name": "stdout",
     "output_type": "stream",
     "text": [
      "10\n"
     ]
    }
   ],
   "source": [
    "i = 0\n",
    "s = 0\n",
    "while i < 10:\n",
    "    i = i + 1       \n",
    "    s = s + i        \n",
    "    if s > 15:\n",
    "        continue\n",
    "    i = i + 1 \n",
    "print(i)"
   ]
  },
  {
   "cell_type": "markdown",
   "metadata": {},
   "source": [
    "Напишите программу, которая считывает целые числа с консоли по одному числу в строке.\n",
    "\n",
    "Для каждого введённого числа проверить:\n",
    "если число меньше 10, то пропускаем это число;\n",
    "если число больше 100, то прекращаем считывать числа;\n",
    "в остальных случаях вывести это число обратно на консоль в отдельной строке."
   ]
  },
  {
   "cell_type": "code",
   "execution_count": 44,
   "metadata": {},
   "outputs": [
    {
     "name": "stdout",
     "output_type": "stream",
     "text": [
      "10\n",
      "10\n",
      "100\n",
      "100\n",
      "101\n"
     ]
    }
   ],
   "source": [
    "a = int(input())\n",
    "while a < 101:\n",
    "    if a > 101:\n",
    "        break\n",
    "    if a >= 10: \n",
    "        print(a)\n",
    "    a = int(input())\n",
    "    "
   ]
  },
  {
   "cell_type": "code",
   "execution_count": 45,
   "metadata": {},
   "outputs": [
    {
     "name": "stdout",
     "output_type": "stream",
     "text": [
      "10\n",
      "10\n",
      "100\n",
      "100\n",
      "101\n"
     ]
    }
   ],
   "source": [
    "# или\n",
    "a = 0\n",
    "while a <= 100:\n",
    "    a = int(input())\n",
    "    if 10 <= a <= 100:\n",
    "        print(a)"
   ]
  },
  {
   "cell_type": "markdown",
   "metadata": {},
   "source": [
    "2.3"
   ]
  },
  {
   "cell_type": "markdown",
   "metadata": {},
   "source": [
    "Напишите программу, на вход которой даются четыре числа 𝑎, 𝑏, 𝑐 и 𝑑, каждое в своей строке. Программа должна вывести фрагмент таблицы умножения для всех чисел отрезка [𝑎;𝑏] на все числа отрезка [𝑐;𝑑].\n",
    "\n",
    "Числа 𝑎, 𝑏, 𝑐 и 𝑑 являются натуральными и не превосходят 10, 𝑎≤𝑏, 𝑐≤𝑑.\n",
    "\n",
    "Следуйте формату вывода из примера, для разделения элементов внутри строки используйте '\\t' — символ табуляции. Заметьте, что левым столбцом и верхней строкой выводятся сами числа из заданных отрезков — заголовочные столбец и строка таблицы.﻿"
   ]
  },
  {
   "cell_type": "code",
   "execution_count": 80,
   "metadata": {},
   "outputs": [
    {
     "name": "stdout",
     "output_type": "stream",
     "text": [
      "7\n",
      "10\n",
      "5\n",
      "6\n",
      "\t 5\t6\t\n",
      "7\t35\t42\t\n",
      "8\t40\t48\t\n",
      "9\t45\t54\t\n",
      "10\t50\t60\t\n"
     ]
    }
   ],
   "source": [
    "a = int(input())\n",
    "b = int(input())\n",
    "c = int(input())\n",
    "d = int(input())\n",
    "\n",
    "for s in range(c, d+1):\n",
    "    if s == c:\n",
    "        print(\"\\t\", s, end='\\t' )\n",
    "    else:\n",
    "        print(s, end='\\t' ) \n",
    "print()\n",
    "for i in range(a,b+1):\n",
    "    print(i, end='\\t')\n",
    "    for j in range(c, d+1):\n",
    "        print(i*j, end='\\t')\n",
    "    print()\n"
   ]
  },
  {
   "cell_type": "markdown",
   "metadata": {},
   "source": [
    "Напишите программу, которая считывает с клавиатуры два числа 𝑎 и 𝑏, считает и выводит на консоль среднее арифметическое всех чисел из отрезка [𝑎;𝑏], которые делятся на 3.\n",
    "\n",
    "В приведенном ниже примере среднее арифметическое считается для чисел на отрезке [−5;12]. Всего чисел, делящихся на 3, на этом отрезке 6: −3,0,3,6,9,12. Их среднее арифметическое равно 4.5\n",
    "\n",
    "На вход программе подаются интервалы, внутри которых всегда есть хотя бы одно число, которое делится на 3.﻿"
   ]
  },
  {
   "cell_type": "code",
   "execution_count": 64,
   "metadata": {},
   "outputs": [
    {
     "name": "stdout",
     "output_type": "stream",
     "text": [
      "-5\n",
      "12\n",
      "4.5\n"
     ]
    }
   ],
   "source": [
    "a = int(input())\n",
    "b = int(input())\n",
    "summ = 0\n",
    "col = 0\n",
    "for i in range(a, b+1):\n",
    "    if i % 3 == 0:\n",
    "        summ += i\n",
    "        col += 1\n",
    "print(summ/col)"
   ]
  },
  {
   "cell_type": "markdown",
   "metadata": {},
   "source": [
    "2.4"
   ]
  },
  {
   "cell_type": "markdown",
   "metadata": {},
   "source": [
    "Напишите программу, которая вычисляет процентное содержание символов G (гуанин) и C (цитозин) в введенной строке (программа не должна зависеть от регистра вводимых символов).\n",
    "\n",
    "Например, в строке \"acggtgttat\" процентное содержание символов G и C равно 410⋅100=40.0, где 4 -- это количество символов G и C,  а 10 -- это длина строки."
   ]
  },
  {
   "cell_type": "code",
   "execution_count": 2,
   "metadata": {},
   "outputs": [
    {
     "name": "stdout",
     "output_type": "stream",
     "text": [
      "acggtgttat\n",
      "40.0\n"
     ]
    }
   ],
   "source": [
    "stroka = input()\n",
    "stroka_c = stroka.upper().count(\"C\")\n",
    "stroka_g = stroka.upper().count(\"G\")\n",
    "print((stroka_c+stroka_g)/len(stroka)*100)\n",
    "    "
   ]
  },
  {
   "cell_type": "code",
   "execution_count": 3,
   "metadata": {},
   "outputs": [
    {
     "data": {
      "text/plain": [
       "'kjihgfedcba'"
      ]
     },
     "execution_count": 3,
     "metadata": {},
     "output_type": "execute_result"
    }
   ],
   "source": [
    "s = 'abcdefghijk'\n",
    "s[::-1]"
   ]
  },
  {
   "cell_type": "code",
   "execution_count": 4,
   "metadata": {},
   "outputs": [
    {
     "data": {
      "text/plain": [
       "'kigec'"
      ]
     },
     "execution_count": 4,
     "metadata": {},
     "output_type": "execute_result"
    }
   ],
   "source": [
    "s = 'abcdefghijk'\n",
    "s[3:6]\n",
    "s[:6]\n",
    "s[3:]\n",
    "s[::-1]\n",
    "s[-3:]\n",
    "s[:-6]\n",
    "s[-1:-10:-2]"
   ]
  },
  {
   "cell_type": "markdown",
   "metadata": {},
   "source": [
    "?????????????????????????????????????????????\n",
    "s = 'aaaabbсaa' преобразуется в 'a4b2с1a2', то есть группы одинаковых символов исходной строки заменяются на этот символ и количество его повторений в этой позиции строки.\n",
    "\n",
    "Напишите программу, которая считывает строку, кодирует её предложенным алгоритмом и выводит закодированную последовательность на стандартный вывод. Кодирование должно учитывать регистр символов."
   ]
  },
  {
   "cell_type": "code",
   "execution_count": 44,
   "metadata": {},
   "outputs": [
    {
     "name": "stdout",
     "output_type": "stream",
     "text": [
      "aassf\n",
      "a2s2f1"
     ]
    }
   ],
   "source": [
    "s = input()\n",
    "col=0\n",
    "if len(s)==1:\n",
    "    print(s+'1', end=\"\")\n",
    "else:\n",
    "    for i in range(len(s)):    \n",
    "        if i+1<len(s):         \n",
    "            if s[i] == s[i+1]:   \n",
    "                col += 1\n",
    "            else:\n",
    "                print(s[i]+str(col+1), end=\"\")\n",
    "                col=0\n",
    "        else:\n",
    "            if s[-1]==s[-2]:\n",
    "                col += 1\n",
    "                print(s[i]+str(col), end=\"\")\n",
    "            else:\n",
    "                print(s[i]+'1', end=\"\")"
   ]
  },
  {
   "cell_type": "code",
   "execution_count": 45,
   "metadata": {},
   "outputs": [
    {
     "name": "stdout",
     "output_type": "stream",
     "text": [
      "aass\n",
      "a2s2"
     ]
    }
   ],
   "source": [
    "# или\n",
    "genome = input()+' '\n",
    "s = 0\n",
    "n=genome[0]\n",
    "for i in genome:       \n",
    "    if n!=i:\n",
    "        print(n + str(s), end = '')\n",
    "        s=0\n",
    "        n=i\n",
    "    s+=1   "
   ]
  },
  {
   "cell_type": "code",
   "execution_count": 50,
   "metadata": {},
   "outputs": [
    {
     "name": "stdout",
     "output_type": "stream",
     "text": [
      "a\n",
      "0\n",
      "a1"
     ]
    }
   ],
   "source": [
    "# или\n",
    "a=input()\n",
    "s=1\n",
    "a=a+'0'\n",
    "for j in range (0,len(a)-1):\n",
    "    #print(a[j+1])\n",
    "    if a[j]==a[j+1]:\n",
    "        s+=1\n",
    "    else:\n",
    "        print((a[j]+str(s)),end='')\n",
    "        s=1"
   ]
  },
  {
   "cell_type": "code",
   "execution_count": null,
   "metadata": {},
   "outputs": [],
   "source": []
  },
  {
   "cell_type": "markdown",
   "metadata": {},
   "source": [
    "2.5"
   ]
  },
  {
   "cell_type": "code",
   "execution_count": 44,
   "metadata": {},
   "outputs": [
    {
     "name": "stdout",
     "output_type": "stream",
     "text": [
      "['Ivan', 'Masha', 'Sasha', 'Olga', 'O', 'l', 'g', 'a'] 8\n"
     ]
    }
   ],
   "source": [
    "students = ['Ivan', 'Masha', 'Sasha']\n",
    "students += ['Olga']\n",
    "students += 'Olga'\n",
    "print(students, len(students))"
   ]
  },
  {
   "cell_type": "code",
   "execution_count": 49,
   "metadata": {},
   "outputs": [
    {
     "name": "stdout",
     "output_type": "stream",
     "text": [
      "[1, 2, 3]\n",
      "[1, 10, 3]\n",
      "[20, 10, 3]\n",
      "[20, 10, 3]\n"
     ]
    }
   ],
   "source": [
    "a = [1, 2, 3]\n",
    "b = a\n",
    "print(b)\n",
    "# значения списка b?\n",
    "\n",
    "a[1] = 10\n",
    "print(b)\n",
    "# значения списка b?\n",
    "\n",
    "b[0] = 20\n",
    "print(a)\n",
    "# значения списка a?\n",
    "\n",
    "a = [5, 6]\n",
    "print(b)\n",
    "# значения списка b?"
   ]
  },
  {
   "cell_type": "markdown",
   "metadata": {},
   "source": [
    "Напишите программу, на вход которой подается одна строка с целыми числами. Программа должна вывести сумму этих чисел.\n",
    "\n",
    "Используйте метод split строки. ﻿﻿"
   ]
  },
  {
   "cell_type": "code",
   "execution_count": 56,
   "metadata": {},
   "outputs": [
    {
     "name": "stdout",
     "output_type": "stream",
     "text": [
      "4 -1 9 3\n",
      "15\n"
     ]
    }
   ],
   "source": [
    "stroka = [int(i) for i in input().split()]\n",
    "summ = 0\n",
    "for i in stroka:\n",
    "    summ += i\n",
    "print(summ)"
   ]
  },
  {
   "cell_type": "code",
   "execution_count": 65,
   "metadata": {},
   "outputs": [
    {
     "name": "stdout",
     "output_type": "stream",
     "text": [
      "4 -1 9 3\n"
     ]
    },
    {
     "ename": "TypeError",
     "evalue": "'int' object is not callable",
     "output_type": "error",
     "traceback": [
      "\u001b[0;31m---------------------------------------------------------------------------\u001b[0m",
      "\u001b[0;31mTypeError\u001b[0m                                 Traceback (most recent call last)",
      "\u001b[0;32m<ipython-input-65-9ba3dd8bd0d1>\u001b[0m in \u001b[0;36m<module>\u001b[0;34m\u001b[0m\n\u001b[1;32m      1\u001b[0m \u001b[0;31m# или\u001b[0m\u001b[0;34m\u001b[0m\u001b[0;34m\u001b[0m\u001b[0;34m\u001b[0m\u001b[0m\n\u001b[0;32m----> 2\u001b[0;31m \u001b[0mprint\u001b[0m\u001b[0;34m(\u001b[0m\u001b[0msum\u001b[0m\u001b[0;34m(\u001b[0m\u001b[0mint\u001b[0m\u001b[0;34m(\u001b[0m\u001b[0mi\u001b[0m\u001b[0;34m)\u001b[0m \u001b[0;32mfor\u001b[0m \u001b[0mi\u001b[0m \u001b[0;32min\u001b[0m \u001b[0minput\u001b[0m\u001b[0;34m(\u001b[0m\u001b[0;34m)\u001b[0m\u001b[0;34m.\u001b[0m\u001b[0msplit\u001b[0m\u001b[0;34m(\u001b[0m\u001b[0;34m)\u001b[0m\u001b[0;34m)\u001b[0m\u001b[0;34m)\u001b[0m\u001b[0;34m\u001b[0m\u001b[0;34m\u001b[0m\u001b[0m\n\u001b[0m",
      "\u001b[0;31mTypeError\u001b[0m: 'int' object is not callable"
     ]
    }
   ],
   "source": [
    "# или \n",
    "print(sum(int(i) for i in input().split()))"
   ]
  },
  {
   "cell_type": "markdown",
   "metadata": {},
   "source": [
    "Напишите программу, на вход которой подаётся список чисел одной строкой. Программа должна для каждого элемента этого списка вывести сумму двух его соседей. Для элементов списка, являющихся крайними, одним из соседей считается элемент, находящий на противоположном конце этого списка. Например, если на вход подаётся список \"1 3 5 6 10\", то на выход ожидается список \"13 6 9 15 7\" (без кавычек).\n",
    "\n",
    "Если на вход пришло только одно число, надо вывести его же.\n",
    "\n",
    "Вывод должен содержать одну строку с числами нового списка, разделёнными пробелом."
   ]
  },
  {
   "cell_type": "code",
   "execution_count": 101,
   "metadata": {},
   "outputs": [
    {
     "name": "stdout",
     "output_type": "stream",
     "text": [
      "1 2 3\n",
      "5 4 3\n"
     ]
    }
   ],
   "source": [
    "stroka = [int(i) for i in input().split()]\n",
    "n = []\n",
    "k = []\n",
    "d = []\n",
    "summ = 0\n",
    "if len(stroka) == 1:\n",
    "    print(*stroka)\n",
    "else:\n",
    "    for i in range(len(stroka)):\n",
    "        if i == 0:\n",
    "            summ = int(stroka[i+1])+int(stroka[-1])\n",
    "            k.append(summ)\n",
    "        elif i == len(stroka)-1:\n",
    "            summ = int(stroka[0])+int(stroka[i-1])\n",
    "            d.append(summ)\n",
    "        else:\n",
    "            summ = int(stroka[i+1])+int(stroka[i-1])\n",
    "            n.append(summ)\n",
    "    l = k+n+d\n",
    "    print(*l)\n",
    "    \n",
    "    "
   ]
  },
  {
   "cell_type": "code",
   "execution_count": 102,
   "metadata": {},
   "outputs": [
    {
     "name": "stdout",
     "output_type": "stream",
     "text": [
      "1 2 3\n",
      "5 4 3 "
     ]
    }
   ],
   "source": [
    "# или\n",
    "lst= [int(i) for i in input().split()]\n",
    "if len(lst) == 1:\n",
    "        print(lst[0])\n",
    "else:\n",
    "    for i in range(len(lst)):\n",
    "        print(lst[i-1] + lst[i+1-len(lst)], end=' ')"
   ]
  },
  {
   "cell_type": "code",
   "execution_count": null,
   "metadata": {},
   "outputs": [],
   "source": []
  },
  {
   "cell_type": "code",
   "execution_count": null,
   "metadata": {},
   "outputs": [],
   "source": []
  },
  {
   "cell_type": "markdown",
   "metadata": {},
   "source": [
    "Напишите программу, которая принимает на вход список чисел в одной строке и выводит на экран в одну строку значения, которые повторяются в нём более одного раза.\n",
    "\n",
    "Для решения задачи может пригодиться метод sort списка.\n",
    "\n",
    "Выводимые числа не должны повторяться, порядок их вывода может быть произвольным.\n"
   ]
  },
  {
   "cell_type": "code",
   "execution_count": 86,
   "metadata": {},
   "outputs": [
    {
     "name": "stdout",
     "output_type": "stream",
     "text": [
      "1 1 2 2 3 3\n",
      "1 2 3 "
     ]
    }
   ],
   "source": [
    "stroka = [int(i) for i in input().split()]\n",
    "stroka.sort()\n",
    "k = []\n",
    "for i in range(len(stroka)-1):\n",
    "    if stroka[i] == stroka[i+1]:\n",
    "        k.append(stroka[i])\n",
    "set(k)\n",
    "for j in set(k):\n",
    "    print(j, end=\" \")"
   ]
  },
  {
   "cell_type": "markdown",
   "metadata": {},
   "source": [
    "2.6"
   ]
  },
  {
   "cell_type": "markdown",
   "metadata": {},
   "source": [
    "ИГРА САПЕР"
   ]
  },
  {
   "cell_type": "code",
   "execution_count": 108,
   "metadata": {},
   "outputs": [
    {
     "name": "stdout",
     "output_type": "stream",
     "text": [
      "5 4 4\n",
      "1 2\n",
      "1 1\n",
      "2 3\n",
      "4 1\n",
      "**21\n",
      "23*1\n",
      "1211\n",
      "*1..\n",
      "11..\n"
     ]
    }
   ],
   "source": [
    "n, m, k = (int(i) for i in input().split())     #строки, столбцы, кол-во мин\n",
    "a = [[0 for j in range(m)] for i in range(n)]    # пустая таблица из 0\n",
    "for i in range(k):    # перебираем кол-во мин\n",
    "    rw, cl = (int(i) - 1 for i in input().split())# записываем строку и столбец одной мины при каждом проходе\n",
    "    a[rw][cl] = -1# записываем мину по координатам столбца и колонны\n",
    "#дальше нам нужно заглянуть в каждую пустую ячейку, и находясь в ячейке пробежаться еще вокруг и поискать мины\n",
    "for i in range(n):# перебираем строки\n",
    "    for j in range(m):# перебираем столбцы \n",
    "        if a[i][j] == 0:# ячейка без мины\n",
    "            for di in range(-1, 2):# перебираем соседние строки (просто цифры -1 0 1)\n",
    "                for dj in range(-1, 2):# перебираем соседние столбцы (просто цифры -1 0 1)\n",
    "                    ai = i + di# координата по строке\n",
    "                    aj = j + dj# координата по столбцу\n",
    "                    if 0 <= ai < n and 0 <= aj < m and a[ai][aj] == -1:# проверка вхождения в диапазон и мины по соседству\n",
    "                        a[i][j] += 1\n",
    "# в поле 5х4 цикл пройдется 5 * 4 = 20 раз по ячейкам и, находясь в ячейке еще по 9(3*3) проходов вокруг. Всего будет 20*9=180 раз (или n*m*9 раз)\n",
    "# так же можно искать не пустые ячейки, а ячейки с миной (if a[i][j] == -1) и вокруг прибавлять единицу\n",
    "# код почти такой же, меняется последнее условие:\n",
    "'''\n",
    "                    if 0 <= ai < n and 0 <= aj < m:\n",
    "                        if a[ai][aj] != -1: # проверка, чтобы не увеличивать на 1 мину\n",
    "                            a[ai][aj] += 1\n",
    "'''\n",
    "# дальше просто заменяем -1 на \"*\" и 0 на \".\"\n",
    "for i in range(n):\n",
    "    for j in range(m):\n",
    "        if a[i][j] == -1:\n",
    "            print('*', end='')\n",
    "        elif a[i][j] == 0:\n",
    "            print('.', end='')\n",
    "        else:\n",
    "            print(a[i][j], end='')\n",
    "    print()"
   ]
  },
  {
   "cell_type": "markdown",
   "metadata": {},
   "source": [
    "Напишите программу, которая считывает с консоли числа (по одному в строке) до тех пор, пока сумма введённых чисел не будет равна 0 и сразу после этого выводит сумму квадратов всех считанных чисел.\n",
    "\n",
    "Гарантируется, что в какой-то момент сумма введённых чисел окажется равной 0, после этого считывание продолжать не нужно.\n",
    "\n",
    "В примере мы считываем числа 1, -3, 5, -6, -10, 13; в этот момент замечаем, что сумма этих чисел равна нулю и выводим сумму их квадратов, не обращая внимания на то, что остались ещё не прочитанные значения.﻿"
   ]
  },
  {
   "cell_type": "code",
   "execution_count": 116,
   "metadata": {},
   "outputs": [
    {
     "name": "stdout",
     "output_type": "stream",
     "text": [
      "14\n",
      "-14\n",
      "392\n"
     ]
    }
   ],
   "source": [
    "i = int(input())\n",
    "summ = i\n",
    "summ1 = i**2\n",
    "while summ != 0:\n",
    "    i = int(input())\n",
    "    summ += i\n",
    "    summ1 += i**2\n",
    "print(summ1)"
   ]
  },
  {
   "cell_type": "markdown",
   "metadata": {},
   "source": [
    "Напишите программу, которая считывает список чисел 𝑙𝑠𝑡 из первой строки и число 𝑥 из второй строки, которая выводит все позиции, на которых встречается число 𝑥 в переданном списке 𝑙𝑠𝑡.\n",
    "\n",
    "Позиции нумеруются с нуля, если число 𝑥 не встречается в списке, вывести строку \"Отсутствует\" (без кавычек, с большой буквы).\n",
    "\n",
    "Позиции должны быть выведены в одну строку, по возрастанию абсолютного значения."
   ]
  },
  {
   "cell_type": "code",
   "execution_count": 126,
   "metadata": {},
   "outputs": [
    {
     "name": "stdout",
     "output_type": "stream",
     "text": [
      "5 5 \n",
      "5\n",
      "0 1 "
     ]
    }
   ],
   "source": [
    "lst = [int(i) for i in input().split()]\n",
    "x = int(input())\n",
    "for j in range(len(lst)):\n",
    "    if x == lst[j]:\n",
    "        print(j, end = ' ')\n",
    "if x not in lst:\n",
    "    print('Отсутствует')"
   ]
  },
  {
   "cell_type": "markdown",
   "metadata": {},
   "source": [
    "Напишите программу, которая выводит часть последовательности 1 2 2 3 3 3 4 4 4 4 5 5 5 5 5 ... (число повторяется столько раз, чему равно). На вход программе передаётся неотрицательное целое число n — столько элементов последовательности должна отобразить программа. На выходе ожидается последовательность чисел, записанных через пробел в одну строку.\n",
    "\n",
    "Например, если n = 7, то программа должна вывести 1 2 2 3 3 3 4."
   ]
  },
  {
   "cell_type": "code",
   "execution_count": 66,
   "metadata": {},
   "outputs": [
    {
     "name": "stdout",
     "output_type": "stream",
     "text": [
      "47\n",
      "1 2 2 3 3 3 4 4 4 4 5 5 5 5 5 6 6 6 6 6 6 7 7 7 7 7 7 7 8 8 8 8 8 8 8 8 9 9 9 9 9 9 9 9 9 10 10 "
     ]
    }
   ],
   "source": [
    "x = int(input())\n",
    "s = []\n",
    "for i in range(1, x+1):\n",
    "    s.append(i)\n",
    "t = []\n",
    "for j in s:\n",
    "    t.append([j]*j)\n",
    "h = []\n",
    "for jj in t:\n",
    "    h.extend(jj)\n",
    "for jjj in range(0,len(s)):\n",
    "    print(h[jjj], end = \" \")"
   ]
  },
  {
   "cell_type": "code",
   "execution_count": 67,
   "metadata": {},
   "outputs": [
    {
     "name": "stdout",
     "output_type": "stream",
     "text": [
      "47\n",
      "1 2 2 3 3 3 4 4 4 4 5 5 5 5 5 6 6 6 6 6 6 7 7 7 7 7 7 7 8 8 8 8 8 8 8 8 9 9 9 9 9 9 9 9 9 10 10\n"
     ]
    }
   ],
   "source": [
    "# или \n",
    "n = int(input())\n",
    "a = []\n",
    "i = 0\n",
    "while len(a) < n:\n",
    "    a += [i] * i\n",
    "    i += 1\n",
    "print(*a[:n])"
   ]
  },
  {
   "cell_type": "code",
   "execution_count": 68,
   "metadata": {},
   "outputs": [
    {
     "name": "stdout",
     "output_type": "stream",
     "text": [
      "47\n",
      "1 2 2 3 3 3 4 4 4 4 5 5 5 5 5 6 6 6 6 6 6 7 7 7 7 7 7 7 8 8 8 8 8 8 8 8 9 9 9 9 9 9 9 9 9 10 10 "
     ]
    }
   ],
   "source": [
    "# или\n",
    "n = int(input())\n",
    "count = 0\n",
    "curr = 1\n",
    "for i in range(n):\n",
    "    print(curr, end=' ')\n",
    "    count += 1\n",
    "    if count == curr:\n",
    "        curr += 1\n",
    "        count = 0"
   ]
  },
  {
   "cell_type": "code",
   "execution_count": null,
   "metadata": {},
   "outputs": [],
   "source": []
  }
 ],
 "metadata": {
  "kernelspec": {
   "display_name": "Python 3",
   "language": "python",
   "name": "python3"
  },
  "language_info": {
   "codemirror_mode": {
    "name": "ipython",
    "version": 3
   },
   "file_extension": ".py",
   "mimetype": "text/x-python",
   "name": "python",
   "nbconvert_exporter": "python",
   "pygments_lexer": "ipython3",
   "version": "3.7.3"
  }
 },
 "nbformat": 4,
 "nbformat_minor": 2
}
