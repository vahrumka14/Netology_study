{
  "nbformat": 4,
  "nbformat_minor": 0,
  "metadata": {
    "colab": {
      "name": "Untitled2.ipynb",
      "version": "0.3.2",
      "provenance": []
    },
    "kernelspec": {
      "name": "python3",
      "display_name": "Python 3"
    }
  },
  "cells": [
    {
      "cell_type": "code",
      "metadata": {
        "id": "zl5g0USZZMvI",
        "colab_type": "code",
        "colab": {
          "base_uri": "https://localhost:8080/",
          "height": 85
        },
        "outputId": "1a4892f1-2fb9-4a1b-b75b-1592008361f6"
      },
      "source": [
        "import numpy as np\n",
        "A = np.array([[1, 4, 5],\n",
        "    [-5, 8, 9],\n",
        "    [-6, 7, 11]]) # создаем матрицу 3х3 \n",
        "B = np.linalg.eig(A) # находим с.в. и с.ч. через np.linalg.eig\n",
        "B\n",
        "# обратите внимание, что B- tuple. Его компоненты имеют тип np.ndarray, с которыми вы уже должны быть знакомы. Нулевая компонента B[0] - вектор собственных чисел, а компонента B[1] - матрица, столбцами которой являются собственные вектора, \n",
        "# соответствующие данному числу.; в данном случае собственному числу 13.59373746 соответствует собственный вектор [0.45145779, 0.62348353, 0.63832135]"
      ],
      "execution_count": 39,
      "outputs": [
        {
          "output_type": "execute_result",
          "data": {
            "text/plain": [
              "(array([13.59373746,  5.03209301,  1.37416954]),\n",
              " array([[ 0.45145779,  0.83661458,  0.10258363],\n",
              "        [ 0.62348353,  0.44632316, -0.77299039],\n",
              "        [ 0.63832135,  0.31760303,  0.62606905]]))"
            ]
          },
          "metadata": {
            "tags": []
          },
          "execution_count": 39
        }
      ]
    },
    {
      "cell_type": "code",
      "metadata": {
        "id": "fTnKUWS0nhA5",
        "colab_type": "code",
        "colab": {}
      },
      "source": [
        ""
      ],
      "execution_count": 0,
      "outputs": []
    }
  ]
}