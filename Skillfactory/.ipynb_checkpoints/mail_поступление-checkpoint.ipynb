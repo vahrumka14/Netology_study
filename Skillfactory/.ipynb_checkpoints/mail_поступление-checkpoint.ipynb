{
 "cells": [
  {
   "cell_type": "code",
   "execution_count": 2,
   "metadata": {},
   "outputs": [
    {
     "data": {
      "text/plain": [
       "(array([26.49049718 +0.j        ,  9.2430373 +17.27994153j,\n",
       "         9.2430373 -17.27994153j, -8.97657178 +0.j        ]),\n",
       " array([[ 0.14472369+0.j        , -0.63356045+0.j        ,\n",
       "         -0.63356045-0.j        , -0.5213907 +0.j        ],\n",
       "        [ 0.37000995+0.j        ,  0.36856735+0.35826837j,\n",
       "          0.36856735-0.35826837j, -0.3389735 +0.j        ],\n",
       "        [ 0.64476336+0.j        ,  0.1765797 +0.04200156j,\n",
       "          0.1765797 -0.04200156j,  0.66816816+0.j        ],\n",
       "        [-0.65301447+0.j        ,  0.08418438+0.54256014j,\n",
       "          0.08418438-0.54256014j,  0.40841158+0.j        ]]))"
      ]
     },
     "execution_count": 2,
     "metadata": {},
     "output_type": "execute_result"
    }
   ],
   "source": [
    "import numpy as np\n",
    "A = np.array([[0, -16, 5, -10],\n",
    "    [16, 10, 16, 10 ],\n",
    "    [10, 16, 10, -5],\n",
    "     [10, -5, -10, 16]        ]) \n",
    "B = np.linalg.eig(A)\n",
    "B"
   ]
  },
  {
   "cell_type": "code",
   "execution_count": 3,
   "metadata": {},
   "outputs": [
    {
     "data": {
      "text/plain": [
       "(array([25.7496211  +0.j        ,  8.97731626+16.95569863j,\n",
       "         8.97731626-16.95569863j, -8.70425362 +0.j        ]),\n",
       " array([[ 0.15818708+0.j        ,  0.62729446+0.j        ,\n",
       "          0.62729446-0.j        , -0.50649006+0.j        ],\n",
       "        [ 0.37184308+0.j        , -0.38288338-0.35578034j,\n",
       "         -0.38288338+0.35578034j, -0.35216569+0.j        ],\n",
       "        [ 0.65672425+0.j        , -0.15485871-0.04143469j,\n",
       "         -0.15485871+0.04143469j,  0.665524  +0.j        ],\n",
       "        [-0.63672822+0.j        , -0.06624635-0.55066842j,\n",
       "         -0.06624635+0.55066842j,  0.42014873+0.j        ]]))"
      ]
     },
     "execution_count": 3,
     "metadata": {},
     "output_type": "execute_result"
    }
   ],
   "source": [
    "import numpy as np\n",
    "A = np.array([[0, -15, 5, -10],\n",
    "    [15, 10, 15, 10 ],\n",
    "    [10, 15, 10, -5],\n",
    "     [10, -5, -10, 15]        ]) \n",
    "B = np.linalg.eig(A)\n",
    "B"
   ]
  },
  {
   "cell_type": "code",
   "execution_count": 4,
   "metadata": {},
   "outputs": [
    {
     "data": {
      "text/plain": [
       "(array([25.01133318 +0.j        ,  8.69555996+16.60411894j,\n",
       "         8.69555996-16.60411894j, -8.4024531  +0.j        ]),\n",
       " array([[-0.17295993+0.j        ,  0.62024343+0.j        ,\n",
       "          0.62024343-0.j        , -0.48980062+0.j        ],\n",
       "        [-0.37246071+0.j        , -0.39855184-0.35189046j,\n",
       "         -0.39855184+0.35189046j, -0.36635984+0.j        ],\n",
       "        [-0.6689527 +0.j        , -0.13195009-0.04139226j,\n",
       "         -0.13195009+0.04139226j,  0.66240091+0.j        ],\n",
       "        [ 0.6195645 +0.j        , -0.04733887-0.55790905j,\n",
       "         -0.04733887+0.55790905j,  0.43255156+0.j        ]]))"
      ]
     },
     "execution_count": 4,
     "metadata": {},
     "output_type": "execute_result"
    }
   ],
   "source": [
    "import numpy as np\n",
    "A = np.array([[0, -14, 5, -10],\n",
    "    [14, 10, 14, 10 ],\n",
    "    [10, 14, 10, -5],\n",
    "     [10, -5, -10, 14]        ]) \n",
    "B = np.linalg.eig(A)\n",
    "B"
   ]
  },
  {
   "cell_type": "code",
   "execution_count": 5,
   "metadata": {},
   "outputs": [
    {
     "data": {
      "text/plain": [
       "(array([24.27549217 +0.j        ,  8.39568367+16.22265008j,\n",
       "         8.39568367-16.22265008j, -8.06685952 +0.j        ]),\n",
       " array([[ 0.1891445 +0.j        , -0.61226212+0.j        ,\n",
       "         -0.61226212-0.j        , -0.47098884+0.j        ],\n",
       "        [ 0.37155796+0.j        ,  0.4157265 +0.34625034j,\n",
       "          0.4157265 -0.34625034j, -0.38171801+0.j        ],\n",
       "        [ 0.68150687+0.j        ,  0.10774656+0.04207949j,\n",
       "          0.10774656-0.04207949j,  0.65868707+0.j        ],\n",
       "        [-0.60142949+0.j        ,  0.02746474+0.56416571j,\n",
       "          0.02746474-0.56416571j,  0.44563686+0.j        ]]))"
      ]
     },
     "execution_count": 5,
     "metadata": {},
     "output_type": "execute_result"
    }
   ],
   "source": [
    "import numpy as np\n",
    "A = np.array([[0, -13, 5, -10],\n",
    "    [13, 10, 13, 10 ],\n",
    "    [10, 13, 10, -5],\n",
    "     [10, -5, -10, 13]        ]) \n",
    "B = np.linalg.eig(A)\n",
    "B"
   ]
  },
  {
   "cell_type": "code",
   "execution_count": 6,
   "metadata": {},
   "outputs": [
    {
     "data": {
      "text/plain": [
       "(array([-1.98896683+10.55671934j, -1.98896683-10.55671934j,\n",
       "        15.69747173 +0.j        ,  8.28046194 +0.j        ]),\n",
       " array([[ 0.04219001+0.47744191j,  0.04219001-0.47744191j,\n",
       "         -0.38676053+0.j        ,  0.01928717+0.j        ],\n",
       "        [-0.32008278-0.28184448j, -0.32008278+0.28184448j,\n",
       "          0.32656663+0.j        , -0.92321065+0.j        ],\n",
       "        [ 0.33773603-0.1008456j ,  0.33773603+0.1008456j ,\n",
       "         -0.84211166+0.j        ,  0.3494405 +0.j        ],\n",
       "        [ 0.68128149+0.j        ,  0.68128149-0.j        ,\n",
       "          0.18606042+0.j        ,  0.15874959+0.j        ]]))"
      ]
     },
     "execution_count": 6,
     "metadata": {},
     "output_type": "execute_result"
    }
   ],
   "source": [
    "import numpy as np\n",
    "A = np.array([[0, 0, 5, -10],\n",
    "    [0, 10, 0, 10 ],\n",
    "    [10, 0, 10, -5],\n",
    "     [10, -5, -10, 0]        ]) \n",
    "B = np.linalg.eig(A)\n",
    "B"
   ]
  },
  {
   "cell_type": "code",
   "execution_count": 7,
   "metadata": {},
   "outputs": [
    {
     "data": {
      "text/plain": [
       "(array([-2.63208451 +0.j        ,  4.55931816+11.53798936j,\n",
       "         4.55931816-11.53798936j, 18.51344819 +0.j        ]),\n",
       " array([[-0.1465548 +0.j        ,  0.471011  -0.08401903j,\n",
       "          0.471011  +0.08401903j, -0.37450434+0.j        ],\n",
       "        [-0.59848715+0.j        , -0.61914139+0.j        ,\n",
       "         -0.61914139-0.j        , -0.22186088+0.j        ],\n",
       "        [ 0.56862231+0.j        ,  0.10346891-0.16721012j,\n",
       "          0.10346891+0.16721012j, -0.80589505+0.j        ],\n",
       "        [ 0.54498027+0.j        ,  0.04961518-0.5887501j ,\n",
       "          0.04961518+0.5887501j ,  0.40131959+0.j        ]]))"
      ]
     },
     "execution_count": 7,
     "metadata": {},
     "output_type": "execute_result"
    }
   ],
   "source": [
    "import numpy as np\n",
    "A = np.array([[0, -5, 5, -10],\n",
    "    [5, 10, 5, 10 ],\n",
    "    [10, 5, 10, -5],\n",
    "     [10, -5, -10, 5]        ]) \n",
    "B = np.linalg.eig(A)\n",
    "B"
   ]
  },
  {
   "cell_type": "code",
   "execution_count": 8,
   "metadata": {},
   "outputs": [
    {
     "data": {
      "text/plain": [
       "(array([22.08247281 +0.j        ,  7.35444521+14.86495793j,\n",
       "         7.35444521-14.86495793j, -6.79136323 +0.j        ]),\n",
       " array([[ 0.24714361+0.j        , -0.58066219+0.j        ,\n",
       "         -0.58066219-0.j        ,  0.39693278+0.j        ],\n",
       "        [ 0.35517773+0.j        ,  0.47790637+0.31326298j,\n",
       "          0.47790637-0.31326298j,  0.43715446+0.j        ],\n",
       "        [ 0.7219539 +0.j        ,  0.02628459+0.05176097j,\n",
       "          0.02628459-0.05176097j, -0.64226115+0.j        ],\n",
       "        [-0.53995499+0.j        , -0.03771925+0.5757694j ,\n",
       "         -0.03771925-0.5757694j , -0.48871357+0.j        ]]))"
      ]
     },
     "execution_count": 8,
     "metadata": {},
     "output_type": "execute_result"
    }
   ],
   "source": [
    "import numpy as np\n",
    "A = np.array([[0, -10, 5, -10],\n",
    "    [10, 10, 10, 10 ],\n",
    "    [10, 10, 10, -5],\n",
    "     [10, -5, -10, 10]        ]) \n",
    "B = np.linalg.eig(A)\n",
    "B"
   ]
  },
  {
   "cell_type": "code",
   "execution_count": 9,
   "metadata": {},
   "outputs": [
    {
     "data": {
      "text/plain": [
       "(array([-6.24125317 +0.j        ,  6.9421181 +14.32587558j,\n",
       "         6.9421181 -14.32587558j, 21.35701697 +0.j        ]),\n",
       " array([[-0.36390948+0.j        , -0.48912141+0.28595292j,\n",
       "         -0.48912141-0.28595292j, -0.26986447+0.j        ],\n",
       "        [-0.45998001+0.j        ,  0.5822178 +0.j        ,\n",
       "          0.5822178 -0.j        , -0.34286286+0.j        ],\n",
       "        [ 0.63409059+0.j        ,  0.0264025 +0.05323071j,\n",
       "          0.0264025 -0.05323071j, -0.73674178+0.j        ],\n",
       "        [ 0.50390218+0.j        ,  0.23841169+0.5288127j ,\n",
       "          0.23841169-0.5288127j ,  0.51655569+0.j        ]]))"
      ]
     },
     "execution_count": 9,
     "metadata": {},
     "output_type": "execute_result"
    }
   ],
   "source": [
    "import numpy as np\n",
    "A = np.array([[0, -9, 5, -10],\n",
    "    [9, 10, 9, 10 ],\n",
    "    [10, 9, 10, -5],\n",
    "     [10, -5, -10, 9]        ]) \n",
    "B = np.linalg.eig(A)\n",
    "B"
   ]
  },
  {
   "cell_type": "code",
   "execution_count": 10,
   "metadata": {},
   "outputs": [
    {
     "data": {
      "text/plain": [
       "(array([-6.24125317 +0.j        ,  6.9421181 +14.32587558j,\n",
       "         6.9421181 -14.32587558j, 21.35701697 +0.j        ]),\n",
       " array([[-0.36390948+0.j        , -0.48912141+0.28595292j,\n",
       "         -0.48912141-0.28595292j, -0.26986447+0.j        ],\n",
       "        [-0.45998001+0.j        ,  0.5822178 +0.j        ,\n",
       "          0.5822178 -0.j        , -0.34286286+0.j        ],\n",
       "        [ 0.63409059+0.j        ,  0.0264025 +0.05323071j,\n",
       "          0.0264025 -0.05323071j, -0.73674178+0.j        ],\n",
       "        [ 0.50390218+0.j        ,  0.23841169+0.5288127j ,\n",
       "          0.23841169-0.5288127j ,  0.51655569+0.j        ]]))"
      ]
     },
     "execution_count": 10,
     "metadata": {},
     "output_type": "execute_result"
    }
   ],
   "source": [
    "import numpy as np\n",
    "A = np.array([[0, -9, 5, -10],\n",
    "    [9, 10, 9, 10 ],\n",
    "    [10, 9, 10, -5],\n",
    "     [10, -5, -10, 9]        ]) \n",
    "B = np.linalg.eig(A)\n",
    "B"
   ]
  },
  {
   "cell_type": "code",
   "execution_count": 12,
   "metadata": {},
   "outputs": [
    {
     "data": {
      "text/plain": [
       "(array([ 7.35438966+12.2705268j,  7.35438966-12.2705268j,\n",
       "        11.35576485 +0.j       , -0.06454417 +0.j       ]),\n",
       " array([[-0.64008567+0.j        , -0.64008567-0.j        ,\n",
       "          0.46964862+0.j        , -0.28332463+0.j        ],\n",
       "        [ 0.18214637+0.16346764j,  0.18214637-0.16346764j,\n",
       "          0.45339901+0.j        , -0.64852205+0.j        ],\n",
       "        [-0.20561541-0.46098384j, -0.20561541+0.46098384j,\n",
       "          0.53185673+0.j        ,  0.39583466+0.j        ],\n",
       "        [ 0.25864841+0.45684633j,  0.25864841-0.45684633j,\n",
       "         -0.53943297+0.j        ,  0.58520187+0.j        ]]))"
      ]
     },
     "execution_count": 12,
     "metadata": {},
     "output_type": "execute_result"
    }
   ],
   "source": [
    "import numpy as np\n",
    "A = np.array([[0, -6, 5, -10],\n",
    "    [6, 10, 6, 10 ],\n",
    "    [-10, 6, 10, -5],\n",
    "     [10, -5, -10, 6]        ]) \n",
    "B = np.linalg.eig(A)\n",
    "B"
   ]
  },
  {
   "cell_type": "code",
   "execution_count": 36,
   "metadata": {},
   "outputs": [
    {
     "data": {
      "text/plain": [
       "[<matplotlib.lines.Line2D at 0x7f1be26456d8>]"
      ]
     },
     "execution_count": 36,
     "metadata": {},
     "output_type": "execute_result"
    },
    {
     "data": {
      "image/png": "[encoded data removed]",
      "text/plain": [
       "<Figure size 432x288 with 1 Axes>"
      ]
     },
     "metadata": {
      "needs_background": "light"
     },
     "output_type": "display_data"
    }
   ],
   "source": [
    "import numpy as np\n",
    "import matplotlib.pyplot as plt\n",
    "import pandas as pd\n",
    "%matplotlib inline\n",
    "x = np.arange(-0.9,0.9)\n",
    "y = x+1\n",
    "y1 = -x*x-1\n",
    "y2 = -2*x\n",
    "\n",
    "plt.figure()\n",
    "plt.plot(x, y)\n",
    "plt.plot(x, y1)\n",
    "plt.plot(x, y2)\n",
    "\n"
   ]
  },
  {
   "cell_type": "code",
   "execution_count": 37,
   "metadata": {},
   "outputs": [
    {
     "data": {
      "text/plain": [
       "1.025"
      ]
     },
     "execution_count": 37,
     "metadata": {},
     "output_type": "execute_result"
    }
   ],
   "source": [
    "0.525+0.5"
   ]
  },
  {
   "cell_type": "code",
   "execution_count": 38,
   "metadata": {},
   "outputs": [
    {
     "data": {
      "text/plain": [
       "0.5"
      ]
     },
     "execution_count": 38,
     "metadata": {},
     "output_type": "execute_result"
    }
   ],
   "source": [
    "1.525-1.025"
   ]
  },
  {
   "cell_type": "code",
   "execution_count": 39,
   "metadata": {},
   "outputs": [
    {
     "data": {
      "text/plain": [
       "1.300625"
      ]
     },
     "execution_count": 39,
     "metadata": {},
     "output_type": "execute_result"
    }
   ],
   "source": [
    "1.025*1.025+0.5*0.5"
   ]
  },
  {
   "cell_type": "code",
   "execution_count": 41,
   "metadata": {},
   "outputs": [
    {
     "data": {
      "text/plain": [
       "1.1404494727957044"
      ]
     },
     "execution_count": 41,
     "metadata": {},
     "output_type": "execute_result"
    }
   ],
   "source": [
    "1.300625**0.5"
   ]
  },
  {
   "cell_type": "code",
   "execution_count": 44,
   "metadata": {},
   "outputs": [
    {
     "data": {
      "text/plain": [
       "[<matplotlib.lines.Line2D at 0x7f1be23bfb00>]"
      ]
     },
     "execution_count": 44,
     "metadata": {},
     "output_type": "execute_result"
    },
    {
     "data": {
      "image/png": "[encoded data removed]",
      "text/plain": [
       "<Figure size 432x288 with 1 Axes>"
      ]
     },
     "metadata": {
      "needs_background": "light"
     },
     "output_type": "display_data"
    }
   ],
   "source": [
    "import numpy as np\n",
    "import matplotlib.pyplot as plt\n",
    "import pandas as pd\n",
    "%matplotlib inline\n",
    "x = np.arange(-4,4)\n",
    "y1 = 0\n",
    "x1 = 0\n",
    "y2 = (4*x**6-x**2)*0.5\n",
    "x3 = (4*y**6-y**2)*0.5\n",
    "\n",
    "plt.figure()\n",
    "plt.plot(y1)\n",
    "plt.plot(x1)\n",
    "plt.plot(x, y2)"
   ]
  },
  {
   "cell_type": "code",
   "execution_count": 59,
   "metadata": {},
   "outputs": [
    {
     "data": {
      "text/plain": [
       "-2.0104901604099115"
      ]
     },
     "execution_count": 59,
     "metadata": {},
     "output_type": "execute_result"
    }
   ],
   "source": [
    "0.5*np.exp((-2*0.5))*(np.exp(2)*(0.5-2)-0.5+0.5*np.log(0.5)+1)"
   ]
  },
  {
   "cell_type": "code",
   "execution_count": 56,
   "metadata": {},
   "outputs": [
    {
     "data": {
      "text/plain": [
       "0.18393972058572117"
      ]
     },
     "execution_count": 56,
     "metadata": {},
     "output_type": "execute_result"
    }
   ],
   "source": [
    ".5*np.exp(float(-2*0.5))"
   ]
  },
  {
   "cell_type": "code",
   "execution_count": 61,
   "metadata": {},
   "outputs": [
    {
     "ename": "NameError",
     "evalue": "name 'a' is not defined",
     "output_type": "error",
     "traceback": [
      "\u001b[0;31m---------------------------------------------------------------------------\u001b[0m",
      "\u001b[0;31mNameError\u001b[0m                                 Traceback (most recent call last)",
      "\u001b[0;32m<ipython-input-61-2a5a32574279>\u001b[0m in \u001b[0;36m<module>\u001b[0;34m\u001b[0m\n\u001b[1;32m      1\u001b[0m \u001b[0;32mfrom\u001b[0m \u001b[0msympy\u001b[0m \u001b[0;32mimport\u001b[0m \u001b[0mdiff\u001b[0m\u001b[0;34m,\u001b[0m \u001b[0msymbols\u001b[0m\u001b[0;34m\u001b[0m\u001b[0;34m\u001b[0m\u001b[0m\n\u001b[1;32m      2\u001b[0m \u001b[0mx\u001b[0m \u001b[0;34m=\u001b[0m \u001b[0msymbols\u001b[0m\u001b[0;34m(\u001b[0m\u001b[0;34m'a'\u001b[0m\u001b[0;34m)\u001b[0m\u001b[0;34m\u001b[0m\u001b[0;34m\u001b[0m\u001b[0m\n\u001b[0;32m----> 3\u001b[0;31m \u001b[0mdiff\u001b[0m\u001b[0;34m(\u001b[0m\u001b[0;36m2\u001b[0m\u001b[0;34m*\u001b[0m\u001b[0ma\u001b[0m\u001b[0;34m*\u001b[0m\u001b[0ma\u001b[0m\u001b[0;34m-\u001b[0m\u001b[0;36m2\u001b[0m\u001b[0;34m*\u001b[0m\u001b[0ma\u001b[0m\u001b[0;34m*\u001b[0m\u001b[0mc\u001b[0m\u001b[0;34m+\u001b[0m\u001b[0;36m5\u001b[0m\u001b[0;34m*\u001b[0m\u001b[0mc\u001b[0m\u001b[0;34m*\u001b[0m\u001b[0mc\u001b[0m\u001b[0;34m+\u001b[0m\u001b[0mc\u001b[0m\u001b[0;34m**\u001b[0m\u001b[0;36m4\u001b[0m\u001b[0;34m+\u001b[0m\u001b[0;36m2\u001b[0m\u001b[0;34m*\u001b[0m\u001b[0ma\u001b[0m\u001b[0;34m*\u001b[0m\u001b[0mc\u001b[0m\u001b[0;34m*\u001b[0m\u001b[0mc\u001b[0m\u001b[0;34m+\u001b[0m\u001b[0;36m4\u001b[0m\u001b[0;34m*\u001b[0m\u001b[0ma\u001b[0m\u001b[0;34m+\u001b[0m\u001b[0;36m4\u001b[0m\u001b[0;34m)\u001b[0m\u001b[0;34m\u001b[0m\u001b[0;34m\u001b[0m\u001b[0m\n\u001b[0m",
      "\u001b[0;31mNameError\u001b[0m: name 'a' is not defined"
     ]
    }
   ],
   "source": [
    "from sympy import diff, symbols\n",
    "x = symbols('a')\n",
    "diff(2*a*a-2*a*c+5*c*c+c**4+2*a*c*c+4*a+4)"
   ]
  },
  {
   "cell_type": "code",
   "execution_count": 63,
   "metadata": {},
   "outputs": [
    {
     "ename": "SyntaxError",
     "evalue": "can't assign to operator (<ipython-input-63-5725ca5507e3>, line 6)",
     "output_type": "error",
     "traceback": [
      "\u001b[0;36m  File \u001b[0;32m\"<ipython-input-63-5725ca5507e3>\"\u001b[0;36m, line \u001b[0;32m6\u001b[0m\n\u001b[0;31m    2*x**3 = (x*x+y1*y1)**0.5\u001b[0m\n\u001b[0m                             ^\u001b[0m\n\u001b[0;31mSyntaxError\u001b[0m\u001b[0;31m:\u001b[0m can't assign to operator\n"
     ]
    }
   ],
   "source": [
    "import numpy as np\n",
    "import matplotlib.pyplot as plt\n",
    "import pandas as pd\n",
    "%matplotlib inline\n",
    "x = np.arange(-10,10)\n",
    "2*x**3 = (x*x+y1*y1)**0.5\n",
    "2*y2**3 = (x*x+y2*y2)**0.5\n",
    "\n",
    "plt.figure()\n",
    "plt.plot(x, y1)\n",
    "plt.plot(x, y2)"
   ]
  },
  {
   "cell_type": "code",
   "execution_count": 66,
   "metadata": {},
   "outputs": [
    {
     "data": {
      "text/plain": [
       "1.8137978321834365"
      ]
     },
     "execution_count": 66,
     "metadata": {},
     "output_type": "execute_result"
    }
   ],
   "source": [
    "3.14159/(3**0.5)"
   ]
  },
  {
   "cell_type": "code",
   "execution_count": null,
   "metadata": {},
   "outputs": [],
   "source": []
  },
  {
   "cell_type": "code",
   "execution_count": null,
   "metadata": {},
   "outputs": [],
   "source": [
    "1/30*()"
   ]
  }
 ],
 "metadata": {
  "kernelspec": {
   "display_name": "Python 3",
   "language": "python",
   "name": "python3"
  },
  "language_info": {
   "codemirror_mode": {
    "name": "ipython",
    "version": 3
   },
   "file_extension": ".py",
   "mimetype": "text/x-python",
   "name": "python",
   "nbconvert_exporter": "python",
   "pygments_lexer": "ipython3",
   "version": "3.7.3"
  }
 },
 "nbformat": 4,
 "nbformat_minor": 2
}
