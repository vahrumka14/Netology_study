{
 "cells": [
  {
   "cell_type": "markdown",
   "metadata": {},
   "source": [
    "# Подбор параметров"
   ]
  },
  {
   "cell_type": "markdown",
   "metadata": {},
   "source": [
    "Взять boston house-prices datase (sklearn.datasets.load_boston) и \n",
    "для 5 любых алгоритмов регрессии подобрать параметры и вывести итоговое качество."
   ]
  },
  {
   "cell_type": "code",
   "execution_count": 1,
   "metadata": {},
   "outputs": [],
   "source": [
    "import pandas as pd"
   ]
  },
  {
   "cell_type": "code",
   "execution_count": 2,
   "metadata": {},
   "outputs": [],
   "source": [
    "from sklearn.datasets import load_boston"
   ]
  },
  {
   "cell_type": "code",
   "execution_count": 3,
   "metadata": {},
   "outputs": [],
   "source": [
    "boston = load_boston()"
   ]
  },
  {
   "cell_type": "code",
   "execution_count": 4,
   "metadata": {},
   "outputs": [],
   "source": [
    "X = boston['data']"
   ]
  },
  {
   "cell_type": "code",
   "execution_count": 5,
   "metadata": {},
   "outputs": [],
   "source": [
    "y = boston['target']"
   ]
  },
  {
   "cell_type": "code",
   "execution_count": 6,
   "metadata": {},
   "outputs": [
    {
     "data": {
      "text/plain": [
       "((506, 13), (506,))"
      ]
     },
     "execution_count": 6,
     "metadata": {},
     "output_type": "execute_result"
    }
   ],
   "source": [
    "X.shape, y.shape"
   ]
  },
  {
   "cell_type": "code",
   "execution_count": 7,
   "metadata": {},
   "outputs": [],
   "source": [
    "from sklearn.model_selection import train_test_split"
   ]
  },
  {
   "cell_type": "code",
   "execution_count": 8,
   "metadata": {},
   "outputs": [],
   "source": [
    "X_train, X_test, y_train, y_test = train_test_split(X, y, test_size=0.2)"
   ]
  },
  {
   "cell_type": "code",
   "execution_count": 9,
   "metadata": {},
   "outputs": [],
   "source": [
    "from sklearn.preprocessing import StandardScaler"
   ]
  },
  {
   "cell_type": "code",
   "execution_count": 10,
   "metadata": {},
   "outputs": [],
   "source": [
    "scaler = StandardScaler()\n",
    "X_train = scaler.fit_transform(X_train)\n",
    "X_test = scaler.transform(X_test)"
   ]
  },
  {
   "cell_type": "code",
   "execution_count": 11,
   "metadata": {},
   "outputs": [],
   "source": [
    "from sklearn.model_selection import GridSearchCV"
   ]
  },
  {
   "cell_type": "code",
   "execution_count": 12,
   "metadata": {},
   "outputs": [],
   "source": [
    "# 1-я модель - Ridge"
   ]
  },
  {
   "cell_type": "code",
   "execution_count": 13,
   "metadata": {},
   "outputs": [],
   "source": [
    "from sklearn.linear_model import Ridge"
   ]
  },
  {
   "cell_type": "code",
   "execution_count": 14,
   "metadata": {},
   "outputs": [],
   "source": [
    "# Используем в качестве гиперпараметра alpha. alpha - это сила регуляризации. \n",
    "# Большие значения указывают на более сильную регуляризацию. \n",
    "# alpha соответствует 1/(2C) в других линейных моделях, например, LogisticRegression"
   ]
  },
  {
   "cell_type": "code",
   "execution_count": 15,
   "metadata": {},
   "outputs": [],
   "source": [
    "grid_params = {'alpha': [0.001, 0.01, 0.1, 1, 10, 100]}"
   ]
  },
  {
   "cell_type": "code",
   "execution_count": 16,
   "metadata": {},
   "outputs": [
    {
     "data": {
      "text/plain": [
       "GridSearchCV(cv=10, estimator=Ridge(),\n",
       "             param_grid={'alpha': [0.001, 0.01, 0.1, 1, 10, 100]},\n",
       "             scoring='r2')"
      ]
     },
     "execution_count": 16,
     "metadata": {},
     "output_type": "execute_result"
    }
   ],
   "source": [
    "ridge = GridSearchCV(Ridge(), param_grid=grid_params, cv=10, scoring = 'r2')\n",
    "ridge.fit(X_train, y_train)"
   ]
  },
  {
   "cell_type": "code",
   "execution_count": 17,
   "metadata": {},
   "outputs": [
    {
     "name": "stdout",
     "output_type": "stream",
     "text": [
      "Правильность на тестовом наборе: 0.673\n",
      "Наилучшие значения параметров: {'alpha': 10}\n",
      "Наилучшее значение кросс-валид. правильности: 0.715\n",
      "Наилучшая модель: Ridge(alpha=10)\n"
     ]
    }
   ],
   "source": [
    "print('Правильность на тестовом наборе: {:.3f}'.format(ridge.score(X_test, y_test)))\n",
    "print('Наилучшие значения параметров: {}'.format(ridge.best_params_))\n",
    "print('Наилучшее значение кросс-валид. правильности: {:.3f}'.format(ridge.best_score_))\n",
    "print('Наилучшая модель: {}'.format(ridge.best_estimator_))"
   ]
  },
  {
   "cell_type": "code",
   "execution_count": 18,
   "metadata": {},
   "outputs": [],
   "source": [
    "# 2-я модель KNeighborsRegressor"
   ]
  },
  {
   "cell_type": "code",
   "execution_count": 19,
   "metadata": {},
   "outputs": [],
   "source": [
    "from sklearn.neighbors import KNeighborsRegressor"
   ]
  },
  {
   "cell_type": "code",
   "execution_count": 20,
   "metadata": {},
   "outputs": [],
   "source": [
    "# Используем в качестве гиперпараметра n_neighbors - число соседей"
   ]
  },
  {
   "cell_type": "code",
   "execution_count": 21,
   "metadata": {},
   "outputs": [],
   "source": [
    "grid_params = {'n_neighbors': list(range(1, 30))}"
   ]
  },
  {
   "cell_type": "code",
   "execution_count": 22,
   "metadata": {},
   "outputs": [
    {
     "data": {
      "text/plain": [
       "GridSearchCV(cv=10, estimator=KNeighborsRegressor(),\n",
       "             param_grid={'n_neighbors': [1, 2, 3, 4, 5, 6, 7, 8, 9, 10, 11, 12,\n",
       "                                         13, 14, 15, 16, 17, 18, 19, 20, 21, 22,\n",
       "                                         23, 24, 25, 26, 27, 28, 29]},\n",
       "             scoring='r2')"
      ]
     },
     "execution_count": 22,
     "metadata": {},
     "output_type": "execute_result"
    }
   ],
   "source": [
    "knr = GridSearchCV(KNeighborsRegressor(), param_grid=grid_params, cv=10, scoring = 'r2')\n",
    "knr.fit(X_train, y_train)"
   ]
  },
  {
   "cell_type": "code",
   "execution_count": 23,
   "metadata": {},
   "outputs": [
    {
     "name": "stdout",
     "output_type": "stream",
     "text": [
      "Правильность на тестовом наборе: 0.690\n",
      "Наилучшие значения параметров: {'n_neighbors': 4}\n",
      "Наилучшее значение кросс-валид. правильности: 0.748\n",
      "Наилучшая модель: KNeighborsRegressor(n_neighbors=4)\n"
     ]
    }
   ],
   "source": [
    "print('Правильность на тестовом наборе: {:.3f}'.format(knr.score(X_test, y_test)))\n",
    "print('Наилучшие значения параметров: {}'.format(knr.best_params_))\n",
    "print('Наилучшее значение кросс-валид. правильности: {:.3f}'.format(knr.best_score_))\n",
    "print('Наилучшая модель: {}'.format(knr.best_estimator_))"
   ]
  },
  {
   "cell_type": "code",
   "execution_count": 24,
   "metadata": {},
   "outputs": [],
   "source": [
    "# 3-я модель DecisionTreeRegressor"
   ]
  },
  {
   "cell_type": "code",
   "execution_count": 25,
   "metadata": {},
   "outputs": [],
   "source": [
    "from sklearn.tree import DecisionTreeRegressor"
   ]
  },
  {
   "cell_type": "code",
   "execution_count": 26,
   "metadata": {},
   "outputs": [],
   "source": [
    "# Используем в качестве гиперпараметра max_depth - максимальная глубина дерева"
   ]
  },
  {
   "cell_type": "code",
   "execution_count": 27,
   "metadata": {},
   "outputs": [],
   "source": [
    "grid_params = {'max_depth': list(range(1, 20))}"
   ]
  },
  {
   "cell_type": "code",
   "execution_count": 28,
   "metadata": {},
   "outputs": [
    {
     "data": {
      "text/plain": [
       "GridSearchCV(cv=10, estimator=DecisionTreeRegressor(),\n",
       "             param_grid={'max_depth': [1, 2, 3, 4, 5, 6, 7, 8, 9, 10, 11, 12,\n",
       "                                       13, 14, 15, 16, 17, 18, 19]},\n",
       "             scoring='r2')"
      ]
     },
     "execution_count": 28,
     "metadata": {},
     "output_type": "execute_result"
    }
   ],
   "source": [
    "tree = GridSearchCV(DecisionTreeRegressor(), param_grid=grid_params, cv=10, scoring = 'r2')\n",
    "tree.fit(X_train, y_train)"
   ]
  },
  {
   "cell_type": "code",
   "execution_count": 29,
   "metadata": {},
   "outputs": [
    {
     "name": "stdout",
     "output_type": "stream",
     "text": [
      "Правильность на тестовом наборе: 0.776\n",
      "Наилучшие значения параметров: {'max_depth': 5}\n",
      "Наилучшее значение кросс-валид. правильности: 0.766\n",
      "Наилучшая модель: DecisionTreeRegressor(max_depth=5)\n"
     ]
    }
   ],
   "source": [
    "print('Правильность на тестовом наборе: {:.3f}'.format(tree.score(X_test, y_test)))\n",
    "print('Наилучшие значения параметров: {}'.format(tree.best_params_))\n",
    "print('Наилучшее значение кросс-валид. правильности: {:.3f}'.format(tree.best_score_))\n",
    "print('Наилучшая модель: {}'.format(tree.best_estimator_))"
   ]
  },
  {
   "cell_type": "code",
   "execution_count": 30,
   "metadata": {},
   "outputs": [],
   "source": [
    "# 4-я модель RandomForestRegressor"
   ]
  },
  {
   "cell_type": "code",
   "execution_count": 31,
   "metadata": {},
   "outputs": [],
   "source": [
    "from sklearn.ensemble import RandomForestRegressor"
   ]
  },
  {
   "cell_type": "code",
   "execution_count": 32,
   "metadata": {},
   "outputs": [],
   "source": [
    "# Используем в качестве гиперпараметров:\n",
    "# n_estimators - количество деревьев в лесу\n",
    "# max_depth - максимальная глубина дерева"
   ]
  },
  {
   "cell_type": "code",
   "execution_count": 33,
   "metadata": {},
   "outputs": [],
   "source": [
    "grid_params = {'max_depth': list(range(1, 20)), 'n_estimators': [30, 50, 70, 100, 120]}"
   ]
  },
  {
   "cell_type": "code",
   "execution_count": 34,
   "metadata": {},
   "outputs": [
    {
     "data": {
      "text/plain": [
       "GridSearchCV(cv=10, estimator=RandomForestRegressor(),\n",
       "             param_grid={'max_depth': [1, 2, 3, 4, 5, 6, 7, 8, 9, 10, 11, 12,\n",
       "                                       13, 14, 15, 16, 17, 18, 19],\n",
       "                         'n_estimators': [30, 50, 70, 100, 120]},\n",
       "             scoring='r2')"
      ]
     },
     "execution_count": 34,
     "metadata": {},
     "output_type": "execute_result"
    }
   ],
   "source": [
    "forest = GridSearchCV(RandomForestRegressor(), param_grid=grid_params, cv=10, scoring = 'r2')\n",
    "forest.fit(X_train, y_train)"
   ]
  },
  {
   "cell_type": "code",
   "execution_count": 35,
   "metadata": {},
   "outputs": [
    {
     "name": "stdout",
     "output_type": "stream",
     "text": [
      "Правильность на тестовом наборе: 0.869\n",
      "Наилучшие значения параметров: {'max_depth': 11, 'n_estimators': 30}\n",
      "Наилучшее значение кросс-валид. правильности: 0.856\n",
      "Наилучшая модель: RandomForestRegressor(max_depth=11, n_estimators=30)\n"
     ]
    }
   ],
   "source": [
    "print('Правильность на тестовом наборе: {:.3f}'.format(forest.score(X_test, y_test)))\n",
    "print('Наилучшие значения параметров: {}'.format(forest.best_params_))\n",
    "print('Наилучшее значение кросс-валид. правильности: {:.3f}'.format(forest.best_score_))\n",
    "print('Наилучшая модель: {}'.format(forest.best_estimator_))"
   ]
  },
  {
   "cell_type": "code",
   "execution_count": 36,
   "metadata": {},
   "outputs": [],
   "source": [
    "# 5-я модель SGDRegressor"
   ]
  },
  {
   "cell_type": "code",
   "execution_count": 37,
   "metadata": {},
   "outputs": [],
   "source": [
    "from sklearn.linear_model import SGDRegressor"
   ]
  },
  {
   "cell_type": "code",
   "execution_count": 38,
   "metadata": {},
   "outputs": [],
   "source": [
    "# Используем в качестве гиперпараметров:\n",
    "# penalty - штраф\n",
    "# loss - функция потерь\n",
    "# learning_rate - шаг обучения"
   ]
  },
  {
   "cell_type": "code",
   "execution_count": 39,
   "metadata": {},
   "outputs": [],
   "source": [
    "grid_params = {'penalty': ['l2', 'l1', 'elasticnet'], \\\n",
    "              'loss': ['squared_loss', 'huber', 'epsilon_insensitive','squared_epsilon_insensitive'], \\\n",
    "              'learning_rate': ['constant', 'optimal', 'invscaling', 'adaptive']}"
   ]
  },
  {
   "cell_type": "code",
   "execution_count": 40,
   "metadata": {},
   "outputs": [
    {
     "data": {
      "text/plain": [
       "GridSearchCV(cv=10, estimator=SGDRegressor(),\n",
       "             param_grid={'learning_rate': ['constant', 'optimal', 'invscaling',\n",
       "                                           'adaptive'],\n",
       "                         'loss': ['squared_loss', 'huber',\n",
       "                                  'epsilon_insensitive',\n",
       "                                  'squared_epsilon_insensitive'],\n",
       "                         'penalty': ['l2', 'l1', 'elasticnet']},\n",
       "             scoring='r2')"
      ]
     },
     "execution_count": 40,
     "metadata": {},
     "output_type": "execute_result"
    }
   ],
   "source": [
    "sgd = GridSearchCV(SGDRegressor(), param_grid=grid_params, cv=10, scoring = 'r2')\n",
    "sgd.fit(X_train, y_train)"
   ]
  },
  {
   "cell_type": "code",
   "execution_count": 41,
   "metadata": {},
   "outputs": [
    {
     "name": "stdout",
     "output_type": "stream",
     "text": [
      "Правильность на тестовом наборе: 0.676\n",
      "Наилучшие значения параметров: {'learning_rate': 'invscaling', 'loss': 'squared_epsilon_insensitive', 'penalty': 'elasticnet'}\n",
      "Наилучшее значение кросс-валид. правильности: 0.716\n",
      "Наилучшая модель: SGDRegressor(loss='squared_epsilon_insensitive', penalty='elasticnet')\n"
     ]
    }
   ],
   "source": [
    "print('Правильность на тестовом наборе: {:.3f}'.format(sgd.score(X_test, y_test)))\n",
    "print('Наилучшие значения параметров: {}'.format(sgd.best_params_))\n",
    "print('Наилучшее значение кросс-валид. правильности: {:.3f}'.format(sgd.best_score_))\n",
    "print('Наилучшая модель: {}'.format(sgd.best_estimator_))"
   ]
  },
  {
   "cell_type": "code",
   "execution_count": 42,
   "metadata": {},
   "outputs": [],
   "source": [
    "estimators = {\n",
    "    'Ridge': ridge,\n",
    "    'KNeighborsRegressor': knr,\n",
    "    'DecisionTreeRegressor': tree,\n",
    "    'RandomForestRegressor': forest,\n",
    "    'SGDRegressor': sgd\n",
    "}"
   ]
  },
  {
   "cell_type": "code",
   "execution_count": 43,
   "metadata": {},
   "outputs": [
    {
     "name": "stdout",
     "output_type": "stream",
     "text": [
      "Model: Ridge CV R2: 0.715 Validation R2: 0.673\n",
      "Model: KNeighborsRegressor CV R2: 0.748 Validation R2: 0.690\n",
      "Model: DecisionTreeRegressor CV R2: 0.766 Validation R2: 0.776\n",
      "Model: RandomForestRegressor CV R2: 0.856 Validation R2: 0.869\n",
      "Model: SGDRegressor CV R2: 0.716 Validation R2: 0.676\n"
     ]
    }
   ],
   "source": [
    "for k in estimators:\n",
    "    v = estimators[k]\n",
    "    print('Model:',k, \"CV R2: {:.3f}\".format(v.best_score_), \"Validation R2: {:.3f}\".format(v.best_estimator_.score(X_test, y_test)))"
   ]
  },
  {
   "cell_type": "code",
   "execution_count": 44,
   "metadata": {},
   "outputs": [],
   "source": [
    "# Наибольшее качество показывает модель RandomForestRegressor"
   ]
  },
  {
   "cell_type": "code",
   "execution_count": null,
   "metadata": {},
   "outputs": [],
   "source": []
  }
 ],
 "metadata": {
  "kernelspec": {
   "display_name": "Python 3",
   "language": "python",
   "name": "python3"
  },
  "language_info": {
   "codemirror_mode": {
    "name": "ipython",
    "version": 3
   },
   "file_extension": ".py",
   "mimetype": "text/x-python",
   "name": "python",
   "nbconvert_exporter": "python",
   "pygments_lexer": "ipython3",
   "version": "3.7.3"
  }
 },
 "nbformat": 4,
 "nbformat_minor": 2
}
