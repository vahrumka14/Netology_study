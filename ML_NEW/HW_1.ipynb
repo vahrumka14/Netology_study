{
 "cells": [
  {
   "cell_type": "code",
   "execution_count": 1,
   "metadata": {},
   "outputs": [],
   "source": [
    "import pandas as pd\n",
    "import numpy as np\n",
    "from sklearn.datasets.samples_generator import make_blobs\n",
    "from matplotlib import pyplot as plt\n",
    "import warnings\n",
    "warnings.filterwarnings(\"ignore\")"
   ]
  },
  {
   "cell_type": "code",
   "execution_count": 2,
   "metadata": {},
   "outputs": [],
   "source": [
    "x, y = make_blobs(n_samples=100, centers=2, n_features=2)"
   ]
  },
  {
   "cell_type": "code",
   "execution_count": 3,
   "metadata": {},
   "outputs": [
    {
     "data": {
      "text/plain": [
       "(100, 2)"
      ]
     },
     "execution_count": 3,
     "metadata": {},
     "output_type": "execute_result"
    }
   ],
   "source": [
    "x.shape"
   ]
  },
  {
   "cell_type": "code",
   "execution_count": 4,
   "metadata": {},
   "outputs": [
    {
     "data": {
      "text/plain": [
       "(100,)"
      ]
     },
     "execution_count": 4,
     "metadata": {},
     "output_type": "execute_result"
    }
   ],
   "source": [
    "y.shape"
   ]
  },
  {
   "cell_type": "code",
   "execution_count": 5,
   "metadata": {},
   "outputs": [
    {
     "data": {
      "text/plain": [
       "<matplotlib.collections.PathCollection at 0x7f6996f6b860>"
      ]
     },
     "execution_count": 5,
     "metadata": {},
     "output_type": "execute_result"
    },
    {
     "data": {
      "image/png": "[encoded data removed]",
      "text/plain": [
       "<Figure size 432x288 with 1 Axes>"
      ]
     },
     "metadata": {
      "needs_background": "light"
     },
     "output_type": "display_data"
    }
   ],
   "source": [
    "plt.scatter(x[:, 0], x[:, 1], s=20, c=np.array(['red', 'green'])[y])"
   ]
  },
  {
   "cell_type": "code",
   "execution_count": 6,
   "metadata": {},
   "outputs": [
    {
     "data": {
      "text/plain": [
       "array([[ 1.        ,  4.2974137 , -4.99910238],\n",
       "       [ 1.        ,  5.80328823, -3.25113664],\n",
       "       [ 1.        ,  6.48535438, -5.11391776],\n",
       "       [ 1.        ,  6.31962488, -4.35297073],\n",
       "       [ 1.        ,  4.58604321,  4.73408119]])"
      ]
     },
     "execution_count": 6,
     "metadata": {},
     "output_type": "execute_result"
    }
   ],
   "source": [
    "# преобразуем x к следующему виду\n",
    "x = np.c_[ np.ones(x.shape[0]), x]\n",
    "x[:5]"
   ]
  },
  {
   "cell_type": "code",
   "execution_count": 7,
   "metadata": {},
   "outputs": [
    {
     "data": {
      "text/plain": [
       "array([0, 0, 0, 0, 1])"
      ]
     },
     "execution_count": 7,
     "metadata": {},
     "output_type": "execute_result"
    }
   ],
   "source": [
    "y[:5]"
   ]
  },
  {
   "cell_type": "code",
   "execution_count": 8,
   "metadata": {},
   "outputs": [],
   "source": [
    "# задаем шаг градиентного спуска\n",
    "alpha = 0.01"
   ]
  },
  {
   "cell_type": "code",
   "execution_count": 9,
   "metadata": {},
   "outputs": [],
   "source": [
    "def gradient_descent_logistic_regression(alpha, x, y, numIterations):\n",
    "    \"\"\"\n",
    "    Функция реализует алгоритм градиентного спуска. На каждом шаге выводится значение функции потерь\n",
    "    \"\"\"\n",
    "    \n",
    "    m = x.shape[0] # кол-во элементов\n",
    "    theta = np.ones(3) # веса модели, изначально задаем как [1, 1, 1]\n",
    "    x_transpose = x.transpose() # транспонируем матрицу x\n",
    "    \n",
    "    for iter in range( 0, numIterations ):\n",
    "        hypothesis = np.dot(x, theta) # матричное произведение\n",
    "\n",
    "        a = 1/(1+np.exp(-hypothesis)) # функция сигмоиды\n",
    "        \n",
    "        loss = -y*np.log(a)-(1-y)*np.log(1-a) # loss функция\n",
    "        \n",
    "        J = np.sum(loss)/m # суммарная функция потерь\n",
    "        print(iter , 'J: ', J)\n",
    "        \n",
    "        gradient = (a-y)@x   \n",
    "        \n",
    "        theta = theta - alpha * gradient \n",
    "    \n",
    "    return theta"
   ]
  },
  {
   "cell_type": "code",
   "execution_count": 10,
   "metadata": {},
   "outputs": [
    {
     "name": "stdout",
     "output_type": "stream",
     "text": [
      "0 J:  1.008796172883742\n",
      "1 J:  6.602816941447138e-05\n",
      "2 J:  6.589266727000325e-05\n",
      "3 J:  6.57577966604913e-05\n",
      "4 J:  6.562355315266543e-05\n",
      "5 J:  6.548993235468457e-05\n",
      "6 J:  6.535692991565942e-05\n",
      "7 J:  6.522454152512595e-05\n",
      "8 J:  6.509276291262006e-05\n",
      "9 J:  6.496158984718358e-05\n",
      "10 J:  6.483101813696325e-05\n",
      "11 J:  6.47010436286968e-05\n",
      "12 J:  6.457166220725987e-05\n",
      "13 J:  6.444286979537069e-05\n",
      "14 J:  6.431466235292288e-05\n",
      "15 J:  6.418703587678117e-05\n",
      "16 J:  6.405998640021195e-05\n",
      "17 J:  6.39335099925657e-05\n",
      "18 J:  6.380760275880647e-05\n",
      "19 J:  6.368226083914221e-05\n",
      "20 J:  6.35574804085741e-05\n",
      "21 J:  6.34332576765981e-05\n",
      "22 J:  6.330958888675427e-05\n",
      "23 J:  6.318647031623286e-05\n",
      "24 J:  6.306389827552136e-05\n",
      "25 J:  6.294186910805623e-05\n",
      "26 J:  6.282037918982873e-05\n",
      "27 J:  6.269942492901123e-05\n",
      "28 J:  6.257900276559756e-05\n",
      "29 J:  6.245910917112359e-05\n",
      "30 J:  6.233974064822335e-05\n",
      "31 J:  6.222089373033393e-05\n",
      "32 J:  6.210256498135281e-05\n",
      "33 J:  6.198475099531498e-05\n",
      "34 J:  6.186744839602251e-05\n",
      "35 J:  6.175065383677839e-05\n",
      "36 J:  6.163436400002934e-05\n",
      "37 J:  6.151857559701978e-05\n",
      "38 J:  6.140328536754464e-05\n",
      "39 J:  6.128849007961331e-05\n",
      "40 J:  6.117418652910804e-05\n",
      "41 J:  6.106037153957562e-05\n",
      "42 J:  6.0947041961800385e-05\n",
      "43 J:  6.0834194673635814e-05\n",
      "44 J:  6.072182657963972e-05\n",
      "45 J:  6.060993461079934e-05\n",
      "46 J:  6.049851572429194e-05\n",
      "47 J:  6.038756690314116e-05\n",
      "48 J:  6.0277085156008715e-05\n",
      "49 J:  6.0167067516886174e-05\n",
      "50 J:  6.005751104478578e-05\n",
      "51 J:  5.994841282360209e-05\n",
      "52 J:  5.983976996169175e-05\n",
      "53 J:  5.973157959174516e-05\n",
      "54 J:  5.962383887047729e-05\n",
      "55 J:  5.951654497835174e-05\n",
      "56 J:  5.940969511941252e-05\n",
      "57 J:  5.9303286520945924e-05\n",
      "58 J:  5.919731643327465e-05\n",
      "59 J:  5.9091782129577386e-05\n",
      "60 J:  5.898668090555072e-05\n",
      "61 J:  5.8882010079252066e-05\n",
      "62 J:  5.877776699081381e-05\n",
      "63 J:  5.867394900230515e-05\n",
      "64 J:  5.8570553497374056e-05\n",
      "65 J:  5.84675778811513e-05\n",
      "66 J:  5.83650195799713e-05\n",
      "67 J:  5.8262876041118444e-05\n",
      "68 J:  5.8161144732755634e-05\n",
      "69 J:  5.805982314352182e-05\n",
      "70 J:  5.795890878246833e-05\n",
      "71 J:  5.7858399178758564e-05\n",
      "72 J:  5.7758291881563195e-05\n",
      "73 J:  5.765858445978449e-05\n",
      "74 J:  5.755927450186249e-05\n",
      "75 J:  5.7460359615589296e-05\n",
      "76 J:  5.73618374279521e-05\n",
      "77 J:  5.726370558489726e-05\n",
      "78 J:  5.716596175112475e-05\n",
      "79 J:  5.70686036099597e-05\n",
      "80 J:  5.697162886312805e-05\n",
      "81 J:  5.6875035230582774e-05\n",
      "82 J:  5.677882045033145e-05\n",
      "83 J:  5.668298227823822e-05\n",
      "84 J:  5.658751848785359e-05\n",
      "85 J:  5.649242687028522e-05\n",
      "86 J:  5.639770523393219e-05\n",
      "87 J:  5.630335140442694e-05\n",
      "88 J:  5.620936322435064e-05\n",
      "89 J:  5.611573855318623e-05\n",
      "90 J:  5.6022475267050514e-05\n",
      "91 J:  5.592957125857719e-05\n",
      "92 J:  5.5837024436812126e-05\n",
      "93 J:  5.574483272692448e-05\n",
      "94 J:  5.565299407017621e-05\n",
      "95 J:  5.556150642368874e-05\n",
      "96 J:  5.547036776031264e-05\n",
      "97 J:  5.53795760685119e-05\n",
      "98 J:  5.528912935216486e-05\n",
      "99 J:  5.5199025630413974e-05\n"
     ]
    }
   ],
   "source": [
    "theta = gradient_descent_logistic_regression(alpha, x, y, 100)"
   ]
  },
  {
   "cell_type": "code",
   "execution_count": 11,
   "metadata": {},
   "outputs": [
    {
     "data": {
      "text/plain": [
       "array([ 0.61852575, -0.86147461,  2.48142551])"
      ]
     },
     "execution_count": 11,
     "metadata": {},
     "output_type": "execute_result"
    }
   ],
   "source": [
    "theta"
   ]
  },
  {
   "cell_type": "code",
   "execution_count": 12,
   "metadata": {},
   "outputs": [
    {
     "data": {
      "text/plain": [
       "array([-15.48848721, -12.4483131 , -17.65824836, -15.62724324,\n",
       "         8.41503579, -12.81302006,   9.17774356, -14.57985861,\n",
       "        10.97937143, -12.1520585 ,  12.89496952, -12.73717472,\n",
       "         9.04974269,  10.52299714,  15.14864648,   6.9249269 ,\n",
       "       -16.88316951, -13.47305288, -14.28606425,  11.88302434,\n",
       "       -10.42578102,  10.44527282,  12.18040836,   9.55812744,\n",
       "         8.64643377, -11.99217127,  12.40116301,   9.78401541,\n",
       "        10.91177165,  10.4740778 , -10.6756211 ,  14.75594539,\n",
       "       -12.17465237, -17.25946045, -14.45369186, -15.44103053,\n",
       "        14.23190513, -11.83575362, -11.3511434 , -13.41654666,\n",
       "         7.73375088, -19.80011136, -19.12872776, -17.1823034 ,\n",
       "       -10.01636225,   9.48742304,  13.30685611,  18.07560814,\n",
       "       -13.02955118,   8.77193886,  10.95952603,  14.78371887,\n",
       "       -12.72263846,   9.99046756,  14.35782586, -12.1571609 ,\n",
       "       -10.31338746,  -9.34167861,  10.51459827,   9.44821039,\n",
       "       -11.70030947, -11.23305297, -10.56990214, -11.77813576,\n",
       "       -11.81513435, -11.54853059, -16.0621356 , -10.82698966,\n",
       "        13.02400244, -13.43577357, -18.01566393, -10.36144527,\n",
       "        -8.76204209,  10.58014853,   8.75603233,   6.50937274,\n",
       "        10.00698719,  10.80223151, -13.8527982 ,  10.58322993,\n",
       "       -11.38562567, -10.15246267,  16.85921718,  11.13848447,\n",
       "         9.34677542,   9.97382973, -14.77715072,  12.02537437,\n",
       "        -9.99287111,  10.71900582,  16.16881559, -15.54643865,\n",
       "        12.46497529,  12.15340168,   8.89572807,  11.1505289 ,\n",
       "        12.85165154, -13.98695703, -15.60818144,  10.11475803])"
      ]
     },
     "execution_count": 12,
     "metadata": {},
     "output_type": "execute_result"
    }
   ],
   "source": [
    "y_pred = x@theta\n",
    "y_pred"
   ]
  },
  {
   "cell_type": "code",
   "execution_count": 13,
   "metadata": {},
   "outputs": [],
   "source": [
    "def get_labels(y_pred, treshhold=0.5):\n",
    "    y_corr = []\n",
    "    for i in y_pred:\n",
    "        if i >= treshhold:\n",
    "            y_corr.append(1)\n",
    "        else:\n",
    "            y_corr.append(0)\n",
    "    return y_corr"
   ]
  },
  {
   "cell_type": "code",
   "execution_count": 14,
   "metadata": {},
   "outputs": [],
   "source": [
    "y_pred2 = get_labels(y_pred)"
   ]
  },
  {
   "cell_type": "code",
   "execution_count": 15,
   "metadata": {},
   "outputs": [
    {
     "name": "stdout",
     "output_type": "stream",
     "text": [
      "(0, 0)\n",
      "(0, 0)\n",
      "(0, 0)\n",
      "(0, 0)\n",
      "(1, 1)\n",
      "(0, 0)\n",
      "(1, 1)\n",
      "(0, 0)\n",
      "(1, 1)\n",
      "(0, 0)\n",
      "(1, 1)\n",
      "(0, 0)\n",
      "(1, 1)\n",
      "(1, 1)\n",
      "(1, 1)\n",
      "(1, 1)\n",
      "(0, 0)\n",
      "(0, 0)\n",
      "(0, 0)\n",
      "(1, 1)\n",
      "(0, 0)\n",
      "(1, 1)\n",
      "(1, 1)\n",
      "(1, 1)\n",
      "(1, 1)\n",
      "(0, 0)\n",
      "(1, 1)\n",
      "(1, 1)\n",
      "(1, 1)\n",
      "(1, 1)\n",
      "(0, 0)\n",
      "(1, 1)\n",
      "(0, 0)\n",
      "(0, 0)\n",
      "(0, 0)\n",
      "(0, 0)\n",
      "(1, 1)\n",
      "(0, 0)\n",
      "(0, 0)\n",
      "(0, 0)\n",
      "(1, 1)\n",
      "(0, 0)\n",
      "(0, 0)\n",
      "(0, 0)\n",
      "(0, 0)\n",
      "(1, 1)\n",
      "(1, 1)\n",
      "(1, 1)\n",
      "(0, 0)\n",
      "(1, 1)\n",
      "(1, 1)\n",
      "(1, 1)\n",
      "(0, 0)\n",
      "(1, 1)\n",
      "(1, 1)\n",
      "(0, 0)\n",
      "(0, 0)\n",
      "(0, 0)\n",
      "(1, 1)\n",
      "(1, 1)\n",
      "(0, 0)\n",
      "(0, 0)\n",
      "(0, 0)\n",
      "(0, 0)\n",
      "(0, 0)\n",
      "(0, 0)\n",
      "(0, 0)\n",
      "(0, 0)\n",
      "(1, 1)\n",
      "(0, 0)\n",
      "(0, 0)\n",
      "(0, 0)\n",
      "(0, 0)\n",
      "(1, 1)\n",
      "(1, 1)\n",
      "(1, 1)\n",
      "(1, 1)\n",
      "(1, 1)\n",
      "(0, 0)\n",
      "(1, 1)\n",
      "(0, 0)\n",
      "(0, 0)\n",
      "(1, 1)\n",
      "(1, 1)\n",
      "(1, 1)\n",
      "(1, 1)\n",
      "(0, 0)\n",
      "(1, 1)\n",
      "(0, 0)\n",
      "(1, 1)\n",
      "(1, 1)\n",
      "(0, 0)\n",
      "(1, 1)\n",
      "(1, 1)\n",
      "(1, 1)\n",
      "(1, 1)\n",
      "(1, 1)\n",
      "(0, 0)\n",
      "(0, 0)\n",
      "(1, 1)\n"
     ]
    }
   ],
   "source": [
    "for i in zip(y_pred2, y):\n",
    "    print(i)"
   ]
  },
  {
   "cell_type": "code",
   "execution_count": 16,
   "metadata": {},
   "outputs": [
    {
     "name": "stdout",
     "output_type": "stream",
     "text": [
      "              precision    recall  f1-score   support\n",
      "\n",
      "           0       1.00      1.00      1.00        50\n",
      "           1       1.00      1.00      1.00        50\n",
      "\n",
      "    accuracy                           1.00       100\n",
      "   macro avg       1.00      1.00      1.00       100\n",
      "weighted avg       1.00      1.00      1.00       100\n",
      "\n"
     ]
    }
   ],
   "source": [
    "from sklearn.metrics import classification_report\n",
    "print(classification_report(y_pred2,y))"
   ]
  },
  {
   "cell_type": "markdown",
   "metadata": {},
   "source": [
    "# Используем готовые методы"
   ]
  },
  {
   "cell_type": "code",
   "execution_count": 17,
   "metadata": {},
   "outputs": [],
   "source": [
    "from sklearn.linear_model import LogisticRegression"
   ]
  },
  {
   "cell_type": "code",
   "execution_count": 18,
   "metadata": {},
   "outputs": [],
   "source": [
    "model = LogisticRegression()"
   ]
  },
  {
   "cell_type": "code",
   "execution_count": 19,
   "metadata": {},
   "outputs": [],
   "source": [
    "model.fit( x, y )\n",
    "predictions = model.predict_proba( x )"
   ]
  },
  {
   "cell_type": "code",
   "execution_count": 20,
   "metadata": {},
   "outputs": [
    {
     "data": {
      "text/plain": [
       "array([[9.99446581e-01, 5.53419125e-04],\n",
       "       [9.96130126e-01, 3.86987426e-03],\n",
       "       [9.99704295e-01, 2.95705079e-04],\n",
       "       [9.99174355e-01, 8.25645176e-04],\n",
       "       [5.96377347e-03, 9.94036227e-01]])"
      ]
     },
     "execution_count": 20,
     "metadata": {},
     "output_type": "execute_result"
    }
   ],
   "source": [
    "predictions[:5]"
   ]
  },
  {
   "cell_type": "code",
   "execution_count": 21,
   "metadata": {},
   "outputs": [
    {
     "data": {
      "text/plain": [
       "1.0"
      ]
     },
     "execution_count": 21,
     "metadata": {},
     "output_type": "execute_result"
    }
   ],
   "source": [
    "model.score(x, y)"
   ]
  },
  {
   "cell_type": "code",
   "execution_count": 22,
   "metadata": {},
   "outputs": [
    {
     "data": {
      "text/plain": [
       "array([[-0.02474889, -0.21822292,  1.30254372]])"
      ]
     },
     "execution_count": 22,
     "metadata": {},
     "output_type": "execute_result"
    }
   ],
   "source": [
    "# коэффициенты модели\n",
    "model.coef_"
   ]
  },
  {
   "cell_type": "code",
   "execution_count": 23,
   "metadata": {},
   "outputs": [
    {
     "data": {
      "text/plain": [
       "array([ 0.61852575, -0.86147461,  2.48142551])"
      ]
     },
     "execution_count": 23,
     "metadata": {},
     "output_type": "execute_result"
    }
   ],
   "source": [
    "# коэффициенты \"ручного\" способа\n",
    "theta"
   ]
  },
  {
   "cell_type": "code",
   "execution_count": 24,
   "metadata": {},
   "outputs": [
    {
     "data": {
      "text/plain": [
       "array([0, 0, 0, 0, 1, 0, 1, 0, 1, 0, 1, 0, 1, 1, 1, 1, 0, 0, 0, 1, 0, 1,\n",
       "       1, 1, 1, 0, 1, 1, 1, 1, 0, 1, 0, 0, 0, 0, 1, 0, 0, 0, 1, 0, 0, 0,\n",
       "       0, 1, 1, 1, 0, 1, 1, 1, 0, 1, 1, 0, 0, 0, 1, 1, 0, 0, 0, 0, 0, 0,\n",
       "       0, 0, 1, 0, 0, 0, 0, 1, 1, 1, 1, 1, 0, 1, 0, 0, 1, 1, 1, 1, 0, 1,\n",
       "       0, 1, 1, 0, 1, 1, 1, 1, 1, 0, 0, 1])"
      ]
     },
     "execution_count": 24,
     "metadata": {},
     "output_type": "execute_result"
    }
   ],
   "source": [
    "y_pred_model = model.predict(x)\n",
    "y_pred_model"
   ]
  },
  {
   "cell_type": "code",
   "execution_count": 25,
   "metadata": {},
   "outputs": [
    {
     "name": "stdout",
     "output_type": "stream",
     "text": [
      "              precision    recall  f1-score   support\n",
      "\n",
      "           0       1.00      1.00      1.00        50\n",
      "           1       1.00      1.00      1.00        50\n",
      "\n",
      "    accuracy                           1.00       100\n",
      "   macro avg       1.00      1.00      1.00       100\n",
      "weighted avg       1.00      1.00      1.00       100\n",
      "\n"
     ]
    }
   ],
   "source": [
    "print(classification_report(y_pred_model,y))"
   ]
  },
  {
   "cell_type": "code",
   "execution_count": null,
   "metadata": {},
   "outputs": [],
   "source": []
  }
 ],
 "metadata": {
  "kernelspec": {
   "display_name": "Python 3",
   "language": "python",
   "name": "python3"
  },
  "language_info": {
   "codemirror_mode": {
    "name": "ipython",
    "version": 3
   },
   "file_extension": ".py",
   "mimetype": "text/x-python",
   "name": "python",
   "nbconvert_exporter": "python",
   "pygments_lexer": "ipython3",
   "version": "3.7.3"
  }
 },
 "nbformat": 4,
 "nbformat_minor": 2
}
